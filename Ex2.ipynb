{
  "nbformat": 4,
  "nbformat_minor": 0,
  "metadata": {
    "colab": {
      "name": "Ex2.ipynb",
      "provenance": [],
      "collapsed_sections": []
    },
    "kernelspec": {
      "name": "python3",
      "display_name": "Python 3"
    },
    "language_info": {
      "name": "python"
    }
  },
  "cells": [
    {
      "cell_type": "code",
      "execution_count": 1,
      "metadata": {
        "colab": {
          "base_uri": "https://localhost:8080/"
        },
        "id": "5Hqb6PIfeyi9",
        "outputId": "b98eb5d4-4b72-4abd-d13f-5f1ad1481fbd"
      },
      "outputs": [
        {
          "output_type": "stream",
          "name": "stdout",
          "text": [
            "CUDA is not available.  Training on CPU ...\n"
          ]
        }
      ],
      "source": [
        "import torch\n",
        "import torch.nn as nn\n",
        "\n",
        "import ssl\n",
        "\n",
        "import matplotlib.pyplot as plt\n",
        "\n",
        "# check if CUDA is available\n",
        "is_gpu_available = torch.cuda.is_available()\n",
        "\n",
        "if not is_gpu_available:\n",
        "    print('CUDA is not available.  Training on CPU ...')\n",
        "else:\n",
        "    print('CUDA is available!  Training on GPU ...')\n",
        "\n",
        "DEVICE = 'cuda' if torch.cuda.is_available() else 'cpu'\n",
        "\n",
        "DIR_PATH = '/content/drive/MyDrive/Deep learning 05107255/ex2_316168061_313471526'"
      ]
    },
    {
      "cell_type": "code",
      "source": [
        "from google.colab import drive\n",
        "\n",
        "drive.mount('/content/drive')"
      ],
      "metadata": {
        "colab": {
          "base_uri": "https://localhost:8080/"
        },
        "id": "HOIRwCg62eyL",
        "outputId": "8826e774-db30-4fd8-ea01-0a72363b1afb"
      },
      "execution_count": 2,
      "outputs": [
        {
          "output_type": "stream",
          "name": "stdout",
          "text": [
            "Mounted at /content/drive\n"
          ]
        }
      ]
    },
    {
      "cell_type": "code",
      "source": [
        "train_file_name = f'{DIR_PATH}/ptb.train.txt'\n",
        "val_file_name = f'{DIR_PATH}/ptb.valid.txt'\n",
        "test_file_name = f'{DIR_PATH}/ptb.test.txt'\n",
        "\n",
        "word2idx = {}\n",
        "\n",
        "def load_data(fname, dictionary={}):\n",
        "  with open(fname, 'r') as f:\n",
        "    data_str = f.read()\n",
        "  data = data_str.replace('\\n', '<eof>')\n",
        "  data = data.split()\n",
        "  print(\"Loading {}, size of data = {}\".format(fname, len(data)))\n",
        "\n",
        "  x = list()\n",
        "  vocab_idx = len(dictionary)\n",
        "  for i in range(len(data)):\n",
        "    if data[i] not in dictionary:\n",
        "      dictionary[data[i]] = vocab_idx\n",
        "      vocab_idx += 1\n",
        "    x.append(dictionary[data[i]])\n",
        "  return x\n",
        "\n"
      ],
      "metadata": {
        "id": "07nDtn7U2qaD"
      },
      "execution_count": 22,
      "outputs": []
    }
  ]
}