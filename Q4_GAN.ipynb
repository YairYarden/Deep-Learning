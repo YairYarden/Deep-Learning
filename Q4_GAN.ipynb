{
  "nbformat": 4,
  "nbformat_minor": 0,
  "metadata": {
    "colab": {
      "name": "Q4_GAN.ipynb",
      "provenance": [],
      "collapsed_sections": [],
      "toc_visible": true
    },
    "kernelspec": {
      "name": "python3",
      "display_name": "Python 3"
    },
    "language_info": {
      "name": "python"
    },
    "accelerator": "GPU",
    "widgets": {
      "application/vnd.jupyter.widget-state+json": {
        "167bf5d386d5479b98b1b59dbb993d0c": {
          "model_module": "@jupyter-widgets/controls",
          "model_name": "HBoxModel",
          "model_module_version": "1.5.0",
          "state": {
            "_dom_classes": [],
            "_model_module": "@jupyter-widgets/controls",
            "_model_module_version": "1.5.0",
            "_model_name": "HBoxModel",
            "_view_count": null,
            "_view_module": "@jupyter-widgets/controls",
            "_view_module_version": "1.5.0",
            "_view_name": "HBoxView",
            "box_style": "",
            "children": [
              "IPY_MODEL_e845ab4a75974ca49c0ffdbe3f77bd92",
              "IPY_MODEL_ae6fcbeaaafc4f51bcf55a682efa51ad",
              "IPY_MODEL_5c1aba57f1e84fd1915471564f8cf853"
            ],
            "layout": "IPY_MODEL_ebe37fafc06c4f7f9557dfbe96469e8c"
          }
        },
        "e845ab4a75974ca49c0ffdbe3f77bd92": {
          "model_module": "@jupyter-widgets/controls",
          "model_name": "HTMLModel",
          "model_module_version": "1.5.0",
          "state": {
            "_dom_classes": [],
            "_model_module": "@jupyter-widgets/controls",
            "_model_module_version": "1.5.0",
            "_model_name": "HTMLModel",
            "_view_count": null,
            "_view_module": "@jupyter-widgets/controls",
            "_view_module_version": "1.5.0",
            "_view_name": "HTMLView",
            "description": "",
            "description_tooltip": null,
            "layout": "IPY_MODEL_3bab411f8eba47498e3f4edd1319a8b9",
            "placeholder": "​",
            "style": "IPY_MODEL_937d2c8fc81a4dc6adfce8e6195e299c",
            "value": ""
          }
        },
        "ae6fcbeaaafc4f51bcf55a682efa51ad": {
          "model_module": "@jupyter-widgets/controls",
          "model_name": "FloatProgressModel",
          "model_module_version": "1.5.0",
          "state": {
            "_dom_classes": [],
            "_model_module": "@jupyter-widgets/controls",
            "_model_module_version": "1.5.0",
            "_model_name": "FloatProgressModel",
            "_view_count": null,
            "_view_module": "@jupyter-widgets/controls",
            "_view_module_version": "1.5.0",
            "_view_name": "ProgressView",
            "bar_style": "success",
            "description": "",
            "description_tooltip": null,
            "layout": "IPY_MODEL_cf2b2a856eab41988aaa734e4e5801b3",
            "max": 26421880,
            "min": 0,
            "orientation": "horizontal",
            "style": "IPY_MODEL_81a2b29502654f7c8cda9b9bfe6d504a",
            "value": 26421880
          }
        },
        "5c1aba57f1e84fd1915471564f8cf853": {
          "model_module": "@jupyter-widgets/controls",
          "model_name": "HTMLModel",
          "model_module_version": "1.5.0",
          "state": {
            "_dom_classes": [],
            "_model_module": "@jupyter-widgets/controls",
            "_model_module_version": "1.5.0",
            "_model_name": "HTMLModel",
            "_view_count": null,
            "_view_module": "@jupyter-widgets/controls",
            "_view_module_version": "1.5.0",
            "_view_name": "HTMLView",
            "description": "",
            "description_tooltip": null,
            "layout": "IPY_MODEL_9f7e60682948414c819777f2230d083f",
            "placeholder": "​",
            "style": "IPY_MODEL_bd0e44d6801e4b33a87da5765f365b0d",
            "value": " 26422272/? [00:01&lt;00:00, 23107140.90it/s]"
          }
        },
        "ebe37fafc06c4f7f9557dfbe96469e8c": {
          "model_module": "@jupyter-widgets/base",
          "model_name": "LayoutModel",
          "model_module_version": "1.2.0",
          "state": {
            "_model_module": "@jupyter-widgets/base",
            "_model_module_version": "1.2.0",
            "_model_name": "LayoutModel",
            "_view_count": null,
            "_view_module": "@jupyter-widgets/base",
            "_view_module_version": "1.2.0",
            "_view_name": "LayoutView",
            "align_content": null,
            "align_items": null,
            "align_self": null,
            "border": null,
            "bottom": null,
            "display": null,
            "flex": null,
            "flex_flow": null,
            "grid_area": null,
            "grid_auto_columns": null,
            "grid_auto_flow": null,
            "grid_auto_rows": null,
            "grid_column": null,
            "grid_gap": null,
            "grid_row": null,
            "grid_template_areas": null,
            "grid_template_columns": null,
            "grid_template_rows": null,
            "height": null,
            "justify_content": null,
            "justify_items": null,
            "left": null,
            "margin": null,
            "max_height": null,
            "max_width": null,
            "min_height": null,
            "min_width": null,
            "object_fit": null,
            "object_position": null,
            "order": null,
            "overflow": null,
            "overflow_x": null,
            "overflow_y": null,
            "padding": null,
            "right": null,
            "top": null,
            "visibility": null,
            "width": null
          }
        },
        "3bab411f8eba47498e3f4edd1319a8b9": {
          "model_module": "@jupyter-widgets/base",
          "model_name": "LayoutModel",
          "model_module_version": "1.2.0",
          "state": {
            "_model_module": "@jupyter-widgets/base",
            "_model_module_version": "1.2.0",
            "_model_name": "LayoutModel",
            "_view_count": null,
            "_view_module": "@jupyter-widgets/base",
            "_view_module_version": "1.2.0",
            "_view_name": "LayoutView",
            "align_content": null,
            "align_items": null,
            "align_self": null,
            "border": null,
            "bottom": null,
            "display": null,
            "flex": null,
            "flex_flow": null,
            "grid_area": null,
            "grid_auto_columns": null,
            "grid_auto_flow": null,
            "grid_auto_rows": null,
            "grid_column": null,
            "grid_gap": null,
            "grid_row": null,
            "grid_template_areas": null,
            "grid_template_columns": null,
            "grid_template_rows": null,
            "height": null,
            "justify_content": null,
            "justify_items": null,
            "left": null,
            "margin": null,
            "max_height": null,
            "max_width": null,
            "min_height": null,
            "min_width": null,
            "object_fit": null,
            "object_position": null,
            "order": null,
            "overflow": null,
            "overflow_x": null,
            "overflow_y": null,
            "padding": null,
            "right": null,
            "top": null,
            "visibility": null,
            "width": null
          }
        },
        "937d2c8fc81a4dc6adfce8e6195e299c": {
          "model_module": "@jupyter-widgets/controls",
          "model_name": "DescriptionStyleModel",
          "model_module_version": "1.5.0",
          "state": {
            "_model_module": "@jupyter-widgets/controls",
            "_model_module_version": "1.5.0",
            "_model_name": "DescriptionStyleModel",
            "_view_count": null,
            "_view_module": "@jupyter-widgets/base",
            "_view_module_version": "1.2.0",
            "_view_name": "StyleView",
            "description_width": ""
          }
        },
        "cf2b2a856eab41988aaa734e4e5801b3": {
          "model_module": "@jupyter-widgets/base",
          "model_name": "LayoutModel",
          "model_module_version": "1.2.0",
          "state": {
            "_model_module": "@jupyter-widgets/base",
            "_model_module_version": "1.2.0",
            "_model_name": "LayoutModel",
            "_view_count": null,
            "_view_module": "@jupyter-widgets/base",
            "_view_module_version": "1.2.0",
            "_view_name": "LayoutView",
            "align_content": null,
            "align_items": null,
            "align_self": null,
            "border": null,
            "bottom": null,
            "display": null,
            "flex": null,
            "flex_flow": null,
            "grid_area": null,
            "grid_auto_columns": null,
            "grid_auto_flow": null,
            "grid_auto_rows": null,
            "grid_column": null,
            "grid_gap": null,
            "grid_row": null,
            "grid_template_areas": null,
            "grid_template_columns": null,
            "grid_template_rows": null,
            "height": null,
            "justify_content": null,
            "justify_items": null,
            "left": null,
            "margin": null,
            "max_height": null,
            "max_width": null,
            "min_height": null,
            "min_width": null,
            "object_fit": null,
            "object_position": null,
            "order": null,
            "overflow": null,
            "overflow_x": null,
            "overflow_y": null,
            "padding": null,
            "right": null,
            "top": null,
            "visibility": null,
            "width": null
          }
        },
        "81a2b29502654f7c8cda9b9bfe6d504a": {
          "model_module": "@jupyter-widgets/controls",
          "model_name": "ProgressStyleModel",
          "model_module_version": "1.5.0",
          "state": {
            "_model_module": "@jupyter-widgets/controls",
            "_model_module_version": "1.5.0",
            "_model_name": "ProgressStyleModel",
            "_view_count": null,
            "_view_module": "@jupyter-widgets/base",
            "_view_module_version": "1.2.0",
            "_view_name": "StyleView",
            "bar_color": null,
            "description_width": ""
          }
        },
        "9f7e60682948414c819777f2230d083f": {
          "model_module": "@jupyter-widgets/base",
          "model_name": "LayoutModel",
          "model_module_version": "1.2.0",
          "state": {
            "_model_module": "@jupyter-widgets/base",
            "_model_module_version": "1.2.0",
            "_model_name": "LayoutModel",
            "_view_count": null,
            "_view_module": "@jupyter-widgets/base",
            "_view_module_version": "1.2.0",
            "_view_name": "LayoutView",
            "align_content": null,
            "align_items": null,
            "align_self": null,
            "border": null,
            "bottom": null,
            "display": null,
            "flex": null,
            "flex_flow": null,
            "grid_area": null,
            "grid_auto_columns": null,
            "grid_auto_flow": null,
            "grid_auto_rows": null,
            "grid_column": null,
            "grid_gap": null,
            "grid_row": null,
            "grid_template_areas": null,
            "grid_template_columns": null,
            "grid_template_rows": null,
            "height": null,
            "justify_content": null,
            "justify_items": null,
            "left": null,
            "margin": null,
            "max_height": null,
            "max_width": null,
            "min_height": null,
            "min_width": null,
            "object_fit": null,
            "object_position": null,
            "order": null,
            "overflow": null,
            "overflow_x": null,
            "overflow_y": null,
            "padding": null,
            "right": null,
            "top": null,
            "visibility": null,
            "width": null
          }
        },
        "bd0e44d6801e4b33a87da5765f365b0d": {
          "model_module": "@jupyter-widgets/controls",
          "model_name": "DescriptionStyleModel",
          "model_module_version": "1.5.0",
          "state": {
            "_model_module": "@jupyter-widgets/controls",
            "_model_module_version": "1.5.0",
            "_model_name": "DescriptionStyleModel",
            "_view_count": null,
            "_view_module": "@jupyter-widgets/base",
            "_view_module_version": "1.2.0",
            "_view_name": "StyleView",
            "description_width": ""
          }
        },
        "ce4ff5b850444d3394a01eda7e4293da": {
          "model_module": "@jupyter-widgets/controls",
          "model_name": "HBoxModel",
          "model_module_version": "1.5.0",
          "state": {
            "_dom_classes": [],
            "_model_module": "@jupyter-widgets/controls",
            "_model_module_version": "1.5.0",
            "_model_name": "HBoxModel",
            "_view_count": null,
            "_view_module": "@jupyter-widgets/controls",
            "_view_module_version": "1.5.0",
            "_view_name": "HBoxView",
            "box_style": "",
            "children": [
              "IPY_MODEL_5cd9729eb0374781b76c83cf459a2bc1",
              "IPY_MODEL_8e421dcb51334ac2bdf333c386fcb17b",
              "IPY_MODEL_441090eddc9a435d9470330b06b4562a"
            ],
            "layout": "IPY_MODEL_76192605cdad4e59b9a7128d33429849"
          }
        },
        "5cd9729eb0374781b76c83cf459a2bc1": {
          "model_module": "@jupyter-widgets/controls",
          "model_name": "HTMLModel",
          "model_module_version": "1.5.0",
          "state": {
            "_dom_classes": [],
            "_model_module": "@jupyter-widgets/controls",
            "_model_module_version": "1.5.0",
            "_model_name": "HTMLModel",
            "_view_count": null,
            "_view_module": "@jupyter-widgets/controls",
            "_view_module_version": "1.5.0",
            "_view_name": "HTMLView",
            "description": "",
            "description_tooltip": null,
            "layout": "IPY_MODEL_f38e65e69f2b4fb3b4a110486f178b70",
            "placeholder": "​",
            "style": "IPY_MODEL_3af50104acdb47698593cebc7caadaa2",
            "value": ""
          }
        },
        "8e421dcb51334ac2bdf333c386fcb17b": {
          "model_module": "@jupyter-widgets/controls",
          "model_name": "FloatProgressModel",
          "model_module_version": "1.5.0",
          "state": {
            "_dom_classes": [],
            "_model_module": "@jupyter-widgets/controls",
            "_model_module_version": "1.5.0",
            "_model_name": "FloatProgressModel",
            "_view_count": null,
            "_view_module": "@jupyter-widgets/controls",
            "_view_module_version": "1.5.0",
            "_view_name": "ProgressView",
            "bar_style": "success",
            "description": "",
            "description_tooltip": null,
            "layout": "IPY_MODEL_6aae7c6417544300aef6d5c77ab815bf",
            "max": 29515,
            "min": 0,
            "orientation": "horizontal",
            "style": "IPY_MODEL_3e7088f5fb834d7f960467dee764a423",
            "value": 29515
          }
        },
        "441090eddc9a435d9470330b06b4562a": {
          "model_module": "@jupyter-widgets/controls",
          "model_name": "HTMLModel",
          "model_module_version": "1.5.0",
          "state": {
            "_dom_classes": [],
            "_model_module": "@jupyter-widgets/controls",
            "_model_module_version": "1.5.0",
            "_model_name": "HTMLModel",
            "_view_count": null,
            "_view_module": "@jupyter-widgets/controls",
            "_view_module_version": "1.5.0",
            "_view_name": "HTMLView",
            "description": "",
            "description_tooltip": null,
            "layout": "IPY_MODEL_1868028112a0488fb160ba3736f0c57f",
            "placeholder": "​",
            "style": "IPY_MODEL_88579563a76842798e05195554eab613",
            "value": " 29696/? [00:00&lt;00:00, 117306.63it/s]"
          }
        },
        "76192605cdad4e59b9a7128d33429849": {
          "model_module": "@jupyter-widgets/base",
          "model_name": "LayoutModel",
          "model_module_version": "1.2.0",
          "state": {
            "_model_module": "@jupyter-widgets/base",
            "_model_module_version": "1.2.0",
            "_model_name": "LayoutModel",
            "_view_count": null,
            "_view_module": "@jupyter-widgets/base",
            "_view_module_version": "1.2.0",
            "_view_name": "LayoutView",
            "align_content": null,
            "align_items": null,
            "align_self": null,
            "border": null,
            "bottom": null,
            "display": null,
            "flex": null,
            "flex_flow": null,
            "grid_area": null,
            "grid_auto_columns": null,
            "grid_auto_flow": null,
            "grid_auto_rows": null,
            "grid_column": null,
            "grid_gap": null,
            "grid_row": null,
            "grid_template_areas": null,
            "grid_template_columns": null,
            "grid_template_rows": null,
            "height": null,
            "justify_content": null,
            "justify_items": null,
            "left": null,
            "margin": null,
            "max_height": null,
            "max_width": null,
            "min_height": null,
            "min_width": null,
            "object_fit": null,
            "object_position": null,
            "order": null,
            "overflow": null,
            "overflow_x": null,
            "overflow_y": null,
            "padding": null,
            "right": null,
            "top": null,
            "visibility": null,
            "width": null
          }
        },
        "f38e65e69f2b4fb3b4a110486f178b70": {
          "model_module": "@jupyter-widgets/base",
          "model_name": "LayoutModel",
          "model_module_version": "1.2.0",
          "state": {
            "_model_module": "@jupyter-widgets/base",
            "_model_module_version": "1.2.0",
            "_model_name": "LayoutModel",
            "_view_count": null,
            "_view_module": "@jupyter-widgets/base",
            "_view_module_version": "1.2.0",
            "_view_name": "LayoutView",
            "align_content": null,
            "align_items": null,
            "align_self": null,
            "border": null,
            "bottom": null,
            "display": null,
            "flex": null,
            "flex_flow": null,
            "grid_area": null,
            "grid_auto_columns": null,
            "grid_auto_flow": null,
            "grid_auto_rows": null,
            "grid_column": null,
            "grid_gap": null,
            "grid_row": null,
            "grid_template_areas": null,
            "grid_template_columns": null,
            "grid_template_rows": null,
            "height": null,
            "justify_content": null,
            "justify_items": null,
            "left": null,
            "margin": null,
            "max_height": null,
            "max_width": null,
            "min_height": null,
            "min_width": null,
            "object_fit": null,
            "object_position": null,
            "order": null,
            "overflow": null,
            "overflow_x": null,
            "overflow_y": null,
            "padding": null,
            "right": null,
            "top": null,
            "visibility": null,
            "width": null
          }
        },
        "3af50104acdb47698593cebc7caadaa2": {
          "model_module": "@jupyter-widgets/controls",
          "model_name": "DescriptionStyleModel",
          "model_module_version": "1.5.0",
          "state": {
            "_model_module": "@jupyter-widgets/controls",
            "_model_module_version": "1.5.0",
            "_model_name": "DescriptionStyleModel",
            "_view_count": null,
            "_view_module": "@jupyter-widgets/base",
            "_view_module_version": "1.2.0",
            "_view_name": "StyleView",
            "description_width": ""
          }
        },
        "6aae7c6417544300aef6d5c77ab815bf": {
          "model_module": "@jupyter-widgets/base",
          "model_name": "LayoutModel",
          "model_module_version": "1.2.0",
          "state": {
            "_model_module": "@jupyter-widgets/base",
            "_model_module_version": "1.2.0",
            "_model_name": "LayoutModel",
            "_view_count": null,
            "_view_module": "@jupyter-widgets/base",
            "_view_module_version": "1.2.0",
            "_view_name": "LayoutView",
            "align_content": null,
            "align_items": null,
            "align_self": null,
            "border": null,
            "bottom": null,
            "display": null,
            "flex": null,
            "flex_flow": null,
            "grid_area": null,
            "grid_auto_columns": null,
            "grid_auto_flow": null,
            "grid_auto_rows": null,
            "grid_column": null,
            "grid_gap": null,
            "grid_row": null,
            "grid_template_areas": null,
            "grid_template_columns": null,
            "grid_template_rows": null,
            "height": null,
            "justify_content": null,
            "justify_items": null,
            "left": null,
            "margin": null,
            "max_height": null,
            "max_width": null,
            "min_height": null,
            "min_width": null,
            "object_fit": null,
            "object_position": null,
            "order": null,
            "overflow": null,
            "overflow_x": null,
            "overflow_y": null,
            "padding": null,
            "right": null,
            "top": null,
            "visibility": null,
            "width": null
          }
        },
        "3e7088f5fb834d7f960467dee764a423": {
          "model_module": "@jupyter-widgets/controls",
          "model_name": "ProgressStyleModel",
          "model_module_version": "1.5.0",
          "state": {
            "_model_module": "@jupyter-widgets/controls",
            "_model_module_version": "1.5.0",
            "_model_name": "ProgressStyleModel",
            "_view_count": null,
            "_view_module": "@jupyter-widgets/base",
            "_view_module_version": "1.2.0",
            "_view_name": "StyleView",
            "bar_color": null,
            "description_width": ""
          }
        },
        "1868028112a0488fb160ba3736f0c57f": {
          "model_module": "@jupyter-widgets/base",
          "model_name": "LayoutModel",
          "model_module_version": "1.2.0",
          "state": {
            "_model_module": "@jupyter-widgets/base",
            "_model_module_version": "1.2.0",
            "_model_name": "LayoutModel",
            "_view_count": null,
            "_view_module": "@jupyter-widgets/base",
            "_view_module_version": "1.2.0",
            "_view_name": "LayoutView",
            "align_content": null,
            "align_items": null,
            "align_self": null,
            "border": null,
            "bottom": null,
            "display": null,
            "flex": null,
            "flex_flow": null,
            "grid_area": null,
            "grid_auto_columns": null,
            "grid_auto_flow": null,
            "grid_auto_rows": null,
            "grid_column": null,
            "grid_gap": null,
            "grid_row": null,
            "grid_template_areas": null,
            "grid_template_columns": null,
            "grid_template_rows": null,
            "height": null,
            "justify_content": null,
            "justify_items": null,
            "left": null,
            "margin": null,
            "max_height": null,
            "max_width": null,
            "min_height": null,
            "min_width": null,
            "object_fit": null,
            "object_position": null,
            "order": null,
            "overflow": null,
            "overflow_x": null,
            "overflow_y": null,
            "padding": null,
            "right": null,
            "top": null,
            "visibility": null,
            "width": null
          }
        },
        "88579563a76842798e05195554eab613": {
          "model_module": "@jupyter-widgets/controls",
          "model_name": "DescriptionStyleModel",
          "model_module_version": "1.5.0",
          "state": {
            "_model_module": "@jupyter-widgets/controls",
            "_model_module_version": "1.5.0",
            "_model_name": "DescriptionStyleModel",
            "_view_count": null,
            "_view_module": "@jupyter-widgets/base",
            "_view_module_version": "1.2.0",
            "_view_name": "StyleView",
            "description_width": ""
          }
        },
        "642ac51abdd04b0594abeb13c7e8e9ed": {
          "model_module": "@jupyter-widgets/controls",
          "model_name": "HBoxModel",
          "model_module_version": "1.5.0",
          "state": {
            "_dom_classes": [],
            "_model_module": "@jupyter-widgets/controls",
            "_model_module_version": "1.5.0",
            "_model_name": "HBoxModel",
            "_view_count": null,
            "_view_module": "@jupyter-widgets/controls",
            "_view_module_version": "1.5.0",
            "_view_name": "HBoxView",
            "box_style": "",
            "children": [
              "IPY_MODEL_b0ae9f3745be42c89e178c5d77c2cd9c",
              "IPY_MODEL_40eed173da7d46afaa362e3471d1dc26",
              "IPY_MODEL_05e3476b36f9476699adb4855ba3308e"
            ],
            "layout": "IPY_MODEL_4b2b756c84724c998407893a2412356d"
          }
        },
        "b0ae9f3745be42c89e178c5d77c2cd9c": {
          "model_module": "@jupyter-widgets/controls",
          "model_name": "HTMLModel",
          "model_module_version": "1.5.0",
          "state": {
            "_dom_classes": [],
            "_model_module": "@jupyter-widgets/controls",
            "_model_module_version": "1.5.0",
            "_model_name": "HTMLModel",
            "_view_count": null,
            "_view_module": "@jupyter-widgets/controls",
            "_view_module_version": "1.5.0",
            "_view_name": "HTMLView",
            "description": "",
            "description_tooltip": null,
            "layout": "IPY_MODEL_d1ee197fb5e141b88de77f71ecb7cef3",
            "placeholder": "​",
            "style": "IPY_MODEL_9f36877954354591ba5dfcacb154c002",
            "value": ""
          }
        },
        "40eed173da7d46afaa362e3471d1dc26": {
          "model_module": "@jupyter-widgets/controls",
          "model_name": "FloatProgressModel",
          "model_module_version": "1.5.0",
          "state": {
            "_dom_classes": [],
            "_model_module": "@jupyter-widgets/controls",
            "_model_module_version": "1.5.0",
            "_model_name": "FloatProgressModel",
            "_view_count": null,
            "_view_module": "@jupyter-widgets/controls",
            "_view_module_version": "1.5.0",
            "_view_name": "ProgressView",
            "bar_style": "success",
            "description": "",
            "description_tooltip": null,
            "layout": "IPY_MODEL_c53b75d7747942a98e9128a9405ab137",
            "max": 4422102,
            "min": 0,
            "orientation": "horizontal",
            "style": "IPY_MODEL_854afd99259a40b3ad6eda85a23126c0",
            "value": 4422102
          }
        },
        "05e3476b36f9476699adb4855ba3308e": {
          "model_module": "@jupyter-widgets/controls",
          "model_name": "HTMLModel",
          "model_module_version": "1.5.0",
          "state": {
            "_dom_classes": [],
            "_model_module": "@jupyter-widgets/controls",
            "_model_module_version": "1.5.0",
            "_model_name": "HTMLModel",
            "_view_count": null,
            "_view_module": "@jupyter-widgets/controls",
            "_view_module_version": "1.5.0",
            "_view_name": "HTMLView",
            "description": "",
            "description_tooltip": null,
            "layout": "IPY_MODEL_5e3e98fade95463aa8cb81f44ee59a60",
            "placeholder": "​",
            "style": "IPY_MODEL_2ad78620e2f24a9aa94698711500b007",
            "value": " 4422656/? [00:00&lt;00:00, 7713995.28it/s]"
          }
        },
        "4b2b756c84724c998407893a2412356d": {
          "model_module": "@jupyter-widgets/base",
          "model_name": "LayoutModel",
          "model_module_version": "1.2.0",
          "state": {
            "_model_module": "@jupyter-widgets/base",
            "_model_module_version": "1.2.0",
            "_model_name": "LayoutModel",
            "_view_count": null,
            "_view_module": "@jupyter-widgets/base",
            "_view_module_version": "1.2.0",
            "_view_name": "LayoutView",
            "align_content": null,
            "align_items": null,
            "align_self": null,
            "border": null,
            "bottom": null,
            "display": null,
            "flex": null,
            "flex_flow": null,
            "grid_area": null,
            "grid_auto_columns": null,
            "grid_auto_flow": null,
            "grid_auto_rows": null,
            "grid_column": null,
            "grid_gap": null,
            "grid_row": null,
            "grid_template_areas": null,
            "grid_template_columns": null,
            "grid_template_rows": null,
            "height": null,
            "justify_content": null,
            "justify_items": null,
            "left": null,
            "margin": null,
            "max_height": null,
            "max_width": null,
            "min_height": null,
            "min_width": null,
            "object_fit": null,
            "object_position": null,
            "order": null,
            "overflow": null,
            "overflow_x": null,
            "overflow_y": null,
            "padding": null,
            "right": null,
            "top": null,
            "visibility": null,
            "width": null
          }
        },
        "d1ee197fb5e141b88de77f71ecb7cef3": {
          "model_module": "@jupyter-widgets/base",
          "model_name": "LayoutModel",
          "model_module_version": "1.2.0",
          "state": {
            "_model_module": "@jupyter-widgets/base",
            "_model_module_version": "1.2.0",
            "_model_name": "LayoutModel",
            "_view_count": null,
            "_view_module": "@jupyter-widgets/base",
            "_view_module_version": "1.2.0",
            "_view_name": "LayoutView",
            "align_content": null,
            "align_items": null,
            "align_self": null,
            "border": null,
            "bottom": null,
            "display": null,
            "flex": null,
            "flex_flow": null,
            "grid_area": null,
            "grid_auto_columns": null,
            "grid_auto_flow": null,
            "grid_auto_rows": null,
            "grid_column": null,
            "grid_gap": null,
            "grid_row": null,
            "grid_template_areas": null,
            "grid_template_columns": null,
            "grid_template_rows": null,
            "height": null,
            "justify_content": null,
            "justify_items": null,
            "left": null,
            "margin": null,
            "max_height": null,
            "max_width": null,
            "min_height": null,
            "min_width": null,
            "object_fit": null,
            "object_position": null,
            "order": null,
            "overflow": null,
            "overflow_x": null,
            "overflow_y": null,
            "padding": null,
            "right": null,
            "top": null,
            "visibility": null,
            "width": null
          }
        },
        "9f36877954354591ba5dfcacb154c002": {
          "model_module": "@jupyter-widgets/controls",
          "model_name": "DescriptionStyleModel",
          "model_module_version": "1.5.0",
          "state": {
            "_model_module": "@jupyter-widgets/controls",
            "_model_module_version": "1.5.0",
            "_model_name": "DescriptionStyleModel",
            "_view_count": null,
            "_view_module": "@jupyter-widgets/base",
            "_view_module_version": "1.2.0",
            "_view_name": "StyleView",
            "description_width": ""
          }
        },
        "c53b75d7747942a98e9128a9405ab137": {
          "model_module": "@jupyter-widgets/base",
          "model_name": "LayoutModel",
          "model_module_version": "1.2.0",
          "state": {
            "_model_module": "@jupyter-widgets/base",
            "_model_module_version": "1.2.0",
            "_model_name": "LayoutModel",
            "_view_count": null,
            "_view_module": "@jupyter-widgets/base",
            "_view_module_version": "1.2.0",
            "_view_name": "LayoutView",
            "align_content": null,
            "align_items": null,
            "align_self": null,
            "border": null,
            "bottom": null,
            "display": null,
            "flex": null,
            "flex_flow": null,
            "grid_area": null,
            "grid_auto_columns": null,
            "grid_auto_flow": null,
            "grid_auto_rows": null,
            "grid_column": null,
            "grid_gap": null,
            "grid_row": null,
            "grid_template_areas": null,
            "grid_template_columns": null,
            "grid_template_rows": null,
            "height": null,
            "justify_content": null,
            "justify_items": null,
            "left": null,
            "margin": null,
            "max_height": null,
            "max_width": null,
            "min_height": null,
            "min_width": null,
            "object_fit": null,
            "object_position": null,
            "order": null,
            "overflow": null,
            "overflow_x": null,
            "overflow_y": null,
            "padding": null,
            "right": null,
            "top": null,
            "visibility": null,
            "width": null
          }
        },
        "854afd99259a40b3ad6eda85a23126c0": {
          "model_module": "@jupyter-widgets/controls",
          "model_name": "ProgressStyleModel",
          "model_module_version": "1.5.0",
          "state": {
            "_model_module": "@jupyter-widgets/controls",
            "_model_module_version": "1.5.0",
            "_model_name": "ProgressStyleModel",
            "_view_count": null,
            "_view_module": "@jupyter-widgets/base",
            "_view_module_version": "1.2.0",
            "_view_name": "StyleView",
            "bar_color": null,
            "description_width": ""
          }
        },
        "5e3e98fade95463aa8cb81f44ee59a60": {
          "model_module": "@jupyter-widgets/base",
          "model_name": "LayoutModel",
          "model_module_version": "1.2.0",
          "state": {
            "_model_module": "@jupyter-widgets/base",
            "_model_module_version": "1.2.0",
            "_model_name": "LayoutModel",
            "_view_count": null,
            "_view_module": "@jupyter-widgets/base",
            "_view_module_version": "1.2.0",
            "_view_name": "LayoutView",
            "align_content": null,
            "align_items": null,
            "align_self": null,
            "border": null,
            "bottom": null,
            "display": null,
            "flex": null,
            "flex_flow": null,
            "grid_area": null,
            "grid_auto_columns": null,
            "grid_auto_flow": null,
            "grid_auto_rows": null,
            "grid_column": null,
            "grid_gap": null,
            "grid_row": null,
            "grid_template_areas": null,
            "grid_template_columns": null,
            "grid_template_rows": null,
            "height": null,
            "justify_content": null,
            "justify_items": null,
            "left": null,
            "margin": null,
            "max_height": null,
            "max_width": null,
            "min_height": null,
            "min_width": null,
            "object_fit": null,
            "object_position": null,
            "order": null,
            "overflow": null,
            "overflow_x": null,
            "overflow_y": null,
            "padding": null,
            "right": null,
            "top": null,
            "visibility": null,
            "width": null
          }
        },
        "2ad78620e2f24a9aa94698711500b007": {
          "model_module": "@jupyter-widgets/controls",
          "model_name": "DescriptionStyleModel",
          "model_module_version": "1.5.0",
          "state": {
            "_model_module": "@jupyter-widgets/controls",
            "_model_module_version": "1.5.0",
            "_model_name": "DescriptionStyleModel",
            "_view_count": null,
            "_view_module": "@jupyter-widgets/base",
            "_view_module_version": "1.2.0",
            "_view_name": "StyleView",
            "description_width": ""
          }
        },
        "4bfd06de67de44888ff80df7290a94f8": {
          "model_module": "@jupyter-widgets/controls",
          "model_name": "HBoxModel",
          "model_module_version": "1.5.0",
          "state": {
            "_dom_classes": [],
            "_model_module": "@jupyter-widgets/controls",
            "_model_module_version": "1.5.0",
            "_model_name": "HBoxModel",
            "_view_count": null,
            "_view_module": "@jupyter-widgets/controls",
            "_view_module_version": "1.5.0",
            "_view_name": "HBoxView",
            "box_style": "",
            "children": [
              "IPY_MODEL_c1d40c63f94e4548bd0f2bd4e7433d61",
              "IPY_MODEL_9fc8a71b03df4b86a9bb346d5229169c",
              "IPY_MODEL_62b70f0a72314ed3b3c48b4f08b9a90c"
            ],
            "layout": "IPY_MODEL_5b298bfdd9bd45e58f3f7922c893ef16"
          }
        },
        "c1d40c63f94e4548bd0f2bd4e7433d61": {
          "model_module": "@jupyter-widgets/controls",
          "model_name": "HTMLModel",
          "model_module_version": "1.5.0",
          "state": {
            "_dom_classes": [],
            "_model_module": "@jupyter-widgets/controls",
            "_model_module_version": "1.5.0",
            "_model_name": "HTMLModel",
            "_view_count": null,
            "_view_module": "@jupyter-widgets/controls",
            "_view_module_version": "1.5.0",
            "_view_name": "HTMLView",
            "description": "",
            "description_tooltip": null,
            "layout": "IPY_MODEL_a56814aec13b4a31957fb530a61fb532",
            "placeholder": "​",
            "style": "IPY_MODEL_11abb24f035e41f3af27bbeae8aadbd5",
            "value": ""
          }
        },
        "9fc8a71b03df4b86a9bb346d5229169c": {
          "model_module": "@jupyter-widgets/controls",
          "model_name": "FloatProgressModel",
          "model_module_version": "1.5.0",
          "state": {
            "_dom_classes": [],
            "_model_module": "@jupyter-widgets/controls",
            "_model_module_version": "1.5.0",
            "_model_name": "FloatProgressModel",
            "_view_count": null,
            "_view_module": "@jupyter-widgets/controls",
            "_view_module_version": "1.5.0",
            "_view_name": "ProgressView",
            "bar_style": "success",
            "description": "",
            "description_tooltip": null,
            "layout": "IPY_MODEL_3f602f222bb04c37913f520cb44f0f33",
            "max": 5148,
            "min": 0,
            "orientation": "horizontal",
            "style": "IPY_MODEL_0e2746b323724572a8e50add7e1de262",
            "value": 5148
          }
        },
        "62b70f0a72314ed3b3c48b4f08b9a90c": {
          "model_module": "@jupyter-widgets/controls",
          "model_name": "HTMLModel",
          "model_module_version": "1.5.0",
          "state": {
            "_dom_classes": [],
            "_model_module": "@jupyter-widgets/controls",
            "_model_module_version": "1.5.0",
            "_model_name": "HTMLModel",
            "_view_count": null,
            "_view_module": "@jupyter-widgets/controls",
            "_view_module_version": "1.5.0",
            "_view_name": "HTMLView",
            "description": "",
            "description_tooltip": null,
            "layout": "IPY_MODEL_ff2a4da294a94efca680748d199c828c",
            "placeholder": "​",
            "style": "IPY_MODEL_43da33b0c7e74a75a796b8f78eba245b",
            "value": " 6144/? [00:00&lt;00:00, 170505.13it/s]"
          }
        },
        "5b298bfdd9bd45e58f3f7922c893ef16": {
          "model_module": "@jupyter-widgets/base",
          "model_name": "LayoutModel",
          "model_module_version": "1.2.0",
          "state": {
            "_model_module": "@jupyter-widgets/base",
            "_model_module_version": "1.2.0",
            "_model_name": "LayoutModel",
            "_view_count": null,
            "_view_module": "@jupyter-widgets/base",
            "_view_module_version": "1.2.0",
            "_view_name": "LayoutView",
            "align_content": null,
            "align_items": null,
            "align_self": null,
            "border": null,
            "bottom": null,
            "display": null,
            "flex": null,
            "flex_flow": null,
            "grid_area": null,
            "grid_auto_columns": null,
            "grid_auto_flow": null,
            "grid_auto_rows": null,
            "grid_column": null,
            "grid_gap": null,
            "grid_row": null,
            "grid_template_areas": null,
            "grid_template_columns": null,
            "grid_template_rows": null,
            "height": null,
            "justify_content": null,
            "justify_items": null,
            "left": null,
            "margin": null,
            "max_height": null,
            "max_width": null,
            "min_height": null,
            "min_width": null,
            "object_fit": null,
            "object_position": null,
            "order": null,
            "overflow": null,
            "overflow_x": null,
            "overflow_y": null,
            "padding": null,
            "right": null,
            "top": null,
            "visibility": null,
            "width": null
          }
        },
        "a56814aec13b4a31957fb530a61fb532": {
          "model_module": "@jupyter-widgets/base",
          "model_name": "LayoutModel",
          "model_module_version": "1.2.0",
          "state": {
            "_model_module": "@jupyter-widgets/base",
            "_model_module_version": "1.2.0",
            "_model_name": "LayoutModel",
            "_view_count": null,
            "_view_module": "@jupyter-widgets/base",
            "_view_module_version": "1.2.0",
            "_view_name": "LayoutView",
            "align_content": null,
            "align_items": null,
            "align_self": null,
            "border": null,
            "bottom": null,
            "display": null,
            "flex": null,
            "flex_flow": null,
            "grid_area": null,
            "grid_auto_columns": null,
            "grid_auto_flow": null,
            "grid_auto_rows": null,
            "grid_column": null,
            "grid_gap": null,
            "grid_row": null,
            "grid_template_areas": null,
            "grid_template_columns": null,
            "grid_template_rows": null,
            "height": null,
            "justify_content": null,
            "justify_items": null,
            "left": null,
            "margin": null,
            "max_height": null,
            "max_width": null,
            "min_height": null,
            "min_width": null,
            "object_fit": null,
            "object_position": null,
            "order": null,
            "overflow": null,
            "overflow_x": null,
            "overflow_y": null,
            "padding": null,
            "right": null,
            "top": null,
            "visibility": null,
            "width": null
          }
        },
        "11abb24f035e41f3af27bbeae8aadbd5": {
          "model_module": "@jupyter-widgets/controls",
          "model_name": "DescriptionStyleModel",
          "model_module_version": "1.5.0",
          "state": {
            "_model_module": "@jupyter-widgets/controls",
            "_model_module_version": "1.5.0",
            "_model_name": "DescriptionStyleModel",
            "_view_count": null,
            "_view_module": "@jupyter-widgets/base",
            "_view_module_version": "1.2.0",
            "_view_name": "StyleView",
            "description_width": ""
          }
        },
        "3f602f222bb04c37913f520cb44f0f33": {
          "model_module": "@jupyter-widgets/base",
          "model_name": "LayoutModel",
          "model_module_version": "1.2.0",
          "state": {
            "_model_module": "@jupyter-widgets/base",
            "_model_module_version": "1.2.0",
            "_model_name": "LayoutModel",
            "_view_count": null,
            "_view_module": "@jupyter-widgets/base",
            "_view_module_version": "1.2.0",
            "_view_name": "LayoutView",
            "align_content": null,
            "align_items": null,
            "align_self": null,
            "border": null,
            "bottom": null,
            "display": null,
            "flex": null,
            "flex_flow": null,
            "grid_area": null,
            "grid_auto_columns": null,
            "grid_auto_flow": null,
            "grid_auto_rows": null,
            "grid_column": null,
            "grid_gap": null,
            "grid_row": null,
            "grid_template_areas": null,
            "grid_template_columns": null,
            "grid_template_rows": null,
            "height": null,
            "justify_content": null,
            "justify_items": null,
            "left": null,
            "margin": null,
            "max_height": null,
            "max_width": null,
            "min_height": null,
            "min_width": null,
            "object_fit": null,
            "object_position": null,
            "order": null,
            "overflow": null,
            "overflow_x": null,
            "overflow_y": null,
            "padding": null,
            "right": null,
            "top": null,
            "visibility": null,
            "width": null
          }
        },
        "0e2746b323724572a8e50add7e1de262": {
          "model_module": "@jupyter-widgets/controls",
          "model_name": "ProgressStyleModel",
          "model_module_version": "1.5.0",
          "state": {
            "_model_module": "@jupyter-widgets/controls",
            "_model_module_version": "1.5.0",
            "_model_name": "ProgressStyleModel",
            "_view_count": null,
            "_view_module": "@jupyter-widgets/base",
            "_view_module_version": "1.2.0",
            "_view_name": "StyleView",
            "bar_color": null,
            "description_width": ""
          }
        },
        "ff2a4da294a94efca680748d199c828c": {
          "model_module": "@jupyter-widgets/base",
          "model_name": "LayoutModel",
          "model_module_version": "1.2.0",
          "state": {
            "_model_module": "@jupyter-widgets/base",
            "_model_module_version": "1.2.0",
            "_model_name": "LayoutModel",
            "_view_count": null,
            "_view_module": "@jupyter-widgets/base",
            "_view_module_version": "1.2.0",
            "_view_name": "LayoutView",
            "align_content": null,
            "align_items": null,
            "align_self": null,
            "border": null,
            "bottom": null,
            "display": null,
            "flex": null,
            "flex_flow": null,
            "grid_area": null,
            "grid_auto_columns": null,
            "grid_auto_flow": null,
            "grid_auto_rows": null,
            "grid_column": null,
            "grid_gap": null,
            "grid_row": null,
            "grid_template_areas": null,
            "grid_template_columns": null,
            "grid_template_rows": null,
            "height": null,
            "justify_content": null,
            "justify_items": null,
            "left": null,
            "margin": null,
            "max_height": null,
            "max_width": null,
            "min_height": null,
            "min_width": null,
            "object_fit": null,
            "object_position": null,
            "order": null,
            "overflow": null,
            "overflow_x": null,
            "overflow_y": null,
            "padding": null,
            "right": null,
            "top": null,
            "visibility": null,
            "width": null
          }
        },
        "43da33b0c7e74a75a796b8f78eba245b": {
          "model_module": "@jupyter-widgets/controls",
          "model_name": "DescriptionStyleModel",
          "model_module_version": "1.5.0",
          "state": {
            "_model_module": "@jupyter-widgets/controls",
            "_model_module_version": "1.5.0",
            "_model_name": "DescriptionStyleModel",
            "_view_count": null,
            "_view_module": "@jupyter-widgets/base",
            "_view_module_version": "1.2.0",
            "_view_name": "StyleView",
            "description_width": ""
          }
        }
      }
    }
  },
  "cells": [
    {
      "cell_type": "markdown",
      "source": [
        "# Imports"
      ],
      "metadata": {
        "id": "GUGdeXHsXv2L"
      }
    },
    {
      "cell_type": "code",
      "source": [
        "import numpy as np\n",
        "from datetime import datetime\n",
        "import time\n",
        "import os\n",
        "from imageio import imwrite\n",
        "\n",
        "import torch\n",
        "import torch.nn as nn\n",
        "import torch.nn.functional as F\n",
        "from torch.utils.data import DataLoader, SubsetRandomSampler\n",
        "from torch.utils.tensorboard import SummaryWriter\n",
        "from torch import autograd\n",
        "\n",
        "import torchvision\n",
        "from torchvision import datasets, transforms\n",
        "\n",
        "import matplotlib.pyplot as plt\n",
        "from torch.nn.modules.batchnorm import BatchNorm2d\n",
        "\n",
        "%load_ext tensorboard\n",
        "\n",
        "# check if CUDA is available\n",
        "is_gpu_available = torch.cuda.is_available()\n",
        "\n",
        "if not is_gpu_available:\n",
        "    print('CUDA is not available.  Training on CPU ...')\n",
        "else:\n",
        "    print('CUDA is available!  Training on GPU ...')\n",
        "\n",
        "DEVICE = 'cuda' if torch.cuda.is_available() else 'cpu'\n",
        "\n",
        "DIR_PATH = '/content/drive/MyDrive/Deep_learning_05107255/ex3_316168061_313471526'"
      ],
      "metadata": {
        "colab": {
          "base_uri": "https://localhost:8080/"
        },
        "id": "I2r-QSfk6lKi",
        "outputId": "5d2ec914-20cd-4d3e-e3bf-f81a1b7e4bf5"
      },
      "execution_count": 2,
      "outputs": [
        {
          "output_type": "stream",
          "name": "stdout",
          "text": [
            "CUDA is available!  Training on GPU ...\n"
          ]
        }
      ]
    },
    {
      "cell_type": "markdown",
      "source": [
        "# Mount Google Drive"
      ],
      "metadata": {
        "id": "ziDCZfBJXoz_"
      }
    },
    {
      "cell_type": "code",
      "source": [
        "from google.colab import drive\n",
        "drive.mount('/content/drive/')\n",
        "\n",
        "drive_path = '/content/drive/MyDrive/Deep_learning 05107255/ex3_316168061_313471526'\n",
        "\n",
        "print('Drive Path : ' + drive_path)"
      ],
      "metadata": {
        "id": "BRNUNZfr6tbF",
        "colab": {
          "base_uri": "https://localhost:8080/"
        },
        "outputId": "9ca244d7-2b5b-44f2-c538-62425af67cf2"
      },
      "execution_count": 3,
      "outputs": [
        {
          "output_type": "stream",
          "name": "stdout",
          "text": [
            "Mounted at /content/drive/\n",
            "Drive Path : /content/drive/MyDrive/Deep_learning 05107255/ex3_316168061_313471526\n"
          ]
        }
      ]
    },
    {
      "cell_type": "markdown",
      "source": [
        "# Define models Consts"
      ],
      "metadata": {
        "id": "LLncnwdWWuk8"
      }
    },
    {
      "cell_type": "code",
      "source": [
        "DIM = 64\n",
        "BATCH_SIZE = 64\n",
        "NOISE_SIZE = 128\n",
        "GEN_ITER = 20000\n",
        "DISC_ITER = 5\n",
        "IMAGE_SIZE = 28\n",
        "OUTPUT_TOT_SIZE = 784  # Fashion MNIST size (28, 28)\n",
        "IMAGE_CHANNELS = 1\n",
        "LAMBDA = 10 # Gradient penalty hyper-parameter\n",
        "VALID_SIZE = 0.2\n",
        "NUM_WORKERS = 1\n",
        "PRINT_EVERY = 100\n",
        "IMG_SAVE_EVERY = 1000\n",
        "\n",
        "\n",
        "ONE = torch.tensor(1).to(DEVICE)\n",
        "MINUS_ONE = torch.tensor(-1).to(DEVICE)\n",
        "REAL_LABEL = torch.tensor(1).to(DEVICE)\n",
        "FAKE_LABEL = torch.tensor(0).to(DEVICE)"
      ],
      "metadata": {
        "id": "DCUASM5M61HG"
      },
      "execution_count": 4,
      "outputs": []
    },
    {
      "cell_type": "markdown",
      "source": [
        "# Load Data"
      ],
      "metadata": {
        "id": "V1Q4C3RkQyvw"
      }
    },
    {
      "cell_type": "code",
      "source": [
        "transform = transforms.Compose([transforms.ToTensor()])\n",
        "\n",
        "train_dataset = datasets.FashionMNIST(root=os.path.join(drive_path), \n",
        "                                      train=True,\n",
        "                                      transform=transform,\n",
        "                                      download=True)\n",
        "\n",
        "\n",
        "train_loader = torch.utils.data.DataLoader(train_dataset, batch_size=BATCH_SIZE,\n",
        "                                           shuffle=True)\n"
      ],
      "metadata": {
        "id": "u1vxBeijQsiv",
        "colab": {
          "base_uri": "https://localhost:8080/",
          "height": 443,
          "referenced_widgets": [
            "167bf5d386d5479b98b1b59dbb993d0c",
            "e845ab4a75974ca49c0ffdbe3f77bd92",
            "ae6fcbeaaafc4f51bcf55a682efa51ad",
            "5c1aba57f1e84fd1915471564f8cf853",
            "ebe37fafc06c4f7f9557dfbe96469e8c",
            "3bab411f8eba47498e3f4edd1319a8b9",
            "937d2c8fc81a4dc6adfce8e6195e299c",
            "cf2b2a856eab41988aaa734e4e5801b3",
            "81a2b29502654f7c8cda9b9bfe6d504a",
            "9f7e60682948414c819777f2230d083f",
            "bd0e44d6801e4b33a87da5765f365b0d",
            "ce4ff5b850444d3394a01eda7e4293da",
            "5cd9729eb0374781b76c83cf459a2bc1",
            "8e421dcb51334ac2bdf333c386fcb17b",
            "441090eddc9a435d9470330b06b4562a",
            "76192605cdad4e59b9a7128d33429849",
            "f38e65e69f2b4fb3b4a110486f178b70",
            "3af50104acdb47698593cebc7caadaa2",
            "6aae7c6417544300aef6d5c77ab815bf",
            "3e7088f5fb834d7f960467dee764a423",
            "1868028112a0488fb160ba3736f0c57f",
            "88579563a76842798e05195554eab613",
            "642ac51abdd04b0594abeb13c7e8e9ed",
            "b0ae9f3745be42c89e178c5d77c2cd9c",
            "40eed173da7d46afaa362e3471d1dc26",
            "05e3476b36f9476699adb4855ba3308e",
            "4b2b756c84724c998407893a2412356d",
            "d1ee197fb5e141b88de77f71ecb7cef3",
            "9f36877954354591ba5dfcacb154c002",
            "c53b75d7747942a98e9128a9405ab137",
            "854afd99259a40b3ad6eda85a23126c0",
            "5e3e98fade95463aa8cb81f44ee59a60",
            "2ad78620e2f24a9aa94698711500b007",
            "4bfd06de67de44888ff80df7290a94f8",
            "c1d40c63f94e4548bd0f2bd4e7433d61",
            "9fc8a71b03df4b86a9bb346d5229169c",
            "62b70f0a72314ed3b3c48b4f08b9a90c",
            "5b298bfdd9bd45e58f3f7922c893ef16",
            "a56814aec13b4a31957fb530a61fb532",
            "11abb24f035e41f3af27bbeae8aadbd5",
            "3f602f222bb04c37913f520cb44f0f33",
            "0e2746b323724572a8e50add7e1de262",
            "ff2a4da294a94efca680748d199c828c",
            "43da33b0c7e74a75a796b8f78eba245b"
          ]
        },
        "outputId": "97d56768-d882-4b5a-e856-1f34242eca32"
      },
      "execution_count": 5,
      "outputs": [
        {
          "output_type": "stream",
          "name": "stdout",
          "text": [
            "Downloading http://fashion-mnist.s3-website.eu-central-1.amazonaws.com/train-images-idx3-ubyte.gz\n",
            "Downloading http://fashion-mnist.s3-website.eu-central-1.amazonaws.com/train-images-idx3-ubyte.gz to /content/drive/MyDrive/Deep_learning 05107255/ex3_316168061_313471526/FashionMNIST/raw/train-images-idx3-ubyte.gz\n"
          ]
        },
        {
          "output_type": "display_data",
          "data": {
            "text/plain": [
              "  0%|          | 0/26421880 [00:00<?, ?it/s]"
            ],
            "application/vnd.jupyter.widget-view+json": {
              "version_major": 2,
              "version_minor": 0,
              "model_id": "167bf5d386d5479b98b1b59dbb993d0c"
            }
          },
          "metadata": {}
        },
        {
          "output_type": "stream",
          "name": "stdout",
          "text": [
            "Extracting /content/drive/MyDrive/Deep_learning 05107255/ex3_316168061_313471526/FashionMNIST/raw/train-images-idx3-ubyte.gz to /content/drive/MyDrive/Deep_learning 05107255/ex3_316168061_313471526/FashionMNIST/raw\n",
            "\n",
            "Downloading http://fashion-mnist.s3-website.eu-central-1.amazonaws.com/train-labels-idx1-ubyte.gz\n",
            "Downloading http://fashion-mnist.s3-website.eu-central-1.amazonaws.com/train-labels-idx1-ubyte.gz to /content/drive/MyDrive/Deep_learning 05107255/ex3_316168061_313471526/FashionMNIST/raw/train-labels-idx1-ubyte.gz\n"
          ]
        },
        {
          "output_type": "display_data",
          "data": {
            "text/plain": [
              "  0%|          | 0/29515 [00:00<?, ?it/s]"
            ],
            "application/vnd.jupyter.widget-view+json": {
              "version_major": 2,
              "version_minor": 0,
              "model_id": "ce4ff5b850444d3394a01eda7e4293da"
            }
          },
          "metadata": {}
        },
        {
          "output_type": "stream",
          "name": "stdout",
          "text": [
            "Extracting /content/drive/MyDrive/Deep_learning 05107255/ex3_316168061_313471526/FashionMNIST/raw/train-labels-idx1-ubyte.gz to /content/drive/MyDrive/Deep_learning 05107255/ex3_316168061_313471526/FashionMNIST/raw\n",
            "\n",
            "Downloading http://fashion-mnist.s3-website.eu-central-1.amazonaws.com/t10k-images-idx3-ubyte.gz\n",
            "Downloading http://fashion-mnist.s3-website.eu-central-1.amazonaws.com/t10k-images-idx3-ubyte.gz to /content/drive/MyDrive/Deep_learning 05107255/ex3_316168061_313471526/FashionMNIST/raw/t10k-images-idx3-ubyte.gz\n"
          ]
        },
        {
          "output_type": "display_data",
          "data": {
            "text/plain": [
              "  0%|          | 0/4422102 [00:00<?, ?it/s]"
            ],
            "application/vnd.jupyter.widget-view+json": {
              "version_major": 2,
              "version_minor": 0,
              "model_id": "642ac51abdd04b0594abeb13c7e8e9ed"
            }
          },
          "metadata": {}
        },
        {
          "output_type": "stream",
          "name": "stdout",
          "text": [
            "Extracting /content/drive/MyDrive/Deep_learning 05107255/ex3_316168061_313471526/FashionMNIST/raw/t10k-images-idx3-ubyte.gz to /content/drive/MyDrive/Deep_learning 05107255/ex3_316168061_313471526/FashionMNIST/raw\n",
            "\n",
            "Downloading http://fashion-mnist.s3-website.eu-central-1.amazonaws.com/t10k-labels-idx1-ubyte.gz\n",
            "Downloading http://fashion-mnist.s3-website.eu-central-1.amazonaws.com/t10k-labels-idx1-ubyte.gz to /content/drive/MyDrive/Deep_learning 05107255/ex3_316168061_313471526/FashionMNIST/raw/t10k-labels-idx1-ubyte.gz\n"
          ]
        },
        {
          "output_type": "display_data",
          "data": {
            "text/plain": [
              "  0%|          | 0/5148 [00:00<?, ?it/s]"
            ],
            "application/vnd.jupyter.widget-view+json": {
              "version_major": 2,
              "version_minor": 0,
              "model_id": "4bfd06de67de44888ff80df7290a94f8"
            }
          },
          "metadata": {}
        },
        {
          "output_type": "stream",
          "name": "stdout",
          "text": [
            "Extracting /content/drive/MyDrive/Deep_learning 05107255/ex3_316168061_313471526/FashionMNIST/raw/t10k-labels-idx1-ubyte.gz to /content/drive/MyDrive/Deep_learning 05107255/ex3_316168061_313471526/FashionMNIST/raw\n",
            "\n"
          ]
        }
      ]
    },
    {
      "cell_type": "markdown",
      "source": [
        "# Visualize a batch of training data"
      ],
      "metadata": {
        "id": "6tMRreW6GmAD"
      }
    },
    {
      "cell_type": "code",
      "source": [
        "dataiter = iter(train_loader)\n",
        "images, labels = dataiter.next()\n",
        "\n",
        "def visualize_batch(image_batch, save_path=None):\n",
        "    plt.figure(figsize=(10,10))\n",
        "    grid = torchvision.utils.make_grid(tensor=image_batch.reshape(-1, 1, IMAGE_SIZE, IMAGE_SIZE), nrow=10)\n",
        "    grid = np.clip(grid,0,1).numpy()\n",
        "    if save_path is None:\n",
        "        plt.imshow(X=np.transpose(grid, axes=(1,2,0)), cmap=\"gray\");\n",
        "    else:\n",
        "        imwrite(save_path, np.transpose(grid, axes=(1,2,0)))\n",
        "    \n",
        "image_dir = os.path.join(drive_path, 'images')\n",
        "os.makedirs(image_dir, exist_ok=True)\n",
        "image_path = os.path.join(image_dir, 'test.png')\n",
        "visualize_batch(images)"
      ],
      "metadata": {
        "colab": {
          "base_uri": "https://localhost:8080/",
          "height": 443
        },
        "id": "fFHZt6twGp6V",
        "outputId": "4005f3ad-9702-422e-c8f9-09626e1b5c77"
      },
      "execution_count": 6,
      "outputs": [
        {
          "output_type": "display_data",
          "data": {
            "text/plain": [
              "<Figure size 720x720 with 1 Axes>"
            ],
            "image/png": "[encoded data removed]"
          },
          "metadata": {
            "needs_background": "light"
          }
        }
      ]
    },
    {
      "cell_type": "markdown",
      "source": [
        "# Define GAN Model"
      ],
      "metadata": {
        "id": "fazh9RagXjRc"
      }
    },
    {
      "cell_type": "code",
      "source": [
        "\n",
        "class Generator(nn.Module):\n",
        "  def __init__(self, mode, kernel_size_1=5, kernel_size_2=5, kernel_size_3=8):\n",
        "    super().__init__()\n",
        "    self.mode = mode\n",
        "    self.fc1 = nn.Sequential(\n",
        "        nn.Linear(NOISE_SIZE, 4 * 4 * 4 * DIM),\n",
        "        nn.BatchNorm1d(4 * 4 * 4 * DIM) if mode == 'wgan-gp' else nn.Identity(),\n",
        "        nn.ReLU(True)\n",
        "        )\n",
        "    \n",
        "    self.pre_activate1 = nn.Sequential(\n",
        "        nn.ConvTranspose2d(4 * DIM, 2 * DIM, kernel_size_1),\n",
        "        nn.BatchNorm2d(2 * DIM) if mode == 'wgan-gp' else nn.Identity(),\n",
        "        nn.ReLU(True)\n",
        "    )\n",
        "\n",
        "    self.pre_activate2 = nn.Sequential(\n",
        "        nn.ConvTranspose2d(2 * DIM, DIM, kernel_size_2),\n",
        "        nn.BatchNorm2d(DIM) if mode == 'wgan-gp' else nn.Identity(),\n",
        "        nn.ReLU(True)\n",
        "    )\n",
        "\n",
        "    self.pre_activate3 = nn.ConvTranspose2d(DIM, IMAGE_CHANNELS, kernel_size_3, stride=2)\n",
        "\n",
        "    self.sigmoid = nn.Sigmoid()\n",
        "\n",
        "  def forward(self, input):\n",
        "    output = self.fc1(input)\n",
        "    output = output.view(-1, 4 * DIM, 4, 4)\n",
        "    # print(output.size())\n",
        "    output = self.pre_activate1(output)\n",
        "    # print(output.size())\n",
        "    output = output[:, :, :7, :7]\n",
        "    # print(output.size())\n",
        "    output = self.pre_activate2(output)\n",
        "    # print(output.size())\n",
        "    output = self.pre_activate3(output)\n",
        "    # print(output.size())\n",
        "    output = self.sigmoid(output)\n",
        "    return output.view(-1, OUTPUT_TOT_SIZE)\n",
        "\n",
        "# --------------------------------------------------------------------------------------------------\n",
        "class Discriminator(nn.Module):\n",
        "  def __init__(self, mode, kernel_size=5):\n",
        "    super(Discriminator, self).__init__()\n",
        "\n",
        "    self.conv1 = nn.Sequential(\n",
        "        nn.Conv2d(IMAGE_CHANNELS, DIM, kernel_size, stride=2, padding=2),\n",
        "        nn.ReLU(True)\n",
        "    )\n",
        "\n",
        "    self.conv2 = nn.Sequential(\n",
        "        nn.Conv2d(DIM, 2 * DIM, kernel_size, stride=2, padding=2),\n",
        "        nn.ReLU(True)\n",
        "    )\n",
        "\n",
        "    self.conv3 = nn.Sequential(\n",
        "        nn.Conv2d(2 * DIM, 4 * DIM, kernel_size, stride=2, padding=2),\n",
        "        nn.ReLU(True)\n",
        "    )\n",
        "\n",
        "    self.fc = nn.Linear(4 * 4 * 4 * DIM, 1)\n",
        "\n",
        "  def forward(self, input):\n",
        "    input = input.view(-1, 1, IMAGE_SIZE, IMAGE_SIZE)\n",
        "    output = self.conv1(input)\n",
        "    # print(output.size())\n",
        "    output = self.conv2(output)\n",
        "    # print(output.size())\n",
        "    output = self.conv3(output)\n",
        "    # print(output.size())\n",
        "    output = output.view(-1, 4 * 4 * 4 * DIM)\n",
        "    # print(output.size())\n",
        "    output = self.fc(output)\n",
        "    # print(output.size())\n",
        "    return output.view(-1)\n",
        "\n",
        "# --------------------------------------------------------------------------------------------------\n",
        "def calc_gradient_penalty(disc_net, real_data, fake_data):\n",
        "    real_data = real_data.reshape(fake_data.size())\n",
        "    eps = torch.rand(BATCH_SIZE, 1)\n",
        "    eps = eps.expand(real_data.size())\n",
        "    eps = eps.to(DEVICE) if is_gpu_available else eps\n",
        "\n",
        "    interpolates = eps * real_data + ((1 - eps) * fake_data)\n",
        "\n",
        "    if is_gpu_available:\n",
        "        interpolates = interpolates.to(DEVICE)\n",
        "    interpolates = autograd.Variable(interpolates, requires_grad=True)\n",
        "\n",
        "    disc_interpolates = disc_net(interpolates)\n",
        "\n",
        "    gradients = autograd.grad(outputs=disc_interpolates, inputs=interpolates,\n",
        "                              grad_outputs=torch.ones(disc_interpolates.size()).to(DEVICE) if is_gpu_available\n",
        "                              else torch.ones(disc_interpolates.size()),\n",
        "                              create_graph=True, retain_graph=True, only_inputs=True)[0]\n",
        "\n",
        "    gradient_penalty = ((gradients.norm(2, dim=1) - 1) ** 2).mean() * LAMBDA\n",
        "    return gradient_penalty\n"
      ],
      "metadata": {
        "id": "QOxg6mcKWq5L"
      },
      "execution_count": 17,
      "outputs": []
    },
    {
      "cell_type": "markdown",
      "source": [
        "# Functions for Training"
      ],
      "metadata": {
        "id": "UgytvsbfkiT7"
      }
    },
    {
      "cell_type": "markdown",
      "source": [
        "## Generate fake image"
      ],
      "metadata": {
        "id": "wmXe0uEMlIlP"
      }
    },
    {
      "cell_type": "code",
      "source": [
        "def generate_fake_image(gen_net):\n",
        "    with torch.no_grad():\n",
        "        noise = torch.randn(BATCH_SIZE, NOISE_SIZE)\n",
        "        if is_gpu_available:\n",
        "            noise = noise.to(DEVICE)\n",
        "    fake_images = gen_net(noise)\n",
        "    fake_images = fake_images.view(BATCH_SIZE, IMAGE_SIZE, IMAGE_SIZE)\n",
        "    return fake_images\n"
      ],
      "metadata": {
        "id": "p78SLDuKSWQF"
      },
      "execution_count": 8,
      "outputs": []
    },
    {
      "cell_type": "markdown",
      "source": [
        "## Train Discriminator"
      ],
      "metadata": {
        "id": "xMtawCy5k4ow"
      }
    },
    {
      "cell_type": "code",
      "source": [
        "def train_disc_net(gen_net, disc_net, real_data_gen, disc_opt, mode='wgan-gp', loss=None, disc_iter=DISC_ITER):\n",
        "    dataiter = iter(real_data_gen)\n",
        "    for iteration in range(disc_iter):\n",
        "\n",
        "        # Train with real data\n",
        "        data_images, _ = dataiter.next()\n",
        "        real_data = torch.Tensor(data_images)\n",
        "        if torch.cuda.is_available():\n",
        "            real_data = real_data.to(DEVICE)\n",
        "        real_data_var = autograd.Variable(real_data)\n",
        "\n",
        "        disc_net.zero_grad()\n",
        "\n",
        "        disc_out_real = disc_net(real_data_var)\n",
        "        if mode == 'wgan-gp':\n",
        "            disc_out_real = disc_out_real.mean()\n",
        "            disc_out_real.backward(MINUS_ONE)\n",
        "        elif mode == 'dcgan':\n",
        "            real_label = REAL_LABEL.expand(disc_out_real.size())\n",
        "            disc_loss = loss(disc_out_real, real_label)\n",
        "        else:\n",
        "            raise NotImplementedError(\"Allowed modes are: 'dcgan'/'wgan-gp'. {} is not implemented\".format(mode))\n",
        "\n",
        "        # Train with fake data\n",
        "        with torch.no_grad():\n",
        "            noise = torch.randn(BATCH_SIZE, NOISE_SIZE)\n",
        "            if is_gpu_available:\n",
        "                noise = noise.to(DEVICE)\n",
        "        fake_images = gen_net(noise)\n",
        "        fake_images = autograd.Variable(fake_images.data)\n",
        "        disc_in_images = fake_images\n",
        "        disc_out_fake = disc_net(disc_in_images)\n",
        "\n",
        "        # train with gradient penalty\n",
        "        if mode == 'wgan-gp':\n",
        "            disc_out_fake = disc_out_fake.mean()\n",
        "            disc_out_fake.backward(ONE)\n",
        "            gradient_penalty = calc_gradient_penalty(disc_net, real_data_var.data, fake_images.data)\n",
        "            gradient_penalty.backward()\n",
        "            disc_loss = disc_out_fake - disc_out_real + gradient_penalty\n",
        "\n",
        "        elif mode == 'dcgan':\n",
        "            fake_label = FAKE_LABEL.expand(disc_out_fake.size())\n",
        "            disc_loss += loss(disc_out_fake, fake_label)\n",
        "            disc_loss = disc_loss.mean() / 2\n",
        "            disc_loss.backward()\n",
        "\n",
        "        else:\n",
        "            raise NotImplementedError(\"Allowed modes are: 'dcgan'/'wgan-gp'. {} is not implemented\".format(mode))\n",
        "\n",
        "        disc_opt.step()\n",
        "\n",
        "    return gen_net, disc_net, disc_opt, disc_loss"
      ],
      "metadata": {
        "id": "YuhT2K-Xk3gv"
      },
      "execution_count": 9,
      "outputs": []
    },
    {
      "cell_type": "markdown",
      "source": [
        "## Train Generator"
      ],
      "metadata": {
        "id": "XjA3l6fEk-Iw"
      }
    },
    {
      "cell_type": "code",
      "source": [
        "def train_gen_net(gen_net, disc_net, gen_opt, mode='wgan-gp', loss=None):\n",
        "    gen_net.zero_grad()\n",
        "\n",
        "    noise = torch.randn(BATCH_SIZE, NOISE_SIZE)\n",
        "    if torch.cuda.is_available():\n",
        "        noise = noise.to(DEVICE)\n",
        "    noise_var = autograd.Variable(noise)\n",
        "    gen_out = gen_net(noise_var)\n",
        "    net_out = disc_net(gen_out)\n",
        "\n",
        "    if mode == 'wgan-gp':\n",
        "        gen_loss = net_out.mean()\n",
        "        gen_loss.backward(MINUS_ONE)\n",
        "        gen_loss = -gen_loss\n",
        "\n",
        "    elif mode == 'dcgan':\n",
        "        real_label = REAL_LABEL.expand(net_out.size())\n",
        "        gen_loss = loss(net_out, real_label)\n",
        "        gen_loss = gen_loss.mean()\n",
        "        gen_loss.backward()\n",
        "\n",
        "    else:\n",
        "        raise NotImplementedError(\"Allowed modes are: 'dcgan'/'wgan-gp'. {} is not implemented\".format(mode))\n",
        "\n",
        "    gen_opt.step()\n",
        "    return gen_net, disc_net, gen_opt, gen_loss"
      ],
      "metadata": {
        "id": "xWrE35fik9mB"
      },
      "execution_count": 10,
      "outputs": []
    },
    {
      "cell_type": "markdown",
      "source": [
        "## Full training function"
      ],
      "metadata": {
        "id": "yHYdfcCUN6x6"
      }
    },
    {
      "cell_type": "code",
      "source": [
        "def train_loop(gen_net,\n",
        "               disc_net,\n",
        "               gen_opt,\n",
        "               disc_opt,\n",
        "               train_gen,\n",
        "               mode='wgan-gp',\n",
        "               disc_iter=DISC_ITER,\n",
        "               ckpt_path: str = None,\n",
        "               img_dir: str = None):\n",
        "    results = {'train_generator_loss': [], 'train_discriminator_loss': []}\n",
        "    best_disc_loss = np.inf\n",
        "    loss = nn.BCELoss() if mode == 'dcgan' else None\n",
        "    for iteration in range(GEN_ITER):\n",
        "        start_time = time.time()\n",
        "\n",
        "        for p in disc_net.parameters():\n",
        "            p.requires_grad = True\n",
        "        for p in gen_net.parameters():  # reset requires_grad\n",
        "            p.requires_grad = False\n",
        "\n",
        "        gen_net, disc_net, disc_opt, disc_loss = train_disc_net(gen_net,\n",
        "                                                                disc_net,\n",
        "                                                                train_gen,\n",
        "                                                                disc_opt,\n",
        "                                                                disc_iter=disc_iter,\n",
        "                                                                loss=loss)\n",
        "\n",
        "        for p in disc_net.parameters():  # reset requires_grad\n",
        "            p.requires_grad = False\n",
        "        for p in gen_net.parameters():\n",
        "            p.requires_grad = True\n",
        "\n",
        "        gen_net, disc_net, gen_opt, gen_loss = train_gen_net(gen_net, disc_net, gen_opt, loss=loss)\n",
        "        \n",
        "        results['train_generator_loss'].append(np.abs(gen_loss.cpu().detach().numpy()))\n",
        "        results['train_discriminator_loss'].append(np.abs(disc_loss.cpu().detach().numpy()))\n",
        "\n",
        "        if iteration % PRINT_EVERY == (PRINT_EVERY - 1):\n",
        "            elapsed = time.time() - start_time\n",
        "            print('[{}/{}]\\tGenerator Loss: {:.3f}\\tDiscriminator Loss: {:.3f} | ms/iteration: {:.4f}'.format(\n",
        "                iteration,\n",
        "                GEN_ITER,\n",
        "                results['train_generator_loss'][-1],\n",
        "                results['train_discriminator_loss'][-1],\n",
        "                elapsed / PRINT_EVERY))\n",
        "            \n",
        "            if ckpt_path is not None and results['train_discriminator_loss'][-1] < best_disc_loss:\n",
        "                best_disc_loss = results['train_discriminator_loss'][-1]\n",
        "                save_model(gen_net, disc_net, gen_opt, disc_opt, ckpt_path)\n",
        "                print('models saved to {}'.format(ckpt_path))\n",
        "\n",
        "            images = generate_fake_image(gen_net)\n",
        "            if iteration % IMG_SAVE_EVERY == (IMG_SAVE_EVERY - 1):\n",
        "                visualize_batch(images.cpu(), save_path=os.path.join(img_dir, 'sample_{}.png'.format(iteration)))\n",
        "    return gen_net, disc_net, gen_opt, disc_opt, results"
      ],
      "metadata": {
        "id": "80acBP8pN5lr"
      },
      "execution_count": 11,
      "outputs": []
    },
    {
      "cell_type": "markdown",
      "source": [
        "# Save & Plot Functions"
      ],
      "metadata": {
        "id": "la_1V6a4svE9"
      }
    },
    {
      "cell_type": "code",
      "source": [
        "# Plot Convergence Graph\n",
        "def plot_results(gen_loss, disc_loss, num_iters, title):\n",
        "\n",
        "    gen_loss = np.array(gen_loss) \n",
        "    disc_loss = np.array(disc_loss)\n",
        "\n",
        "    plt.plot(np.arange(1, num_iters+1), gen_loss)\n",
        "    plt.plot(np.arange(1, num_iters+1), disc_loss)\n",
        "    plt.legend(('Generator Loss', 'Disriminator Loss'), loc='upper right')\n",
        "    plt.ylabel('Loss')\n",
        "    plt.xlabel('Iteration #')\n",
        "    plt.title(title)\n",
        "    plt.grid()\n",
        "    plt.show()\n",
        "\n",
        "# --------------------------------------------------------------------------------------------------\n",
        "def save_model(gen_net, disc_net, gen_opt, disc_opt, ckpt_path):\n",
        "    torch.save({\n",
        "        'generator_state_dict': gen_net.state_dict(),\n",
        "        'generator_optimizer_state_dict': gen_opt.state_dict(),\n",
        "        'discriminator_state_dict': disc_net.state_dict(),\n",
        "        'discriminator_optimizer_state_dict': disc_opt.state_dict(),\n",
        "    }, ckpt_path)\n",
        "    \n",
        "# --------------------------------------------------------------------------------------------------\n",
        "\n",
        "def train_and_save(train_data,\n",
        "                   gen_net,\n",
        "                   disc_net,\n",
        "                   gen_opt,\n",
        "                   disc_opt,\n",
        "                   disc_iter=DISC_ITER,\n",
        "                   model_type='wgan-gp'):\n",
        "\n",
        "    # Print Model\n",
        "    print(gen_net)\n",
        "    print(disc_net)\n",
        "\n",
        "    # Set ransom seed\n",
        "    RANDOM_SEED = 13\n",
        "    torch.manual_seed(RANDOM_SEED)\n",
        "    \n",
        "    curr_datetime = datetime.now().strftime(\"%y_%m_%d_%H:%M:%S\")\n",
        "    model_name = f'{curr_datetime}_{model_type}'\n",
        "\n",
        "    # create checkpints folder\n",
        "    ckpt_dir = os.path.join(drive_path, 'Q4_GAN', 'checkpoints')\n",
        "    os.makedirs(ckpt_dir, exist_ok=True)\n",
        "    ckpt_path = os.path.join(ckpt_dir, f'{model_name}.ckpt')\n",
        "\n",
        "    # create images folder\n",
        "    img_dir = os.path.join(drive_path, 'Q4_GAN', f'images/{model_name}')\n",
        "    os.makedirs(img_dir, exist_ok=True)\n",
        "\n",
        "    # train\n",
        "    print(\"Training Start\\n\")\n",
        "    gen_net, disc_net, gen_opt, disc_opt, results = train_loop(gen_net,\n",
        "                                                               disc_net,\n",
        "                                                               gen_opt,\n",
        "                                                               disc_opt,\n",
        "                                                               train_data,\n",
        "                                                               mode=model_type,\n",
        "                                                               disc_iter=disc_iter,\n",
        "                                                               ckpt_path=ckpt_path,\n",
        "                                                               img_dir=img_dir)\n",
        "    return results"
      ],
      "metadata": {
        "id": "SPMxPGR1naLv"
      },
      "execution_count": 12,
      "outputs": []
    },
    {
      "cell_type": "markdown",
      "source": [
        "# Train the network"
      ],
      "metadata": {
        "id": "gEufJ0NBltPc"
      }
    },
    {
      "cell_type": "markdown",
      "source": [
        "## DCGAN"
      ],
      "metadata": {
        "id": "zuEScLOplyn-"
      }
    },
    {
      "cell_type": "code",
      "source": [
        "model_type = 'dcgan'\n",
        "generator = Generator(mode=model_type).to(DEVICE)\n",
        "discriminator = Discriminator(mode=model_type).to(DEVICE)\n",
        "\n",
        "gen_optimizer = torch.optim.Adam(generator.parameters(), lr=0.8e-4, betas=(0.5, 0.9))\n",
        "disc_optimizer = torch.optim.Adam(discriminator.parameters(), lr=0.8e-4, betas=(0.5, 0.9))\n",
        "\n",
        "results = train_and_save(train_loader, generator, discriminator, gen_optimizer, disc_optimizer, model_type=model_type, disc_iter=1)\n",
        "plot_results(results['train_generator_loss'], results['train_discriminator_loss'], GEN_ITER, model_type.upper())"
      ],
      "metadata": {
        "colab": {
          "base_uri": "https://localhost:8080/",
          "height": 1000
        },
        "id": "_9soCvFtl3Kv",
        "outputId": "0cc416f9-ce95-47e6-b4c3-738f26601fc5"
      },
      "execution_count": 18,
      "outputs": [
        {
          "output_type": "stream",
          "name": "stdout",
          "text": [
            "Generator(\n",
            "  (fc1): Sequential(\n",
            "    (0): Linear(in_features=128, out_features=4096, bias=True)\n",
            "    (1): Identity()\n",
            "    (2): ReLU(inplace=True)\n",
            "  )\n",
            "  (pre_activate1): Sequential(\n",
            "    (0): ConvTranspose2d(256, 128, kernel_size=(5, 5), stride=(1, 1))\n",
            "    (1): Identity()\n",
            "    (2): ReLU(inplace=True)\n",
            "  )\n",
            "  (pre_activate2): Sequential(\n",
            "    (0): ConvTranspose2d(128, 64, kernel_size=(5, 5), stride=(1, 1))\n",
            "    (1): Identity()\n",
            "    (2): ReLU(inplace=True)\n",
            "  )\n",
            "  (pre_activate3): ConvTranspose2d(64, 1, kernel_size=(8, 8), stride=(2, 2))\n",
            "  (sigmoid): Sigmoid()\n",
            ")\n",
            "Discriminator(\n",
            "  (conv1): Sequential(\n",
            "    (0): Conv2d(1, 64, kernel_size=(5, 5), stride=(2, 2), padding=(2, 2))\n",
            "    (1): ReLU(inplace=True)\n",
            "  )\n",
            "  (conv2): Sequential(\n",
            "    (0): Conv2d(64, 128, kernel_size=(5, 5), stride=(2, 2), padding=(2, 2))\n",
            "    (1): ReLU(inplace=True)\n",
            "  )\n",
            "  (conv3): Sequential(\n",
            "    (0): Conv2d(128, 256, kernel_size=(5, 5), stride=(2, 2), padding=(2, 2))\n",
            "    (1): ReLU(inplace=True)\n",
            "  )\n",
            "  (fc): Linear(in_features=4096, out_features=1, bias=True)\n",
            ")\n",
            "Training Start\n",
            "\n",
            "[99/20000]\tGenerator Loss: 1.176\tDiscriminator Loss: 2.572 | ms/iteration: 0.0003\n",
            "models saved to /content/drive/MyDrive/Deep_learning 05107255/ex3_316168061_313471526/Q4_GAN/checkpoints/22_05_31_16:02:10_dcgan.ckpt\n",
            "[199/20000]\tGenerator Loss: 2.357\tDiscriminator Loss: 7.676 | ms/iteration: 0.0004\n",
            "[299/20000]\tGenerator Loss: 2.648\tDiscriminator Loss: 10.416 | ms/iteration: 0.0003\n",
            "[399/20000]\tGenerator Loss: 4.712\tDiscriminator Loss: 9.189 | ms/iteration: 0.0004\n",
            "[499/20000]\tGenerator Loss: 6.506\tDiscriminator Loss: 9.674 | ms/iteration: 0.0003\n",
            "[599/20000]\tGenerator Loss: 4.520\tDiscriminator Loss: 8.987 | ms/iteration: 0.0004\n",
            "[699/20000]\tGenerator Loss: 2.155\tDiscriminator Loss: 7.670 | ms/iteration: 0.0004\n",
            "[799/20000]\tGenerator Loss: 8.139\tDiscriminator Loss: 5.811 | ms/iteration: 0.0004\n",
            "[899/20000]\tGenerator Loss: 2.940\tDiscriminator Loss: 5.693 | ms/iteration: 0.0003\n"
          ]
        },
        {
          "output_type": "stream",
          "name": "stderr",
          "text": [
            "WARNING:root:Lossy conversion from float32 to uint8. Range [0, 1]. Convert image to uint8 prior to saving to suppress this warning.\n"
          ]
        },
        {
          "output_type": "stream",
          "name": "stdout",
          "text": [
            "[999/20000]\tGenerator Loss: 2.186\tDiscriminator Loss: 3.360 | ms/iteration: 0.0004\n",
            "[1099/20000]\tGenerator Loss: 0.764\tDiscriminator Loss: 5.669 | ms/iteration: 0.0004\n",
            "[1199/20000]\tGenerator Loss: 0.201\tDiscriminator Loss: 6.484 | ms/iteration: 0.0003\n",
            "[1299/20000]\tGenerator Loss: 7.297\tDiscriminator Loss: 4.518 | ms/iteration: 0.0003\n",
            "[1399/20000]\tGenerator Loss: 1.391\tDiscriminator Loss: 3.610 | ms/iteration: 0.0004\n",
            "[1499/20000]\tGenerator Loss: 0.941\tDiscriminator Loss: 2.620 | ms/iteration: 0.0004\n",
            "[1599/20000]\tGenerator Loss: 2.217\tDiscriminator Loss: 4.190 | ms/iteration: 0.0004\n",
            "[1699/20000]\tGenerator Loss: 5.109\tDiscriminator Loss: 4.315 | ms/iteration: 0.0003\n",
            "[1799/20000]\tGenerator Loss: 8.001\tDiscriminator Loss: 4.436 | ms/iteration: 0.0003\n",
            "[1899/20000]\tGenerator Loss: 9.017\tDiscriminator Loss: 2.992 | ms/iteration: 0.0003\n"
          ]
        },
        {
          "output_type": "stream",
          "name": "stderr",
          "text": [
            "WARNING:root:Lossy conversion from float32 to uint8. Range [0, 1]. Convert image to uint8 prior to saving to suppress this warning.\n"
          ]
        },
        {
          "output_type": "stream",
          "name": "stdout",
          "text": [
            "[1999/20000]\tGenerator Loss: 0.872\tDiscriminator Loss: 4.526 | ms/iteration: 0.0004\n",
            "[2099/20000]\tGenerator Loss: 2.612\tDiscriminator Loss: 4.356 | ms/iteration: 0.0003\n",
            "[2199/20000]\tGenerator Loss: 1.182\tDiscriminator Loss: 3.565 | ms/iteration: 0.0004\n",
            "[2299/20000]\tGenerator Loss: 9.011\tDiscriminator Loss: 5.090 | ms/iteration: 0.0004\n",
            "[2399/20000]\tGenerator Loss: 8.369\tDiscriminator Loss: 3.803 | ms/iteration: 0.0003\n",
            "[2499/20000]\tGenerator Loss: 2.676\tDiscriminator Loss: 1.893 | ms/iteration: 0.0004\n",
            "models saved to /content/drive/MyDrive/Deep_learning 05107255/ex3_316168061_313471526/Q4_GAN/checkpoints/22_05_31_16:02:10_dcgan.ckpt\n",
            "[2599/20000]\tGenerator Loss: 2.736\tDiscriminator Loss: 4.042 | ms/iteration: 0.0003\n",
            "[2699/20000]\tGenerator Loss: 4.933\tDiscriminator Loss: 3.390 | ms/iteration: 0.0003\n",
            "[2799/20000]\tGenerator Loss: 0.272\tDiscriminator Loss: 3.576 | ms/iteration: 0.0003\n",
            "[2899/20000]\tGenerator Loss: 2.289\tDiscriminator Loss: 3.209 | ms/iteration: 0.0003\n"
          ]
        },
        {
          "output_type": "stream",
          "name": "stderr",
          "text": [
            "WARNING:root:Lossy conversion from float32 to uint8. Range [0, 1]. Convert image to uint8 prior to saving to suppress this warning.\n"
          ]
        },
        {
          "output_type": "stream",
          "name": "stdout",
          "text": [
            "[2999/20000]\tGenerator Loss: 6.688\tDiscriminator Loss: 2.819 | ms/iteration: 0.0004\n",
            "[3099/20000]\tGenerator Loss: 4.879\tDiscriminator Loss: 3.010 | ms/iteration: 0.0004\n",
            "[3199/20000]\tGenerator Loss: 5.780\tDiscriminator Loss: 2.925 | ms/iteration: 0.0004\n",
            "[3299/20000]\tGenerator Loss: 0.032\tDiscriminator Loss: 3.766 | ms/iteration: 0.0004\n",
            "[3399/20000]\tGenerator Loss: 5.837\tDiscriminator Loss: 3.917 | ms/iteration: 0.0004\n",
            "[3499/20000]\tGenerator Loss: 1.009\tDiscriminator Loss: 3.049 | ms/iteration: 0.0004\n",
            "[3599/20000]\tGenerator Loss: 0.787\tDiscriminator Loss: 2.032 | ms/iteration: 0.0003\n",
            "[3699/20000]\tGenerator Loss: 0.237\tDiscriminator Loss: 3.920 | ms/iteration: 0.0003\n",
            "[3799/20000]\tGenerator Loss: 2.482\tDiscriminator Loss: 3.194 | ms/iteration: 0.0004\n",
            "[3899/20000]\tGenerator Loss: 0.837\tDiscriminator Loss: 3.610 | ms/iteration: 0.0004\n"
          ]
        },
        {
          "output_type": "stream",
          "name": "stderr",
          "text": [
            "WARNING:root:Lossy conversion from float32 to uint8. Range [0, 1]. Convert image to uint8 prior to saving to suppress this warning.\n"
          ]
        },
        {
          "output_type": "stream",
          "name": "stdout",
          "text": [
            "[3999/20000]\tGenerator Loss: 1.346\tDiscriminator Loss: 4.220 | ms/iteration: 0.0003\n",
            "[4099/20000]\tGenerator Loss: 9.893\tDiscriminator Loss: 2.863 | ms/iteration: 0.0004\n",
            "[4199/20000]\tGenerator Loss: 0.585\tDiscriminator Loss: 1.597 | ms/iteration: 0.0004\n",
            "models saved to /content/drive/MyDrive/Deep_learning 05107255/ex3_316168061_313471526/Q4_GAN/checkpoints/22_05_31_16:02:10_dcgan.ckpt\n",
            "[4299/20000]\tGenerator Loss: 10.339\tDiscriminator Loss: 1.428 | ms/iteration: 0.0003\n",
            "models saved to /content/drive/MyDrive/Deep_learning 05107255/ex3_316168061_313471526/Q4_GAN/checkpoints/22_05_31_16:02:10_dcgan.ckpt\n",
            "[4399/20000]\tGenerator Loss: 1.295\tDiscriminator Loss: 1.472 | ms/iteration: 0.0004\n",
            "[4499/20000]\tGenerator Loss: 1.072\tDiscriminator Loss: 3.189 | ms/iteration: 0.0003\n",
            "[4599/20000]\tGenerator Loss: 0.713\tDiscriminator Loss: 2.727 | ms/iteration: 0.0004\n",
            "[4699/20000]\tGenerator Loss: 0.248\tDiscriminator Loss: 2.381 | ms/iteration: 0.0003\n",
            "[4799/20000]\tGenerator Loss: 0.928\tDiscriminator Loss: 2.005 | ms/iteration: 0.0004\n",
            "[4899/20000]\tGenerator Loss: 3.107\tDiscriminator Loss: 2.345 | ms/iteration: 0.0004\n"
          ]
        },
        {
          "output_type": "stream",
          "name": "stderr",
          "text": [
            "WARNING:root:Lossy conversion from float32 to uint8. Range [0, 1]. Convert image to uint8 prior to saving to suppress this warning.\n"
          ]
        },
        {
          "output_type": "stream",
          "name": "stdout",
          "text": [
            "[4999/20000]\tGenerator Loss: 4.415\tDiscriminator Loss: 1.914 | ms/iteration: 0.0004\n",
            "[5099/20000]\tGenerator Loss: 5.378\tDiscriminator Loss: 1.654 | ms/iteration: 0.0003\n",
            "[5199/20000]\tGenerator Loss: 3.003\tDiscriminator Loss: 3.036 | ms/iteration: 0.0004\n",
            "[5299/20000]\tGenerator Loss: 1.013\tDiscriminator Loss: 2.214 | ms/iteration: 0.0004\n",
            "[5399/20000]\tGenerator Loss: 0.812\tDiscriminator Loss: 2.798 | ms/iteration: 0.0003\n",
            "[5499/20000]\tGenerator Loss: 1.670\tDiscriminator Loss: 1.741 | ms/iteration: 0.0003\n",
            "[5599/20000]\tGenerator Loss: 0.360\tDiscriminator Loss: 1.882 | ms/iteration: 0.0004\n",
            "[5699/20000]\tGenerator Loss: 0.015\tDiscriminator Loss: 2.219 | ms/iteration: 0.0004\n",
            "[5799/20000]\tGenerator Loss: 0.452\tDiscriminator Loss: 1.934 | ms/iteration: 0.0003\n",
            "[5899/20000]\tGenerator Loss: 3.332\tDiscriminator Loss: 2.128 | ms/iteration: 0.0003\n"
          ]
        },
        {
          "output_type": "stream",
          "name": "stderr",
          "text": [
            "WARNING:root:Lossy conversion from float32 to uint8. Range [0, 1]. Convert image to uint8 prior to saving to suppress this warning.\n"
          ]
        },
        {
          "output_type": "stream",
          "name": "stdout",
          "text": [
            "[5999/20000]\tGenerator Loss: 2.343\tDiscriminator Loss: 2.071 | ms/iteration: 0.0004\n",
            "[6099/20000]\tGenerator Loss: 4.289\tDiscriminator Loss: 1.510 | ms/iteration: 0.0003\n",
            "[6199/20000]\tGenerator Loss: 3.594\tDiscriminator Loss: 2.426 | ms/iteration: 0.0004\n",
            "[6299/20000]\tGenerator Loss: 1.576\tDiscriminator Loss: 1.399 | ms/iteration: 0.0004\n",
            "models saved to /content/drive/MyDrive/Deep_learning 05107255/ex3_316168061_313471526/Q4_GAN/checkpoints/22_05_31_16:02:10_dcgan.ckpt\n",
            "[6399/20000]\tGenerator Loss: 2.746\tDiscriminator Loss: 1.788 | ms/iteration: 0.0004\n",
            "[6499/20000]\tGenerator Loss: 2.631\tDiscriminator Loss: 2.344 | ms/iteration: 0.0003\n",
            "[6599/20000]\tGenerator Loss: 6.810\tDiscriminator Loss: 1.121 | ms/iteration: 0.0004\n",
            "models saved to /content/drive/MyDrive/Deep_learning 05107255/ex3_316168061_313471526/Q4_GAN/checkpoints/22_05_31_16:02:10_dcgan.ckpt\n",
            "[6699/20000]\tGenerator Loss: 1.459\tDiscriminator Loss: 2.268 | ms/iteration: 0.0004\n",
            "[6799/20000]\tGenerator Loss: 2.743\tDiscriminator Loss: 1.608 | ms/iteration: 0.0003\n",
            "[6899/20000]\tGenerator Loss: 0.543\tDiscriminator Loss: 2.303 | ms/iteration: 0.0004\n"
          ]
        },
        {
          "output_type": "stream",
          "name": "stderr",
          "text": [
            "WARNING:root:Lossy conversion from float32 to uint8. Range [0, 1]. Convert image to uint8 prior to saving to suppress this warning.\n"
          ]
        },
        {
          "output_type": "stream",
          "name": "stdout",
          "text": [
            "[6999/20000]\tGenerator Loss: 4.964\tDiscriminator Loss: 1.845 | ms/iteration: 0.0004\n",
            "[7099/20000]\tGenerator Loss: 0.153\tDiscriminator Loss: 0.965 | ms/iteration: 0.0003\n",
            "models saved to /content/drive/MyDrive/Deep_learning 05107255/ex3_316168061_313471526/Q4_GAN/checkpoints/22_05_31_16:02:10_dcgan.ckpt\n",
            "[7199/20000]\tGenerator Loss: 1.134\tDiscriminator Loss: 1.285 | ms/iteration: 0.0003\n",
            "[7299/20000]\tGenerator Loss: 0.455\tDiscriminator Loss: 1.123 | ms/iteration: 0.0003\n",
            "[7399/20000]\tGenerator Loss: 6.223\tDiscriminator Loss: 2.013 | ms/iteration: 0.0004\n",
            "[7499/20000]\tGenerator Loss: 1.629\tDiscriminator Loss: 1.830 | ms/iteration: 0.0004\n",
            "[7599/20000]\tGenerator Loss: 2.976\tDiscriminator Loss: 1.642 | ms/iteration: 0.0003\n",
            "[7699/20000]\tGenerator Loss: 1.120\tDiscriminator Loss: 1.431 | ms/iteration: 0.0003\n",
            "[7799/20000]\tGenerator Loss: 2.056\tDiscriminator Loss: 1.272 | ms/iteration: 0.0004\n",
            "[7899/20000]\tGenerator Loss: 0.711\tDiscriminator Loss: 1.090 | ms/iteration: 0.0004\n"
          ]
        },
        {
          "output_type": "stream",
          "name": "stderr",
          "text": [
            "WARNING:root:Lossy conversion from float32 to uint8. Range [0, 1]. Convert image to uint8 prior to saving to suppress this warning.\n"
          ]
        },
        {
          "output_type": "stream",
          "name": "stdout",
          "text": [
            "[7999/20000]\tGenerator Loss: 2.862\tDiscriminator Loss: 0.442 | ms/iteration: 0.0004\n",
            "models saved to /content/drive/MyDrive/Deep_learning 05107255/ex3_316168061_313471526/Q4_GAN/checkpoints/22_05_31_16:02:10_dcgan.ckpt\n",
            "[8099/20000]\tGenerator Loss: 3.166\tDiscriminator Loss: 1.433 | ms/iteration: 0.0003\n",
            "[8199/20000]\tGenerator Loss: 0.020\tDiscriminator Loss: 1.249 | ms/iteration: 0.0003\n",
            "[8299/20000]\tGenerator Loss: 0.828\tDiscriminator Loss: 1.293 | ms/iteration: 0.0003\n",
            "[8399/20000]\tGenerator Loss: 0.016\tDiscriminator Loss: 1.574 | ms/iteration: 0.0004\n",
            "[8499/20000]\tGenerator Loss: 1.770\tDiscriminator Loss: 1.126 | ms/iteration: 0.0004\n",
            "[8599/20000]\tGenerator Loss: 1.820\tDiscriminator Loss: 1.369 | ms/iteration: 0.0003\n",
            "[8699/20000]\tGenerator Loss: 3.193\tDiscriminator Loss: 1.226 | ms/iteration: 0.0004\n",
            "[8799/20000]\tGenerator Loss: 1.326\tDiscriminator Loss: 1.260 | ms/iteration: 0.0003\n",
            "[8899/20000]\tGenerator Loss: 2.499\tDiscriminator Loss: 0.843 | ms/iteration: 0.0003\n"
          ]
        },
        {
          "output_type": "stream",
          "name": "stderr",
          "text": [
            "WARNING:root:Lossy conversion from float32 to uint8. Range [0, 1]. Convert image to uint8 prior to saving to suppress this warning.\n"
          ]
        },
        {
          "output_type": "stream",
          "name": "stdout",
          "text": [
            "[8999/20000]\tGenerator Loss: 0.819\tDiscriminator Loss: 0.822 | ms/iteration: 0.0004\n",
            "[9099/20000]\tGenerator Loss: 2.453\tDiscriminator Loss: 1.497 | ms/iteration: 0.0003\n",
            "[9199/20000]\tGenerator Loss: 0.226\tDiscriminator Loss: 1.843 | ms/iteration: 0.0003\n",
            "[9299/20000]\tGenerator Loss: 0.770\tDiscriminator Loss: 0.987 | ms/iteration: 0.0004\n",
            "[9399/20000]\tGenerator Loss: 0.332\tDiscriminator Loss: 1.180 | ms/iteration: 0.0004\n",
            "[9499/20000]\tGenerator Loss: 3.183\tDiscriminator Loss: 1.523 | ms/iteration: 0.0003\n",
            "[9599/20000]\tGenerator Loss: 0.948\tDiscriminator Loss: 1.119 | ms/iteration: 0.0003\n",
            "[9699/20000]\tGenerator Loss: 1.977\tDiscriminator Loss: 1.326 | ms/iteration: 0.0003\n",
            "[9799/20000]\tGenerator Loss: 1.175\tDiscriminator Loss: 1.250 | ms/iteration: 0.0004\n",
            "[9899/20000]\tGenerator Loss: 0.744\tDiscriminator Loss: 1.173 | ms/iteration: 0.0004\n"
          ]
        },
        {
          "output_type": "stream",
          "name": "stderr",
          "text": [
            "WARNING:root:Lossy conversion from float32 to uint8. Range [0, 1]. Convert image to uint8 prior to saving to suppress this warning.\n"
          ]
        },
        {
          "output_type": "stream",
          "name": "stdout",
          "text": [
            "[9999/20000]\tGenerator Loss: 0.128\tDiscriminator Loss: 1.150 | ms/iteration: 0.0004\n",
            "[10099/20000]\tGenerator Loss: 0.969\tDiscriminator Loss: 1.056 | ms/iteration: 0.0005\n",
            "[10199/20000]\tGenerator Loss: 0.622\tDiscriminator Loss: 1.388 | ms/iteration: 0.0003\n",
            "[10299/20000]\tGenerator Loss: 0.261\tDiscriminator Loss: 0.818 | ms/iteration: 0.0003\n",
            "[10399/20000]\tGenerator Loss: 0.394\tDiscriminator Loss: 1.138 | ms/iteration: 0.0003\n",
            "[10499/20000]\tGenerator Loss: 1.340\tDiscriminator Loss: 1.164 | ms/iteration: 0.0004\n",
            "[10599/20000]\tGenerator Loss: 0.447\tDiscriminator Loss: 1.338 | ms/iteration: 0.0003\n",
            "[10699/20000]\tGenerator Loss: 0.173\tDiscriminator Loss: 1.223 | ms/iteration: 0.0004\n",
            "[10799/20000]\tGenerator Loss: 0.636\tDiscriminator Loss: 1.207 | ms/iteration: 0.0004\n",
            "[10899/20000]\tGenerator Loss: 0.217\tDiscriminator Loss: 1.480 | ms/iteration: 0.0004\n"
          ]
        },
        {
          "output_type": "stream",
          "name": "stderr",
          "text": [
            "WARNING:root:Lossy conversion from float32 to uint8. Range [0, 1]. Convert image to uint8 prior to saving to suppress this warning.\n"
          ]
        },
        {
          "output_type": "stream",
          "name": "stdout",
          "text": [
            "[10999/20000]\tGenerator Loss: 2.053\tDiscriminator Loss: 1.192 | ms/iteration: 0.0004\n",
            "[11099/20000]\tGenerator Loss: 2.235\tDiscriminator Loss: 1.112 | ms/iteration: 0.0004\n",
            "[11199/20000]\tGenerator Loss: 3.082\tDiscriminator Loss: 0.969 | ms/iteration: 0.0004\n",
            "[11299/20000]\tGenerator Loss: 0.869\tDiscriminator Loss: 1.090 | ms/iteration: 0.0004\n",
            "[11399/20000]\tGenerator Loss: 1.640\tDiscriminator Loss: 1.270 | ms/iteration: 0.0004\n",
            "[11499/20000]\tGenerator Loss: 0.141\tDiscriminator Loss: 0.928 | ms/iteration: 0.0010\n",
            "[11599/20000]\tGenerator Loss: 3.277\tDiscriminator Loss: 1.678 | ms/iteration: 0.0004\n",
            "[11699/20000]\tGenerator Loss: 2.113\tDiscriminator Loss: 0.796 | ms/iteration: 0.0003\n",
            "[11799/20000]\tGenerator Loss: 1.849\tDiscriminator Loss: 0.694 | ms/iteration: 0.0004\n",
            "[11899/20000]\tGenerator Loss: 1.188\tDiscriminator Loss: 1.053 | ms/iteration: 0.0003\n"
          ]
        },
        {
          "output_type": "stream",
          "name": "stderr",
          "text": [
            "WARNING:root:Lossy conversion from float32 to uint8. Range [0, 1]. Convert image to uint8 prior to saving to suppress this warning.\n"
          ]
        },
        {
          "output_type": "stream",
          "name": "stdout",
          "text": [
            "[11999/20000]\tGenerator Loss: 0.785\tDiscriminator Loss: 1.069 | ms/iteration: 0.0004\n",
            "[12099/20000]\tGenerator Loss: 2.604\tDiscriminator Loss: 1.238 | ms/iteration: 0.0003\n",
            "[12199/20000]\tGenerator Loss: 1.108\tDiscriminator Loss: 0.964 | ms/iteration: 0.0003\n",
            "[12299/20000]\tGenerator Loss: 1.371\tDiscriminator Loss: 0.819 | ms/iteration: 0.0004\n",
            "[12399/20000]\tGenerator Loss: 0.043\tDiscriminator Loss: 1.395 | ms/iteration: 0.0004\n",
            "[12499/20000]\tGenerator Loss: 0.527\tDiscriminator Loss: 1.522 | ms/iteration: 0.0003\n",
            "[12599/20000]\tGenerator Loss: 0.491\tDiscriminator Loss: 1.298 | ms/iteration: 0.0003\n",
            "[12699/20000]\tGenerator Loss: 0.020\tDiscriminator Loss: 1.081 | ms/iteration: 0.0003\n",
            "[12799/20000]\tGenerator Loss: 0.167\tDiscriminator Loss: 1.083 | ms/iteration: 0.0004\n",
            "[12899/20000]\tGenerator Loss: 1.033\tDiscriminator Loss: 1.124 | ms/iteration: 0.0003\n"
          ]
        },
        {
          "output_type": "stream",
          "name": "stderr",
          "text": [
            "WARNING:root:Lossy conversion from float32 to uint8. Range [0, 1]. Convert image to uint8 prior to saving to suppress this warning.\n"
          ]
        },
        {
          "output_type": "stream",
          "name": "stdout",
          "text": [
            "[12999/20000]\tGenerator Loss: 0.989\tDiscriminator Loss: 1.031 | ms/iteration: 0.0003\n",
            "[13099/20000]\tGenerator Loss: 0.994\tDiscriminator Loss: 0.856 | ms/iteration: 0.0003\n",
            "[13199/20000]\tGenerator Loss: 0.346\tDiscriminator Loss: 0.925 | ms/iteration: 0.0004\n",
            "[13299/20000]\tGenerator Loss: 1.799\tDiscriminator Loss: 0.597 | ms/iteration: 0.0003\n",
            "[13399/20000]\tGenerator Loss: 1.104\tDiscriminator Loss: 1.244 | ms/iteration: 0.0003\n",
            "[13499/20000]\tGenerator Loss: 1.352\tDiscriminator Loss: 0.941 | ms/iteration: 0.0004\n",
            "[13599/20000]\tGenerator Loss: 0.862\tDiscriminator Loss: 1.163 | ms/iteration: 0.0004\n",
            "[13699/20000]\tGenerator Loss: 1.525\tDiscriminator Loss: 0.879 | ms/iteration: 0.0003\n",
            "[13799/20000]\tGenerator Loss: 1.693\tDiscriminator Loss: 1.039 | ms/iteration: 0.0003\n",
            "[13899/20000]\tGenerator Loss: 0.845\tDiscriminator Loss: 0.920 | ms/iteration: 0.0004\n"
          ]
        },
        {
          "output_type": "stream",
          "name": "stderr",
          "text": [
            "WARNING:root:Lossy conversion from float32 to uint8. Range [0, 1]. Convert image to uint8 prior to saving to suppress this warning.\n"
          ]
        },
        {
          "output_type": "stream",
          "name": "stdout",
          "text": [
            "[13999/20000]\tGenerator Loss: 1.218\tDiscriminator Loss: 0.990 | ms/iteration: 0.0004\n",
            "[14099/20000]\tGenerator Loss: 1.810\tDiscriminator Loss: 0.967 | ms/iteration: 0.0003\n",
            "[14199/20000]\tGenerator Loss: 1.454\tDiscriminator Loss: 1.156 | ms/iteration: 0.0003\n",
            "[14299/20000]\tGenerator Loss: 0.962\tDiscriminator Loss: 1.286 | ms/iteration: 0.0003\n",
            "[14399/20000]\tGenerator Loss: 0.976\tDiscriminator Loss: 0.653 | ms/iteration: 0.0004\n",
            "[14499/20000]\tGenerator Loss: 0.882\tDiscriminator Loss: 0.951 | ms/iteration: 0.0004\n",
            "[14599/20000]\tGenerator Loss: 1.713\tDiscriminator Loss: 1.161 | ms/iteration: 0.0004\n",
            "[14699/20000]\tGenerator Loss: 1.931\tDiscriminator Loss: 1.062 | ms/iteration: 0.0004\n",
            "[14799/20000]\tGenerator Loss: 0.476\tDiscriminator Loss: 0.758 | ms/iteration: 0.0003\n",
            "[14899/20000]\tGenerator Loss: 0.798\tDiscriminator Loss: 1.273 | ms/iteration: 0.0003\n"
          ]
        },
        {
          "output_type": "stream",
          "name": "stderr",
          "text": [
            "WARNING:root:Lossy conversion from float32 to uint8. Range [0, 1]. Convert image to uint8 prior to saving to suppress this warning.\n"
          ]
        },
        {
          "output_type": "stream",
          "name": "stdout",
          "text": [
            "[14999/20000]\tGenerator Loss: 0.039\tDiscriminator Loss: 0.760 | ms/iteration: 0.0004\n",
            "[15099/20000]\tGenerator Loss: 1.228\tDiscriminator Loss: 0.895 | ms/iteration: 0.0003\n",
            "[15199/20000]\tGenerator Loss: 1.029\tDiscriminator Loss: 1.228 | ms/iteration: 0.0003\n",
            "[15299/20000]\tGenerator Loss: 1.388\tDiscriminator Loss: 1.074 | ms/iteration: 0.0003\n",
            "[15399/20000]\tGenerator Loss: 1.775\tDiscriminator Loss: 0.794 | ms/iteration: 0.0003\n",
            "[15499/20000]\tGenerator Loss: 1.931\tDiscriminator Loss: 0.987 | ms/iteration: 0.0004\n",
            "[15599/20000]\tGenerator Loss: 2.258\tDiscriminator Loss: 0.990 | ms/iteration: 0.0004\n",
            "[15699/20000]\tGenerator Loss: 1.305\tDiscriminator Loss: 1.206 | ms/iteration: 0.0003\n",
            "[15799/20000]\tGenerator Loss: 2.380\tDiscriminator Loss: 0.931 | ms/iteration: 0.0003\n",
            "[15899/20000]\tGenerator Loss: 1.539\tDiscriminator Loss: 0.998 | ms/iteration: 0.0004\n"
          ]
        },
        {
          "output_type": "stream",
          "name": "stderr",
          "text": [
            "WARNING:root:Lossy conversion from float32 to uint8. Range [0, 1]. Convert image to uint8 prior to saving to suppress this warning.\n"
          ]
        },
        {
          "output_type": "stream",
          "name": "stdout",
          "text": [
            "[15999/20000]\tGenerator Loss: 1.419\tDiscriminator Loss: 1.090 | ms/iteration: 0.0004\n",
            "[16099/20000]\tGenerator Loss: 2.322\tDiscriminator Loss: 0.869 | ms/iteration: 0.0004\n",
            "[16199/20000]\tGenerator Loss: 1.494\tDiscriminator Loss: 0.770 | ms/iteration: 0.0003\n",
            "[16299/20000]\tGenerator Loss: 0.810\tDiscriminator Loss: 1.085 | ms/iteration: 0.0004\n",
            "[16399/20000]\tGenerator Loss: 3.444\tDiscriminator Loss: 1.421 | ms/iteration: 0.0003\n",
            "[16499/20000]\tGenerator Loss: 2.545\tDiscriminator Loss: 1.064 | ms/iteration: 0.0003\n",
            "[16599/20000]\tGenerator Loss: 1.940\tDiscriminator Loss: 1.007 | ms/iteration: 0.0004\n",
            "[16699/20000]\tGenerator Loss: 1.421\tDiscriminator Loss: 1.033 | ms/iteration: 0.0003\n",
            "[16799/20000]\tGenerator Loss: 2.884\tDiscriminator Loss: 0.868 | ms/iteration: 0.0003\n",
            "[16899/20000]\tGenerator Loss: 2.319\tDiscriminator Loss: 1.056 | ms/iteration: 0.0004\n"
          ]
        },
        {
          "output_type": "stream",
          "name": "stderr",
          "text": [
            "WARNING:root:Lossy conversion from float32 to uint8. Range [0, 1]. Convert image to uint8 prior to saving to suppress this warning.\n"
          ]
        },
        {
          "output_type": "stream",
          "name": "stdout",
          "text": [
            "[16999/20000]\tGenerator Loss: 2.315\tDiscriminator Loss: 1.065 | ms/iteration: 0.0003\n",
            "[17099/20000]\tGenerator Loss: 2.234\tDiscriminator Loss: 1.070 | ms/iteration: 0.0004\n",
            "[17199/20000]\tGenerator Loss: 3.305\tDiscriminator Loss: 0.998 | ms/iteration: 0.0004\n",
            "[17299/20000]\tGenerator Loss: 2.220\tDiscriminator Loss: 0.903 | ms/iteration: 0.0004\n",
            "[17399/20000]\tGenerator Loss: 1.545\tDiscriminator Loss: 0.754 | ms/iteration: 0.0004\n",
            "[17499/20000]\tGenerator Loss: 3.047\tDiscriminator Loss: 0.930 | ms/iteration: 0.0004\n",
            "[17599/20000]\tGenerator Loss: 2.611\tDiscriminator Loss: 1.229 | ms/iteration: 0.0003\n",
            "[17699/20000]\tGenerator Loss: 0.948\tDiscriminator Loss: 0.864 | ms/iteration: 0.0004\n",
            "[17799/20000]\tGenerator Loss: 1.654\tDiscriminator Loss: 1.227 | ms/iteration: 0.0004\n",
            "[17899/20000]\tGenerator Loss: 1.906\tDiscriminator Loss: 1.093 | ms/iteration: 0.0003\n"
          ]
        },
        {
          "output_type": "stream",
          "name": "stderr",
          "text": [
            "WARNING:root:Lossy conversion from float32 to uint8. Range [0, 1]. Convert image to uint8 prior to saving to suppress this warning.\n"
          ]
        },
        {
          "output_type": "stream",
          "name": "stdout",
          "text": [
            "[17999/20000]\tGenerator Loss: 3.561\tDiscriminator Loss: 1.225 | ms/iteration: 0.0004\n",
            "[18099/20000]\tGenerator Loss: 1.571\tDiscriminator Loss: 1.024 | ms/iteration: 0.0003\n",
            "[18199/20000]\tGenerator Loss: 2.685\tDiscriminator Loss: 0.789 | ms/iteration: 0.0004\n",
            "[18299/20000]\tGenerator Loss: 2.895\tDiscriminator Loss: 0.882 | ms/iteration: 0.0003\n",
            "[18399/20000]\tGenerator Loss: 2.555\tDiscriminator Loss: 0.934 | ms/iteration: 0.0004\n",
            "[18499/20000]\tGenerator Loss: 1.808\tDiscriminator Loss: 0.985 | ms/iteration: 0.0003\n",
            "[18599/20000]\tGenerator Loss: 0.266\tDiscriminator Loss: 0.591 | ms/iteration: 0.0003\n",
            "[18699/20000]\tGenerator Loss: 2.626\tDiscriminator Loss: 1.032 | ms/iteration: 0.0003\n",
            "[18799/20000]\tGenerator Loss: 1.407\tDiscriminator Loss: 1.091 | ms/iteration: 0.0004\n",
            "[18899/20000]\tGenerator Loss: 1.934\tDiscriminator Loss: 0.822 | ms/iteration: 0.0004\n"
          ]
        },
        {
          "output_type": "stream",
          "name": "stderr",
          "text": [
            "WARNING:root:Lossy conversion from float32 to uint8. Range [0, 1]. Convert image to uint8 prior to saving to suppress this warning.\n"
          ]
        },
        {
          "output_type": "stream",
          "name": "stdout",
          "text": [
            "[18999/20000]\tGenerator Loss: 1.930\tDiscriminator Loss: 0.684 | ms/iteration: 0.0004\n",
            "[19099/20000]\tGenerator Loss: 2.298\tDiscriminator Loss: 0.778 | ms/iteration: 0.0003\n",
            "[19199/20000]\tGenerator Loss: 2.354\tDiscriminator Loss: 0.752 | ms/iteration: 0.0003\n",
            "[19299/20000]\tGenerator Loss: 2.066\tDiscriminator Loss: 0.830 | ms/iteration: 0.0003\n",
            "[19399/20000]\tGenerator Loss: 1.584\tDiscriminator Loss: 0.834 | ms/iteration: 0.0004\n",
            "[19499/20000]\tGenerator Loss: 3.071\tDiscriminator Loss: 1.144 | ms/iteration: 0.0003\n",
            "[19599/20000]\tGenerator Loss: 2.481\tDiscriminator Loss: 0.811 | ms/iteration: 0.0003\n",
            "[19699/20000]\tGenerator Loss: 0.799\tDiscriminator Loss: 1.017 | ms/iteration: 0.0004\n",
            "[19799/20000]\tGenerator Loss: 1.282\tDiscriminator Loss: 1.040 | ms/iteration: 0.0004\n",
            "[19899/20000]\tGenerator Loss: 4.080\tDiscriminator Loss: 1.191 | ms/iteration: 0.0004\n"
          ]
        },
        {
          "output_type": "stream",
          "name": "stderr",
          "text": [
            "WARNING:root:Lossy conversion from float32 to uint8. Range [0, 1]. Convert image to uint8 prior to saving to suppress this warning.\n"
          ]
        },
        {
          "output_type": "stream",
          "name": "stdout",
          "text": [
            "[19999/20000]\tGenerator Loss: 1.434\tDiscriminator Loss: 0.993 | ms/iteration: 0.0003\n"
          ]
        },
        {
          "output_type": "display_data",
          "data": {
            "text/plain": [
              "<Figure size 720x720 with 0 Axes>"
            ]
          },
          "metadata": {}
        },
        {
          "output_type": "display_data",
          "data": {
            "text/plain": [
              "<Figure size 720x720 with 0 Axes>"
            ]
          },
          "metadata": {}
        },
        {
          "output_type": "display_data",
          "data": {
            "text/plain": [
              "<Figure size 720x720 with 0 Axes>"
            ]
          },
          "metadata": {}
        },
        {
          "output_type": "display_data",
          "data": {
            "text/plain": [
              "<Figure size 720x720 with 0 Axes>"
            ]
          },
          "metadata": {}
        },
        {
          "output_type": "display_data",
          "data": {
            "text/plain": [
              "<Figure size 720x720 with 0 Axes>"
            ]
          },
          "metadata": {}
        },
        {
          "output_type": "display_data",
          "data": {
            "text/plain": [
              "<Figure size 720x720 with 0 Axes>"
            ]
          },
          "metadata": {}
        },
        {
          "output_type": "display_data",
          "data": {
            "text/plain": [
              "<Figure size 720x720 with 0 Axes>"
            ]
          },
          "metadata": {}
        },
        {
          "output_type": "display_data",
          "data": {
            "text/plain": [
              "<Figure size 720x720 with 0 Axes>"
            ]
          },
          "metadata": {}
        },
        {
          "output_type": "display_data",
          "data": {
            "text/plain": [
              "<Figure size 720x720 with 0 Axes>"
            ]
          },
          "metadata": {}
        },
        {
          "output_type": "display_data",
          "data": {
            "text/plain": [
              "<Figure size 720x720 with 0 Axes>"
            ]
          },
          "metadata": {}
        },
        {
          "output_type": "display_data",
          "data": {
            "text/plain": [
              "<Figure size 720x720 with 0 Axes>"
            ]
          },
          "metadata": {}
        },
        {
          "output_type": "display_data",
          "data": {
            "text/plain": [
              "<Figure size 720x720 with 0 Axes>"
            ]
          },
          "metadata": {}
        },
        {
          "output_type": "display_data",
          "data": {
            "text/plain": [
              "<Figure size 720x720 with 0 Axes>"
            ]
          },
          "metadata": {}
        },
        {
          "output_type": "display_data",
          "data": {
            "text/plain": [
              "<Figure size 720x720 with 0 Axes>"
            ]
          },
          "metadata": {}
        },
        {
          "output_type": "display_data",
          "data": {
            "text/plain": [
              "<Figure size 720x720 with 0 Axes>"
            ]
          },
          "metadata": {}
        },
        {
          "output_type": "display_data",
          "data": {
            "text/plain": [
              "<Figure size 720x720 with 0 Axes>"
            ]
          },
          "metadata": {}
        },
        {
          "output_type": "display_data",
          "data": {
            "text/plain": [
              "<Figure size 720x720 with 0 Axes>"
            ]
          },
          "metadata": {}
        },
        {
          "output_type": "display_data",
          "data": {
            "text/plain": [
              "<Figure size 720x720 with 0 Axes>"
            ]
          },
          "metadata": {}
        },
        {
          "output_type": "display_data",
          "data": {
            "text/plain": [
              "<Figure size 720x720 with 0 Axes>"
            ]
          },
          "metadata": {}
        },
        {
          "output_type": "display_data",
          "data": {
            "text/plain": [
              "<Figure size 720x720 with 1 Axes>"
            ],
            "image/png": "[encoded data removed]"
          },
          "metadata": {
            "needs_background": "light"
          }
        }
      ]
    },
    {
      "cell_type": "markdown",
      "source": [
        "## WGAN-GP"
      ],
      "metadata": {
        "id": "v8_EwblTwPEC"
      }
    },
    {
      "cell_type": "code",
      "source": [
        "model_type = 'wgan-gp'\n",
        "generator = Generator(mode=model_type).to(DEVICE)\n",
        "discriminator = Discriminator(mode=model_type).to(DEVICE)\n",
        "\n",
        "gen_optimizer = torch.optim.Adam(generator.parameters(), lr=1e-4, betas=(0.5, 0.9))\n",
        "disc_optimizer = torch.optim.Adam(discriminator.parameters(), lr=1e-4, betas=(0.5, 0.9))\n",
        "\n",
        "results = train_and_save(train_loader, generator, discriminator, gen_optimizer, disc_optimizer, model_type=model_type)\n",
        "plot_results(results['train_generator_loss'], results['train_discriminator_loss'], GEN_ITER, model_type.upper())"
      ],
      "metadata": {
        "colab": {
          "base_uri": "https://localhost:8080/",
          "height": 1000
        },
        "id": "RwPHSmmzZGmi",
        "outputId": "852a0c3d-2260-41fe-8b28-f6f9246ed81f"
      },
      "execution_count": 19,
      "outputs": [
        {
          "output_type": "stream",
          "name": "stdout",
          "text": [
            "Generator(\n",
            "  (fc1): Sequential(\n",
            "    (0): Linear(in_features=128, out_features=4096, bias=True)\n",
            "    (1): BatchNorm1d(4096, eps=1e-05, momentum=0.1, affine=True, track_running_stats=True)\n",
            "    (2): ReLU(inplace=True)\n",
            "  )\n",
            "  (pre_activate1): Sequential(\n",
            "    (0): ConvTranspose2d(256, 128, kernel_size=(5, 5), stride=(1, 1))\n",
            "    (1): BatchNorm2d(128, eps=1e-05, momentum=0.1, affine=True, track_running_stats=True)\n",
            "    (2): ReLU(inplace=True)\n",
            "  )\n",
            "  (pre_activate2): Sequential(\n",
            "    (0): ConvTranspose2d(128, 64, kernel_size=(5, 5), stride=(1, 1))\n",
            "    (1): BatchNorm2d(64, eps=1e-05, momentum=0.1, affine=True, track_running_stats=True)\n",
            "    (2): ReLU(inplace=True)\n",
            "  )\n",
            "  (pre_activate3): ConvTranspose2d(64, 1, kernel_size=(8, 8), stride=(2, 2))\n",
            "  (sigmoid): Sigmoid()\n",
            ")\n",
            "Discriminator(\n",
            "  (conv1): Sequential(\n",
            "    (0): Conv2d(1, 64, kernel_size=(5, 5), stride=(2, 2), padding=(2, 2))\n",
            "    (1): ReLU(inplace=True)\n",
            "  )\n",
            "  (conv2): Sequential(\n",
            "    (0): Conv2d(64, 128, kernel_size=(5, 5), stride=(2, 2), padding=(2, 2))\n",
            "    (1): ReLU(inplace=True)\n",
            "  )\n",
            "  (conv3): Sequential(\n",
            "    (0): Conv2d(128, 256, kernel_size=(5, 5), stride=(2, 2), padding=(2, 2))\n",
            "    (1): ReLU(inplace=True)\n",
            "  )\n",
            "  (fc): Linear(in_features=4096, out_features=1, bias=True)\n",
            ")\n",
            "Training Start\n",
            "\n",
            "[99/20000]\tGenerator Loss: 5.163\tDiscriminator Loss: 6.027 | ms/iteration: 0.0012\n",
            "models saved to /content/drive/MyDrive/Deep_learning 05107255/ex3_316168061_313471526/Q4_GAN/checkpoints/22_05_31_16:14:03_wgan-gp.ckpt\n",
            "[199/20000]\tGenerator Loss: 1.743\tDiscriminator Loss: 3.064 | ms/iteration: 0.0013\n",
            "models saved to /content/drive/MyDrive/Deep_learning 05107255/ex3_316168061_313471526/Q4_GAN/checkpoints/22_05_31_16:14:03_wgan-gp.ckpt\n",
            "[299/20000]\tGenerator Loss: 2.662\tDiscriminator Loss: 3.626 | ms/iteration: 0.0012\n",
            "[399/20000]\tGenerator Loss: 0.144\tDiscriminator Loss: 3.241 | ms/iteration: 0.0013\n",
            "[499/20000]\tGenerator Loss: 0.161\tDiscriminator Loss: 3.100 | ms/iteration: 0.0012\n",
            "[599/20000]\tGenerator Loss: 0.278\tDiscriminator Loss: 3.099 | ms/iteration: 0.0013\n",
            "[699/20000]\tGenerator Loss: 1.629\tDiscriminator Loss: 2.799 | ms/iteration: 0.0013\n",
            "models saved to /content/drive/MyDrive/Deep_learning 05107255/ex3_316168061_313471526/Q4_GAN/checkpoints/22_05_31_16:14:03_wgan-gp.ckpt\n",
            "[799/20000]\tGenerator Loss: 0.304\tDiscriminator Loss: 2.356 | ms/iteration: 0.0013\n",
            "models saved to /content/drive/MyDrive/Deep_learning 05107255/ex3_316168061_313471526/Q4_GAN/checkpoints/22_05_31_16:14:03_wgan-gp.ckpt\n",
            "[899/20000]\tGenerator Loss: 0.299\tDiscriminator Loss: 3.147 | ms/iteration: 0.0013\n"
          ]
        },
        {
          "output_type": "stream",
          "name": "stderr",
          "text": [
            "WARNING:root:Lossy conversion from float32 to uint8. Range [0, 1]. Convert image to uint8 prior to saving to suppress this warning.\n"
          ]
        },
        {
          "output_type": "stream",
          "name": "stdout",
          "text": [
            "[999/20000]\tGenerator Loss: 1.693\tDiscriminator Loss: 2.371 | ms/iteration: 0.0013\n",
            "[1099/20000]\tGenerator Loss: 1.051\tDiscriminator Loss: 2.419 | ms/iteration: 0.0013\n",
            "[1199/20000]\tGenerator Loss: 1.347\tDiscriminator Loss: 2.345 | ms/iteration: 0.0012\n",
            "models saved to /content/drive/MyDrive/Deep_learning 05107255/ex3_316168061_313471526/Q4_GAN/checkpoints/22_05_31_16:14:03_wgan-gp.ckpt\n",
            "[1299/20000]\tGenerator Loss: 1.840\tDiscriminator Loss: 2.336 | ms/iteration: 0.0012\n",
            "models saved to /content/drive/MyDrive/Deep_learning 05107255/ex3_316168061_313471526/Q4_GAN/checkpoints/22_05_31_16:14:03_wgan-gp.ckpt\n",
            "[1399/20000]\tGenerator Loss: 2.925\tDiscriminator Loss: 2.481 | ms/iteration: 0.0012\n",
            "[1499/20000]\tGenerator Loss: 2.083\tDiscriminator Loss: 2.328 | ms/iteration: 0.0013\n",
            "models saved to /content/drive/MyDrive/Deep_learning 05107255/ex3_316168061_313471526/Q4_GAN/checkpoints/22_05_31_16:14:03_wgan-gp.ckpt\n",
            "[1599/20000]\tGenerator Loss: 0.685\tDiscriminator Loss: 2.057 | ms/iteration: 0.0012\n",
            "models saved to /content/drive/MyDrive/Deep_learning 05107255/ex3_316168061_313471526/Q4_GAN/checkpoints/22_05_31_16:14:03_wgan-gp.ckpt\n",
            "[1699/20000]\tGenerator Loss: 2.077\tDiscriminator Loss: 2.504 | ms/iteration: 0.0012\n",
            "[1799/20000]\tGenerator Loss: 0.886\tDiscriminator Loss: 2.288 | ms/iteration: 0.0013\n",
            "[1899/20000]\tGenerator Loss: 2.123\tDiscriminator Loss: 2.205 | ms/iteration: 0.0013\n"
          ]
        },
        {
          "output_type": "stream",
          "name": "stderr",
          "text": [
            "WARNING:root:Lossy conversion from float32 to uint8. Range [0, 1]. Convert image to uint8 prior to saving to suppress this warning.\n"
          ]
        },
        {
          "output_type": "stream",
          "name": "stdout",
          "text": [
            "[1999/20000]\tGenerator Loss: 2.042\tDiscriminator Loss: 2.093 | ms/iteration: 0.0012\n",
            "[2099/20000]\tGenerator Loss: 0.740\tDiscriminator Loss: 2.091 | ms/iteration: 0.0012\n",
            "[2199/20000]\tGenerator Loss: 0.923\tDiscriminator Loss: 2.198 | ms/iteration: 0.0012\n",
            "[2299/20000]\tGenerator Loss: 0.349\tDiscriminator Loss: 1.936 | ms/iteration: 0.0012\n",
            "models saved to /content/drive/MyDrive/Deep_learning 05107255/ex3_316168061_313471526/Q4_GAN/checkpoints/22_05_31_16:14:03_wgan-gp.ckpt\n",
            "[2399/20000]\tGenerator Loss: 2.298\tDiscriminator Loss: 2.019 | ms/iteration: 0.0013\n",
            "[2499/20000]\tGenerator Loss: 1.041\tDiscriminator Loss: 2.098 | ms/iteration: 0.0012\n",
            "[2599/20000]\tGenerator Loss: 1.462\tDiscriminator Loss: 1.900 | ms/iteration: 0.0013\n",
            "models saved to /content/drive/MyDrive/Deep_learning 05107255/ex3_316168061_313471526/Q4_GAN/checkpoints/22_05_31_16:14:03_wgan-gp.ckpt\n",
            "[2699/20000]\tGenerator Loss: 1.842\tDiscriminator Loss: 1.942 | ms/iteration: 0.0013\n",
            "[2799/20000]\tGenerator Loss: 1.746\tDiscriminator Loss: 1.864 | ms/iteration: 0.0013\n",
            "models saved to /content/drive/MyDrive/Deep_learning 05107255/ex3_316168061_313471526/Q4_GAN/checkpoints/22_05_31_16:14:03_wgan-gp.ckpt\n",
            "[2899/20000]\tGenerator Loss: 1.102\tDiscriminator Loss: 2.209 | ms/iteration: 0.0013\n"
          ]
        },
        {
          "output_type": "stream",
          "name": "stderr",
          "text": [
            "WARNING:root:Lossy conversion from float32 to uint8. Range [0, 1]. Convert image to uint8 prior to saving to suppress this warning.\n"
          ]
        },
        {
          "output_type": "stream",
          "name": "stdout",
          "text": [
            "[2999/20000]\tGenerator Loss: 0.471\tDiscriminator Loss: 1.883 | ms/iteration: 0.0012\n",
            "[3099/20000]\tGenerator Loss: 1.152\tDiscriminator Loss: 1.971 | ms/iteration: 0.0012\n",
            "[3199/20000]\tGenerator Loss: 0.815\tDiscriminator Loss: 1.635 | ms/iteration: 0.0012\n",
            "models saved to /content/drive/MyDrive/Deep_learning 05107255/ex3_316168061_313471526/Q4_GAN/checkpoints/22_05_31_16:14:03_wgan-gp.ckpt\n",
            "[3299/20000]\tGenerator Loss: 0.982\tDiscriminator Loss: 2.109 | ms/iteration: 0.0012\n",
            "[3399/20000]\tGenerator Loss: 1.036\tDiscriminator Loss: 1.999 | ms/iteration: 0.0012\n",
            "[3499/20000]\tGenerator Loss: 0.863\tDiscriminator Loss: 1.734 | ms/iteration: 0.0013\n",
            "[3599/20000]\tGenerator Loss: 1.221\tDiscriminator Loss: 1.979 | ms/iteration: 0.0012\n",
            "[3699/20000]\tGenerator Loss: 0.959\tDiscriminator Loss: 1.548 | ms/iteration: 0.0012\n",
            "models saved to /content/drive/MyDrive/Deep_learning 05107255/ex3_316168061_313471526/Q4_GAN/checkpoints/22_05_31_16:14:03_wgan-gp.ckpt\n",
            "[3799/20000]\tGenerator Loss: 1.415\tDiscriminator Loss: 1.776 | ms/iteration: 0.0013\n",
            "[3899/20000]\tGenerator Loss: 0.807\tDiscriminator Loss: 1.667 | ms/iteration: 0.0013\n"
          ]
        },
        {
          "output_type": "stream",
          "name": "stderr",
          "text": [
            "WARNING:root:Lossy conversion from float32 to uint8. Range [0, 1]. Convert image to uint8 prior to saving to suppress this warning.\n"
          ]
        },
        {
          "output_type": "stream",
          "name": "stdout",
          "text": [
            "[3999/20000]\tGenerator Loss: 1.099\tDiscriminator Loss: 1.546 | ms/iteration: 0.0013\n",
            "models saved to /content/drive/MyDrive/Deep_learning 05107255/ex3_316168061_313471526/Q4_GAN/checkpoints/22_05_31_16:14:03_wgan-gp.ckpt\n",
            "[4099/20000]\tGenerator Loss: 0.761\tDiscriminator Loss: 1.660 | ms/iteration: 0.0013\n",
            "[4199/20000]\tGenerator Loss: 1.269\tDiscriminator Loss: 1.696 | ms/iteration: 0.0012\n",
            "[4299/20000]\tGenerator Loss: 0.411\tDiscriminator Loss: 1.642 | ms/iteration: 0.0012\n",
            "[4399/20000]\tGenerator Loss: 0.535\tDiscriminator Loss: 1.643 | ms/iteration: 0.0013\n",
            "[4499/20000]\tGenerator Loss: 1.042\tDiscriminator Loss: 1.698 | ms/iteration: 0.0012\n",
            "[4599/20000]\tGenerator Loss: 0.220\tDiscriminator Loss: 1.733 | ms/iteration: 0.0013\n",
            "[4699/20000]\tGenerator Loss: 0.877\tDiscriminator Loss: 1.591 | ms/iteration: 0.0013\n",
            "[4799/20000]\tGenerator Loss: 0.863\tDiscriminator Loss: 2.093 | ms/iteration: 0.0013\n",
            "[4899/20000]\tGenerator Loss: 0.108\tDiscriminator Loss: 1.712 | ms/iteration: 0.0013\n"
          ]
        },
        {
          "output_type": "stream",
          "name": "stderr",
          "text": [
            "WARNING:root:Lossy conversion from float32 to uint8. Range [0, 1]. Convert image to uint8 prior to saving to suppress this warning.\n"
          ]
        },
        {
          "output_type": "stream",
          "name": "stdout",
          "text": [
            "[4999/20000]\tGenerator Loss: 0.800\tDiscriminator Loss: 1.635 | ms/iteration: 0.0012\n",
            "[5099/20000]\tGenerator Loss: 0.940\tDiscriminator Loss: 1.600 | ms/iteration: 0.0012\n",
            "[5199/20000]\tGenerator Loss: 0.335\tDiscriminator Loss: 1.584 | ms/iteration: 0.0012\n",
            "[5299/20000]\tGenerator Loss: 0.494\tDiscriminator Loss: 1.422 | ms/iteration: 0.0013\n",
            "models saved to /content/drive/MyDrive/Deep_learning 05107255/ex3_316168061_313471526/Q4_GAN/checkpoints/22_05_31_16:14:03_wgan-gp.ckpt\n",
            "[5399/20000]\tGenerator Loss: 0.460\tDiscriminator Loss: 1.275 | ms/iteration: 0.0013\n",
            "models saved to /content/drive/MyDrive/Deep_learning 05107255/ex3_316168061_313471526/Q4_GAN/checkpoints/22_05_31_16:14:03_wgan-gp.ckpt\n",
            "[5499/20000]\tGenerator Loss: 0.492\tDiscriminator Loss: 1.640 | ms/iteration: 0.0012\n",
            "[5599/20000]\tGenerator Loss: 1.266\tDiscriminator Loss: 1.534 | ms/iteration: 0.0012\n",
            "[5699/20000]\tGenerator Loss: 0.441\tDiscriminator Loss: 1.510 | ms/iteration: 0.0013\n",
            "[5799/20000]\tGenerator Loss: 0.648\tDiscriminator Loss: 1.529 | ms/iteration: 0.0013\n",
            "[5899/20000]\tGenerator Loss: 0.646\tDiscriminator Loss: 1.726 | ms/iteration: 0.0012\n"
          ]
        },
        {
          "output_type": "stream",
          "name": "stderr",
          "text": [
            "WARNING:root:Lossy conversion from float32 to uint8. Range [0, 1]. Convert image to uint8 prior to saving to suppress this warning.\n"
          ]
        },
        {
          "output_type": "stream",
          "name": "stdout",
          "text": [
            "[5999/20000]\tGenerator Loss: 0.673\tDiscriminator Loss: 1.691 | ms/iteration: 0.0012\n",
            "[6099/20000]\tGenerator Loss: 0.468\tDiscriminator Loss: 1.795 | ms/iteration: 0.0013\n",
            "[6199/20000]\tGenerator Loss: 1.152\tDiscriminator Loss: 1.221 | ms/iteration: 0.0012\n",
            "models saved to /content/drive/MyDrive/Deep_learning 05107255/ex3_316168061_313471526/Q4_GAN/checkpoints/22_05_31_16:14:03_wgan-gp.ckpt\n",
            "[6299/20000]\tGenerator Loss: 0.159\tDiscriminator Loss: 1.548 | ms/iteration: 0.0013\n",
            "[6399/20000]\tGenerator Loss: 0.086\tDiscriminator Loss: 1.672 | ms/iteration: 0.0013\n",
            "[6499/20000]\tGenerator Loss: 0.023\tDiscriminator Loss: 1.420 | ms/iteration: 0.0012\n",
            "[6599/20000]\tGenerator Loss: 0.627\tDiscriminator Loss: 1.280 | ms/iteration: 0.0013\n",
            "[6699/20000]\tGenerator Loss: 0.605\tDiscriminator Loss: 1.410 | ms/iteration: 0.0013\n",
            "[6799/20000]\tGenerator Loss: 0.509\tDiscriminator Loss: 1.399 | ms/iteration: 0.0013\n",
            "[6899/20000]\tGenerator Loss: 0.654\tDiscriminator Loss: 1.289 | ms/iteration: 0.0012\n"
          ]
        },
        {
          "output_type": "stream",
          "name": "stderr",
          "text": [
            "WARNING:root:Lossy conversion from float32 to uint8. Range [0, 1]. Convert image to uint8 prior to saving to suppress this warning.\n"
          ]
        },
        {
          "output_type": "stream",
          "name": "stdout",
          "text": [
            "[6999/20000]\tGenerator Loss: 0.580\tDiscriminator Loss: 1.410 | ms/iteration: 0.0013\n",
            "[7099/20000]\tGenerator Loss: 0.422\tDiscriminator Loss: 1.274 | ms/iteration: 0.0013\n",
            "[7199/20000]\tGenerator Loss: 0.746\tDiscriminator Loss: 1.262 | ms/iteration: 0.0013\n",
            "[7299/20000]\tGenerator Loss: 0.084\tDiscriminator Loss: 1.130 | ms/iteration: 0.0013\n",
            "models saved to /content/drive/MyDrive/Deep_learning 05107255/ex3_316168061_313471526/Q4_GAN/checkpoints/22_05_31_16:14:03_wgan-gp.ckpt\n",
            "[7399/20000]\tGenerator Loss: 0.633\tDiscriminator Loss: 1.411 | ms/iteration: 0.0013\n",
            "[7499/20000]\tGenerator Loss: 0.101\tDiscriminator Loss: 1.640 | ms/iteration: 0.0012\n",
            "[7599/20000]\tGenerator Loss: 0.157\tDiscriminator Loss: 1.160 | ms/iteration: 0.0012\n",
            "[7699/20000]\tGenerator Loss: 0.615\tDiscriminator Loss: 1.615 | ms/iteration: 0.0013\n",
            "[7799/20000]\tGenerator Loss: 0.856\tDiscriminator Loss: 1.346 | ms/iteration: 0.0013\n",
            "[7899/20000]\tGenerator Loss: 0.132\tDiscriminator Loss: 1.530 | ms/iteration: 0.0012\n"
          ]
        },
        {
          "output_type": "stream",
          "name": "stderr",
          "text": [
            "WARNING:root:Lossy conversion from float32 to uint8. Range [0, 1]. Convert image to uint8 prior to saving to suppress this warning.\n"
          ]
        },
        {
          "output_type": "stream",
          "name": "stdout",
          "text": [
            "[7999/20000]\tGenerator Loss: 0.276\tDiscriminator Loss: 1.358 | ms/iteration: 0.0012\n",
            "[8099/20000]\tGenerator Loss: 0.211\tDiscriminator Loss: 1.492 | ms/iteration: 0.0012\n",
            "[8199/20000]\tGenerator Loss: 0.363\tDiscriminator Loss: 1.296 | ms/iteration: 0.0013\n",
            "[8299/20000]\tGenerator Loss: 0.074\tDiscriminator Loss: 1.263 | ms/iteration: 0.0013\n",
            "[8399/20000]\tGenerator Loss: 0.337\tDiscriminator Loss: 1.110 | ms/iteration: 0.0012\n",
            "models saved to /content/drive/MyDrive/Deep_learning 05107255/ex3_316168061_313471526/Q4_GAN/checkpoints/22_05_31_16:14:03_wgan-gp.ckpt\n",
            "[8499/20000]\tGenerator Loss: 0.166\tDiscriminator Loss: 1.063 | ms/iteration: 0.0012\n",
            "models saved to /content/drive/MyDrive/Deep_learning 05107255/ex3_316168061_313471526/Q4_GAN/checkpoints/22_05_31_16:14:03_wgan-gp.ckpt\n",
            "[8599/20000]\tGenerator Loss: 0.119\tDiscriminator Loss: 1.317 | ms/iteration: 0.0012\n",
            "[8699/20000]\tGenerator Loss: 0.173\tDiscriminator Loss: 1.256 | ms/iteration: 0.0012\n",
            "[8799/20000]\tGenerator Loss: 0.537\tDiscriminator Loss: 1.392 | ms/iteration: 0.0013\n",
            "[8899/20000]\tGenerator Loss: 0.839\tDiscriminator Loss: 1.355 | ms/iteration: 0.0013\n"
          ]
        },
        {
          "output_type": "stream",
          "name": "stderr",
          "text": [
            "WARNING:root:Lossy conversion from float32 to uint8. Range [0, 1]. Convert image to uint8 prior to saving to suppress this warning.\n"
          ]
        },
        {
          "output_type": "stream",
          "name": "stdout",
          "text": [
            "[8999/20000]\tGenerator Loss: 0.409\tDiscriminator Loss: 1.421 | ms/iteration: 0.0012\n",
            "[9099/20000]\tGenerator Loss: 0.129\tDiscriminator Loss: 1.179 | ms/iteration: 0.0013\n",
            "[9199/20000]\tGenerator Loss: 0.143\tDiscriminator Loss: 1.441 | ms/iteration: 0.0013\n",
            "[9299/20000]\tGenerator Loss: 0.294\tDiscriminator Loss: 1.279 | ms/iteration: 0.0012\n",
            "[9399/20000]\tGenerator Loss: 0.437\tDiscriminator Loss: 1.252 | ms/iteration: 0.0013\n",
            "[9499/20000]\tGenerator Loss: 0.228\tDiscriminator Loss: 1.100 | ms/iteration: 0.0012\n",
            "[9599/20000]\tGenerator Loss: 0.344\tDiscriminator Loss: 1.081 | ms/iteration: 0.0012\n",
            "[9699/20000]\tGenerator Loss: 0.425\tDiscriminator Loss: 1.482 | ms/iteration: 0.0012\n",
            "[9799/20000]\tGenerator Loss: 0.374\tDiscriminator Loss: 1.259 | ms/iteration: 0.0013\n",
            "[9899/20000]\tGenerator Loss: 0.877\tDiscriminator Loss: 1.348 | ms/iteration: 0.0013\n"
          ]
        },
        {
          "output_type": "stream",
          "name": "stderr",
          "text": [
            "WARNING:root:Lossy conversion from float32 to uint8. Range [0, 1]. Convert image to uint8 prior to saving to suppress this warning.\n"
          ]
        },
        {
          "output_type": "stream",
          "name": "stdout",
          "text": [
            "[9999/20000]\tGenerator Loss: 0.530\tDiscriminator Loss: 1.446 | ms/iteration: 0.0012\n",
            "[10099/20000]\tGenerator Loss: 0.309\tDiscriminator Loss: 1.443 | ms/iteration: 0.0013\n",
            "[10199/20000]\tGenerator Loss: 0.662\tDiscriminator Loss: 1.374 | ms/iteration: 0.0013\n",
            "[10299/20000]\tGenerator Loss: 0.257\tDiscriminator Loss: 1.287 | ms/iteration: 0.0013\n",
            "[10399/20000]\tGenerator Loss: 0.061\tDiscriminator Loss: 1.376 | ms/iteration: 0.0012\n",
            "[10499/20000]\tGenerator Loss: 0.157\tDiscriminator Loss: 1.674 | ms/iteration: 0.0013\n",
            "[10599/20000]\tGenerator Loss: 0.669\tDiscriminator Loss: 1.257 | ms/iteration: 0.0012\n",
            "[10699/20000]\tGenerator Loss: 0.379\tDiscriminator Loss: 1.179 | ms/iteration: 0.0012\n",
            "[10799/20000]\tGenerator Loss: 0.193\tDiscriminator Loss: 1.180 | ms/iteration: 0.0012\n",
            "[10899/20000]\tGenerator Loss: 0.627\tDiscriminator Loss: 1.045 | ms/iteration: 0.0012\n",
            "models saved to /content/drive/MyDrive/Deep_learning 05107255/ex3_316168061_313471526/Q4_GAN/checkpoints/22_05_31_16:14:03_wgan-gp.ckpt\n"
          ]
        },
        {
          "output_type": "stream",
          "name": "stderr",
          "text": [
            "WARNING:root:Lossy conversion from float32 to uint8. Range [0, 1]. Convert image to uint8 prior to saving to suppress this warning.\n"
          ]
        },
        {
          "output_type": "stream",
          "name": "stdout",
          "text": [
            "[10999/20000]\tGenerator Loss: 0.016\tDiscriminator Loss: 1.188 | ms/iteration: 0.0013\n",
            "[11099/20000]\tGenerator Loss: 0.411\tDiscriminator Loss: 1.313 | ms/iteration: 0.0013\n",
            "[11199/20000]\tGenerator Loss: 0.111\tDiscriminator Loss: 0.960 | ms/iteration: 0.0013\n",
            "models saved to /content/drive/MyDrive/Deep_learning 05107255/ex3_316168061_313471526/Q4_GAN/checkpoints/22_05_31_16:14:03_wgan-gp.ckpt\n",
            "[11299/20000]\tGenerator Loss: 0.304\tDiscriminator Loss: 1.281 | ms/iteration: 0.0013\n",
            "[11399/20000]\tGenerator Loss: 0.314\tDiscriminator Loss: 1.136 | ms/iteration: 0.0012\n",
            "[11499/20000]\tGenerator Loss: 0.034\tDiscriminator Loss: 1.222 | ms/iteration: 0.0013\n",
            "[11599/20000]\tGenerator Loss: 0.012\tDiscriminator Loss: 1.086 | ms/iteration: 0.0012\n",
            "[11699/20000]\tGenerator Loss: 0.120\tDiscriminator Loss: 1.125 | ms/iteration: 0.0012\n",
            "[11799/20000]\tGenerator Loss: 0.351\tDiscriminator Loss: 1.308 | ms/iteration: 0.0012\n",
            "[11899/20000]\tGenerator Loss: 0.184\tDiscriminator Loss: 0.921 | ms/iteration: 0.0013\n",
            "models saved to /content/drive/MyDrive/Deep_learning 05107255/ex3_316168061_313471526/Q4_GAN/checkpoints/22_05_31_16:14:03_wgan-gp.ckpt\n"
          ]
        },
        {
          "output_type": "stream",
          "name": "stderr",
          "text": [
            "WARNING:root:Lossy conversion from float32 to uint8. Range [0, 1]. Convert image to uint8 prior to saving to suppress this warning.\n"
          ]
        },
        {
          "output_type": "stream",
          "name": "stdout",
          "text": [
            "[11999/20000]\tGenerator Loss: 0.206\tDiscriminator Loss: 1.052 | ms/iteration: 0.0013\n",
            "[12099/20000]\tGenerator Loss: 0.237\tDiscriminator Loss: 1.205 | ms/iteration: 0.0012\n",
            "[12199/20000]\tGenerator Loss: 0.296\tDiscriminator Loss: 1.101 | ms/iteration: 0.0013\n",
            "[12299/20000]\tGenerator Loss: 0.766\tDiscriminator Loss: 1.108 | ms/iteration: 0.0013\n",
            "[12399/20000]\tGenerator Loss: 0.212\tDiscriminator Loss: 1.062 | ms/iteration: 0.0012\n",
            "[12499/20000]\tGenerator Loss: 0.050\tDiscriminator Loss: 0.980 | ms/iteration: 0.0013\n",
            "[12599/20000]\tGenerator Loss: 0.208\tDiscriminator Loss: 1.299 | ms/iteration: 0.0013\n",
            "[12699/20000]\tGenerator Loss: 0.753\tDiscriminator Loss: 0.881 | ms/iteration: 0.0013\n",
            "models saved to /content/drive/MyDrive/Deep_learning 05107255/ex3_316168061_313471526/Q4_GAN/checkpoints/22_05_31_16:14:03_wgan-gp.ckpt\n",
            "[12799/20000]\tGenerator Loss: 0.043\tDiscriminator Loss: 1.184 | ms/iteration: 0.0013\n",
            "[12899/20000]\tGenerator Loss: 0.506\tDiscriminator Loss: 1.192 | ms/iteration: 0.0013\n"
          ]
        },
        {
          "output_type": "stream",
          "name": "stderr",
          "text": [
            "WARNING:root:Lossy conversion from float32 to uint8. Range [0, 1]. Convert image to uint8 prior to saving to suppress this warning.\n"
          ]
        },
        {
          "output_type": "stream",
          "name": "stdout",
          "text": [
            "[12999/20000]\tGenerator Loss: 0.091\tDiscriminator Loss: 1.152 | ms/iteration: 0.0012\n",
            "[13099/20000]\tGenerator Loss: 0.090\tDiscriminator Loss: 1.276 | ms/iteration: 0.0013\n",
            "[13199/20000]\tGenerator Loss: 0.186\tDiscriminator Loss: 0.972 | ms/iteration: 0.0012\n",
            "[13299/20000]\tGenerator Loss: 0.063\tDiscriminator Loss: 1.418 | ms/iteration: 0.0012\n",
            "[13399/20000]\tGenerator Loss: 0.334\tDiscriminator Loss: 1.143 | ms/iteration: 0.0013\n",
            "[13499/20000]\tGenerator Loss: 0.098\tDiscriminator Loss: 1.106 | ms/iteration: 0.0012\n",
            "[13599/20000]\tGenerator Loss: 0.184\tDiscriminator Loss: 1.222 | ms/iteration: 0.0013\n",
            "[13699/20000]\tGenerator Loss: 0.248\tDiscriminator Loss: 1.320 | ms/iteration: 0.0012\n",
            "[13799/20000]\tGenerator Loss: 0.404\tDiscriminator Loss: 0.846 | ms/iteration: 0.0012\n",
            "models saved to /content/drive/MyDrive/Deep_learning 05107255/ex3_316168061_313471526/Q4_GAN/checkpoints/22_05_31_16:14:03_wgan-gp.ckpt\n",
            "[13899/20000]\tGenerator Loss: 0.154\tDiscriminator Loss: 1.223 | ms/iteration: 0.0013\n"
          ]
        },
        {
          "output_type": "stream",
          "name": "stderr",
          "text": [
            "WARNING:root:Lossy conversion from float32 to uint8. Range [0, 1]. Convert image to uint8 prior to saving to suppress this warning.\n"
          ]
        },
        {
          "output_type": "stream",
          "name": "stdout",
          "text": [
            "[13999/20000]\tGenerator Loss: 0.070\tDiscriminator Loss: 1.301 | ms/iteration: 0.0012\n",
            "[14099/20000]\tGenerator Loss: 0.166\tDiscriminator Loss: 1.078 | ms/iteration: 0.0014\n",
            "[14199/20000]\tGenerator Loss: 0.134\tDiscriminator Loss: 1.139 | ms/iteration: 0.0013\n",
            "[14299/20000]\tGenerator Loss: 0.004\tDiscriminator Loss: 0.979 | ms/iteration: 0.0013\n",
            "[14399/20000]\tGenerator Loss: 0.017\tDiscriminator Loss: 1.404 | ms/iteration: 0.0012\n",
            "[14499/20000]\tGenerator Loss: 0.467\tDiscriminator Loss: 0.907 | ms/iteration: 0.0013\n",
            "[14599/20000]\tGenerator Loss: 0.182\tDiscriminator Loss: 0.962 | ms/iteration: 0.0013\n",
            "[14699/20000]\tGenerator Loss: 0.333\tDiscriminator Loss: 1.147 | ms/iteration: 0.0012\n",
            "[14799/20000]\tGenerator Loss: 0.046\tDiscriminator Loss: 1.095 | ms/iteration: 0.0013\n",
            "[14899/20000]\tGenerator Loss: 0.099\tDiscriminator Loss: 1.272 | ms/iteration: 0.0013\n"
          ]
        },
        {
          "output_type": "stream",
          "name": "stderr",
          "text": [
            "WARNING:root:Lossy conversion from float32 to uint8. Range [0, 1]. Convert image to uint8 prior to saving to suppress this warning.\n"
          ]
        },
        {
          "output_type": "stream",
          "name": "stdout",
          "text": [
            "[14999/20000]\tGenerator Loss: 0.482\tDiscriminator Loss: 1.215 | ms/iteration: 0.0013\n",
            "[15099/20000]\tGenerator Loss: 0.462\tDiscriminator Loss: 1.177 | ms/iteration: 0.0013\n",
            "[15199/20000]\tGenerator Loss: 0.019\tDiscriminator Loss: 1.179 | ms/iteration: 0.0012\n",
            "[15299/20000]\tGenerator Loss: 0.128\tDiscriminator Loss: 1.177 | ms/iteration: 0.0013\n",
            "[15399/20000]\tGenerator Loss: 0.117\tDiscriminator Loss: 1.237 | ms/iteration: 0.0013\n",
            "[15499/20000]\tGenerator Loss: 0.046\tDiscriminator Loss: 0.876 | ms/iteration: 0.0012\n",
            "[15599/20000]\tGenerator Loss: 0.028\tDiscriminator Loss: 0.943 | ms/iteration: 0.0013\n",
            "[15699/20000]\tGenerator Loss: 0.139\tDiscriminator Loss: 1.182 | ms/iteration: 0.0012\n",
            "[15799/20000]\tGenerator Loss: 0.172\tDiscriminator Loss: 1.050 | ms/iteration: 0.0013\n",
            "[15899/20000]\tGenerator Loss: 0.001\tDiscriminator Loss: 1.225 | ms/iteration: 0.0012\n"
          ]
        },
        {
          "output_type": "stream",
          "name": "stderr",
          "text": [
            "WARNING:root:Lossy conversion from float32 to uint8. Range [0, 1]. Convert image to uint8 prior to saving to suppress this warning.\n"
          ]
        },
        {
          "output_type": "stream",
          "name": "stdout",
          "text": [
            "[15999/20000]\tGenerator Loss: 0.379\tDiscriminator Loss: 1.218 | ms/iteration: 0.0013\n",
            "[16099/20000]\tGenerator Loss: 0.293\tDiscriminator Loss: 0.967 | ms/iteration: 0.0012\n",
            "[16199/20000]\tGenerator Loss: 0.178\tDiscriminator Loss: 0.845 | ms/iteration: 0.0012\n",
            "models saved to /content/drive/MyDrive/Deep_learning 05107255/ex3_316168061_313471526/Q4_GAN/checkpoints/22_05_31_16:14:03_wgan-gp.ckpt\n",
            "[16299/20000]\tGenerator Loss: 0.043\tDiscriminator Loss: 0.959 | ms/iteration: 0.0013\n",
            "[16399/20000]\tGenerator Loss: 0.346\tDiscriminator Loss: 0.831 | ms/iteration: 0.0012\n",
            "models saved to /content/drive/MyDrive/Deep_learning 05107255/ex3_316168061_313471526/Q4_GAN/checkpoints/22_05_31_16:14:03_wgan-gp.ckpt\n",
            "[16499/20000]\tGenerator Loss: 0.109\tDiscriminator Loss: 1.042 | ms/iteration: 0.0013\n",
            "[16599/20000]\tGenerator Loss: 0.165\tDiscriminator Loss: 0.918 | ms/iteration: 0.0013\n",
            "[16699/20000]\tGenerator Loss: 0.388\tDiscriminator Loss: 0.994 | ms/iteration: 0.0013\n",
            "[16799/20000]\tGenerator Loss: 0.622\tDiscriminator Loss: 1.193 | ms/iteration: 0.0012\n",
            "[16899/20000]\tGenerator Loss: 0.456\tDiscriminator Loss: 0.963 | ms/iteration: 0.0013\n"
          ]
        },
        {
          "output_type": "stream",
          "name": "stderr",
          "text": [
            "WARNING:root:Lossy conversion from float32 to uint8. Range [0, 1]. Convert image to uint8 prior to saving to suppress this warning.\n"
          ]
        },
        {
          "output_type": "stream",
          "name": "stdout",
          "text": [
            "[16999/20000]\tGenerator Loss: 0.484\tDiscriminator Loss: 1.192 | ms/iteration: 0.0013\n",
            "[17099/20000]\tGenerator Loss: 0.167\tDiscriminator Loss: 1.287 | ms/iteration: 0.0013\n",
            "[17199/20000]\tGenerator Loss: 0.106\tDiscriminator Loss: 1.368 | ms/iteration: 0.0013\n",
            "[17299/20000]\tGenerator Loss: 0.000\tDiscriminator Loss: 1.205 | ms/iteration: 0.0013\n",
            "[17399/20000]\tGenerator Loss: 0.165\tDiscriminator Loss: 1.169 | ms/iteration: 0.0013\n",
            "[17499/20000]\tGenerator Loss: 0.197\tDiscriminator Loss: 1.078 | ms/iteration: 0.0013\n",
            "[17599/20000]\tGenerator Loss: 0.036\tDiscriminator Loss: 1.188 | ms/iteration: 0.0013\n",
            "[17699/20000]\tGenerator Loss: 0.014\tDiscriminator Loss: 1.170 | ms/iteration: 0.0012\n",
            "[17799/20000]\tGenerator Loss: 0.054\tDiscriminator Loss: 1.053 | ms/iteration: 0.0013\n",
            "[17899/20000]\tGenerator Loss: 0.032\tDiscriminator Loss: 1.215 | ms/iteration: 0.0013\n"
          ]
        },
        {
          "output_type": "stream",
          "name": "stderr",
          "text": [
            "WARNING:root:Lossy conversion from float32 to uint8. Range [0, 1]. Convert image to uint8 prior to saving to suppress this warning.\n"
          ]
        },
        {
          "output_type": "stream",
          "name": "stdout",
          "text": [
            "[17999/20000]\tGenerator Loss: 0.276\tDiscriminator Loss: 1.019 | ms/iteration: 0.0012\n",
            "[18099/20000]\tGenerator Loss: 0.282\tDiscriminator Loss: 1.111 | ms/iteration: 0.0012\n",
            "[18199/20000]\tGenerator Loss: 0.024\tDiscriminator Loss: 0.945 | ms/iteration: 0.0013\n",
            "[18299/20000]\tGenerator Loss: 0.698\tDiscriminator Loss: 1.108 | ms/iteration: 0.0012\n",
            "[18399/20000]\tGenerator Loss: 0.573\tDiscriminator Loss: 1.076 | ms/iteration: 0.0013\n",
            "[18499/20000]\tGenerator Loss: 0.143\tDiscriminator Loss: 1.010 | ms/iteration: 0.0012\n",
            "[18599/20000]\tGenerator Loss: 0.384\tDiscriminator Loss: 1.149 | ms/iteration: 0.0013\n",
            "[18699/20000]\tGenerator Loss: 0.123\tDiscriminator Loss: 0.994 | ms/iteration: 0.0013\n",
            "[18799/20000]\tGenerator Loss: 0.050\tDiscriminator Loss: 1.015 | ms/iteration: 0.0013\n",
            "[18899/20000]\tGenerator Loss: 0.216\tDiscriminator Loss: 0.976 | ms/iteration: 0.0013\n"
          ]
        },
        {
          "output_type": "stream",
          "name": "stderr",
          "text": [
            "WARNING:root:Lossy conversion from float32 to uint8. Range [0, 1]. Convert image to uint8 prior to saving to suppress this warning.\n"
          ]
        },
        {
          "output_type": "stream",
          "name": "stdout",
          "text": [
            "[18999/20000]\tGenerator Loss: 0.355\tDiscriminator Loss: 0.899 | ms/iteration: 0.0013\n",
            "[19099/20000]\tGenerator Loss: 0.389\tDiscriminator Loss: 1.075 | ms/iteration: 0.0012\n",
            "[19199/20000]\tGenerator Loss: 0.089\tDiscriminator Loss: 1.020 | ms/iteration: 0.0013\n",
            "[19299/20000]\tGenerator Loss: 0.037\tDiscriminator Loss: 0.848 | ms/iteration: 0.0013\n",
            "[19399/20000]\tGenerator Loss: 0.087\tDiscriminator Loss: 0.998 | ms/iteration: 0.0012\n",
            "[19499/20000]\tGenerator Loss: 0.239\tDiscriminator Loss: 1.015 | ms/iteration: 0.0013\n",
            "[19599/20000]\tGenerator Loss: 0.212\tDiscriminator Loss: 0.962 | ms/iteration: 0.0013\n",
            "[19699/20000]\tGenerator Loss: 0.267\tDiscriminator Loss: 1.197 | ms/iteration: 0.0013\n",
            "[19799/20000]\tGenerator Loss: 0.108\tDiscriminator Loss: 1.087 | ms/iteration: 0.0013\n",
            "[19899/20000]\tGenerator Loss: 0.194\tDiscriminator Loss: 1.235 | ms/iteration: 0.0012\n"
          ]
        },
        {
          "output_type": "stream",
          "name": "stderr",
          "text": [
            "WARNING:root:Lossy conversion from float32 to uint8. Range [0, 1]. Convert image to uint8 prior to saving to suppress this warning.\n"
          ]
        },
        {
          "output_type": "stream",
          "name": "stdout",
          "text": [
            "[19999/20000]\tGenerator Loss: 0.154\tDiscriminator Loss: 0.939 | ms/iteration: 0.0013\n"
          ]
        },
        {
          "output_type": "display_data",
          "data": {
            "text/plain": [
              "<Figure size 720x720 with 0 Axes>"
            ]
          },
          "metadata": {}
        },
        {
          "output_type": "display_data",
          "data": {
            "text/plain": [
              "<Figure size 720x720 with 0 Axes>"
            ]
          },
          "metadata": {}
        },
        {
          "output_type": "display_data",
          "data": {
            "text/plain": [
              "<Figure size 720x720 with 0 Axes>"
            ]
          },
          "metadata": {}
        },
        {
          "output_type": "display_data",
          "data": {
            "text/plain": [
              "<Figure size 720x720 with 0 Axes>"
            ]
          },
          "metadata": {}
        },
        {
          "output_type": "display_data",
          "data": {
            "text/plain": [
              "<Figure size 720x720 with 0 Axes>"
            ]
          },
          "metadata": {}
        },
        {
          "output_type": "display_data",
          "data": {
            "text/plain": [
              "<Figure size 720x720 with 0 Axes>"
            ]
          },
          "metadata": {}
        },
        {
          "output_type": "display_data",
          "data": {
            "text/plain": [
              "<Figure size 720x720 with 0 Axes>"
            ]
          },
          "metadata": {}
        },
        {
          "output_type": "display_data",
          "data": {
            "text/plain": [
              "<Figure size 720x720 with 0 Axes>"
            ]
          },
          "metadata": {}
        },
        {
          "output_type": "display_data",
          "data": {
            "text/plain": [
              "<Figure size 720x720 with 0 Axes>"
            ]
          },
          "metadata": {}
        },
        {
          "output_type": "display_data",
          "data": {
            "text/plain": [
              "<Figure size 720x720 with 0 Axes>"
            ]
          },
          "metadata": {}
        },
        {
          "output_type": "display_data",
          "data": {
            "text/plain": [
              "<Figure size 720x720 with 0 Axes>"
            ]
          },
          "metadata": {}
        },
        {
          "output_type": "display_data",
          "data": {
            "text/plain": [
              "<Figure size 720x720 with 0 Axes>"
            ]
          },
          "metadata": {}
        },
        {
          "output_type": "display_data",
          "data": {
            "text/plain": [
              "<Figure size 720x720 with 0 Axes>"
            ]
          },
          "metadata": {}
        },
        {
          "output_type": "display_data",
          "data": {
            "text/plain": [
              "<Figure size 720x720 with 0 Axes>"
            ]
          },
          "metadata": {}
        },
        {
          "output_type": "display_data",
          "data": {
            "text/plain": [
              "<Figure size 720x720 with 0 Axes>"
            ]
          },
          "metadata": {}
        },
        {
          "output_type": "display_data",
          "data": {
            "text/plain": [
              "<Figure size 720x720 with 0 Axes>"
            ]
          },
          "metadata": {}
        },
        {
          "output_type": "display_data",
          "data": {
            "text/plain": [
              "<Figure size 720x720 with 0 Axes>"
            ]
          },
          "metadata": {}
        },
        {
          "output_type": "display_data",
          "data": {
            "text/plain": [
              "<Figure size 720x720 with 0 Axes>"
            ]
          },
          "metadata": {}
        },
        {
          "output_type": "display_data",
          "data": {
            "text/plain": [
              "<Figure size 720x720 with 0 Axes>"
            ]
          },
          "metadata": {}
        },
        {
          "output_type": "display_data",
          "data": {
            "text/plain": [
              "<Figure size 720x720 with 1 Axes>"
            ],
            "image/png": "[encoded data removed]"
          },
          "metadata": {
            "needs_background": "light"
          }
        }
      ]
    },
    {
      "cell_type": "code",
      "source": [
        ""
      ],
      "metadata": {
        "id": "-tT5qITEBkaa"
      },
      "execution_count": null,
      "outputs": []
    }
  ]
}