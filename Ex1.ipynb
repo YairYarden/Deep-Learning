{
  "nbformat": 4,
  "nbformat_minor": 0,
  "metadata": {
    "colab": {
      "name": "Ex1.ipynb",
      "provenance": [],
      "collapsed_sections": [],
      "toc_visible": true,
      "include_colab_link": true
    },
    "kernelspec": {
      "name": "python3",
      "display_name": "Python 3"
    },
    "language_info": {
      "name": "python"
    },
    "accelerator": "GPU",
    "widgets": {
      "application/vnd.jupyter.widget-state+json": {
        "800c008692ce4c98b2606327331444a3": {
          "model_module": "@jupyter-widgets/controls",
          "model_name": "HBoxModel",
          "model_module_version": "1.5.0",
          "state": {
            "_dom_classes": [],
            "_model_module": "@jupyter-widgets/controls",
            "_model_module_version": "1.5.0",
            "_model_name": "HBoxModel",
            "_view_count": null,
            "_view_module": "@jupyter-widgets/controls",
            "_view_module_version": "1.5.0",
            "_view_name": "HBoxView",
            "box_style": "",
            "children": [
              "IPY_MODEL_c07da159c6a14259b0e40dcde669e8f2",
              "IPY_MODEL_97d0c7b06544491cbefcf05e9539288c",
              "IPY_MODEL_d2fe85e109ea4be1b5852bc7f67a4801"
            ],
            "layout": "IPY_MODEL_1d1a130328d14e9fadace91995e05fbd"
          }
        },
        "c07da159c6a14259b0e40dcde669e8f2": {
          "model_module": "@jupyter-widgets/controls",
          "model_name": "HTMLModel",
          "model_module_version": "1.5.0",
          "state": {
            "_dom_classes": [],
            "_model_module": "@jupyter-widgets/controls",
            "_model_module_version": "1.5.0",
            "_model_name": "HTMLModel",
            "_view_count": null,
            "_view_module": "@jupyter-widgets/controls",
            "_view_module_version": "1.5.0",
            "_view_name": "HTMLView",
            "description": "",
            "description_tooltip": null,
            "layout": "IPY_MODEL_3120314716ab401281907863991d39b1",
            "placeholder": "​",
            "style": "IPY_MODEL_7e44f45937254155b5871696a6b62077",
            "value": ""
          }
        },
        "97d0c7b06544491cbefcf05e9539288c": {
          "model_module": "@jupyter-widgets/controls",
          "model_name": "FloatProgressModel",
          "model_module_version": "1.5.0",
          "state": {
            "_dom_classes": [],
            "_model_module": "@jupyter-widgets/controls",
            "_model_module_version": "1.5.0",
            "_model_name": "FloatProgressModel",
            "_view_count": null,
            "_view_module": "@jupyter-widgets/controls",
            "_view_module_version": "1.5.0",
            "_view_name": "ProgressView",
            "bar_style": "success",
            "description": "",
            "description_tooltip": null,
            "layout": "IPY_MODEL_278462346dfc42c8b65d12546f8d342c",
            "max": 26421880,
            "min": 0,
            "orientation": "horizontal",
            "style": "IPY_MODEL_9632b9a105d247ab87562b27d8ba0bd6",
            "value": 26421880
          }
        },
        "d2fe85e109ea4be1b5852bc7f67a4801": {
          "model_module": "@jupyter-widgets/controls",
          "model_name": "HTMLModel",
          "model_module_version": "1.5.0",
          "state": {
            "_dom_classes": [],
            "_model_module": "@jupyter-widgets/controls",
            "_model_module_version": "1.5.0",
            "_model_name": "HTMLModel",
            "_view_count": null,
            "_view_module": "@jupyter-widgets/controls",
            "_view_module_version": "1.5.0",
            "_view_name": "HTMLView",
            "description": "",
            "description_tooltip": null,
            "layout": "IPY_MODEL_fb00aa8b2acf451ab286a9a978726130",
            "placeholder": "​",
            "style": "IPY_MODEL_bd2078c38d0347e2b63d3f5dec493c50",
            "value": " 26422272/? [00:04&lt;00:00, 10443891.40it/s]"
          }
        },
        "1d1a130328d14e9fadace91995e05fbd": {
          "model_module": "@jupyter-widgets/base",
          "model_name": "LayoutModel",
          "model_module_version": "1.2.0",
          "state": {
            "_model_module": "@jupyter-widgets/base",
            "_model_module_version": "1.2.0",
            "_model_name": "LayoutModel",
            "_view_count": null,
            "_view_module": "@jupyter-widgets/base",
            "_view_module_version": "1.2.0",
            "_view_name": "LayoutView",
            "align_content": null,
            "align_items": null,
            "align_self": null,
            "border": null,
            "bottom": null,
            "display": null,
            "flex": null,
            "flex_flow": null,
            "grid_area": null,
            "grid_auto_columns": null,
            "grid_auto_flow": null,
            "grid_auto_rows": null,
            "grid_column": null,
            "grid_gap": null,
            "grid_row": null,
            "grid_template_areas": null,
            "grid_template_columns": null,
            "grid_template_rows": null,
            "height": null,
            "justify_content": null,
            "justify_items": null,
            "left": null,
            "margin": null,
            "max_height": null,
            "max_width": null,
            "min_height": null,
            "min_width": null,
            "object_fit": null,
            "object_position": null,
            "order": null,
            "overflow": null,
            "overflow_x": null,
            "overflow_y": null,
            "padding": null,
            "right": null,
            "top": null,
            "visibility": null,
            "width": null
          }
        },
        "3120314716ab401281907863991d39b1": {
          "model_module": "@jupyter-widgets/base",
          "model_name": "LayoutModel",
          "model_module_version": "1.2.0",
          "state": {
            "_model_module": "@jupyter-widgets/base",
            "_model_module_version": "1.2.0",
            "_model_name": "LayoutModel",
            "_view_count": null,
            "_view_module": "@jupyter-widgets/base",
            "_view_module_version": "1.2.0",
            "_view_name": "LayoutView",
            "align_content": null,
            "align_items": null,
            "align_self": null,
            "border": null,
            "bottom": null,
            "display": null,
            "flex": null,
            "flex_flow": null,
            "grid_area": null,
            "grid_auto_columns": null,
            "grid_auto_flow": null,
            "grid_auto_rows": null,
            "grid_column": null,
            "grid_gap": null,
            "grid_row": null,
            "grid_template_areas": null,
            "grid_template_columns": null,
            "grid_template_rows": null,
            "height": null,
            "justify_content": null,
            "justify_items": null,
            "left": null,
            "margin": null,
            "max_height": null,
            "max_width": null,
            "min_height": null,
            "min_width": null,
            "object_fit": null,
            "object_position": null,
            "order": null,
            "overflow": null,
            "overflow_x": null,
            "overflow_y": null,
            "padding": null,
            "right": null,
            "top": null,
            "visibility": null,
            "width": null
          }
        },
        "7e44f45937254155b5871696a6b62077": {
          "model_module": "@jupyter-widgets/controls",
          "model_name": "DescriptionStyleModel",
          "model_module_version": "1.5.0",
          "state": {
            "_model_module": "@jupyter-widgets/controls",
            "_model_module_version": "1.5.0",
            "_model_name": "DescriptionStyleModel",
            "_view_count": null,
            "_view_module": "@jupyter-widgets/base",
            "_view_module_version": "1.2.0",
            "_view_name": "StyleView",
            "description_width": ""
          }
        },
        "278462346dfc42c8b65d12546f8d342c": {
          "model_module": "@jupyter-widgets/base",
          "model_name": "LayoutModel",
          "model_module_version": "1.2.0",
          "state": {
            "_model_module": "@jupyter-widgets/base",
            "_model_module_version": "1.2.0",
            "_model_name": "LayoutModel",
            "_view_count": null,
            "_view_module": "@jupyter-widgets/base",
            "_view_module_version": "1.2.0",
            "_view_name": "LayoutView",
            "align_content": null,
            "align_items": null,
            "align_self": null,
            "border": null,
            "bottom": null,
            "display": null,
            "flex": null,
            "flex_flow": null,
            "grid_area": null,
            "grid_auto_columns": null,
            "grid_auto_flow": null,
            "grid_auto_rows": null,
            "grid_column": null,
            "grid_gap": null,
            "grid_row": null,
            "grid_template_areas": null,
            "grid_template_columns": null,
            "grid_template_rows": null,
            "height": null,
            "justify_content": null,
            "justify_items": null,
            "left": null,
            "margin": null,
            "max_height": null,
            "max_width": null,
            "min_height": null,
            "min_width": null,
            "object_fit": null,
            "object_position": null,
            "order": null,
            "overflow": null,
            "overflow_x": null,
            "overflow_y": null,
            "padding": null,
            "right": null,
            "top": null,
            "visibility": null,
            "width": null
          }
        },
        "9632b9a105d247ab87562b27d8ba0bd6": {
          "model_module": "@jupyter-widgets/controls",
          "model_name": "ProgressStyleModel",
          "model_module_version": "1.5.0",
          "state": {
            "_model_module": "@jupyter-widgets/controls",
            "_model_module_version": "1.5.0",
            "_model_name": "ProgressStyleModel",
            "_view_count": null,
            "_view_module": "@jupyter-widgets/base",
            "_view_module_version": "1.2.0",
            "_view_name": "StyleView",
            "bar_color": null,
            "description_width": ""
          }
        },
        "fb00aa8b2acf451ab286a9a978726130": {
          "model_module": "@jupyter-widgets/base",
          "model_name": "LayoutModel",
          "model_module_version": "1.2.0",
          "state": {
            "_model_module": "@jupyter-widgets/base",
            "_model_module_version": "1.2.0",
            "_model_name": "LayoutModel",
            "_view_count": null,
            "_view_module": "@jupyter-widgets/base",
            "_view_module_version": "1.2.0",
            "_view_name": "LayoutView",
            "align_content": null,
            "align_items": null,
            "align_self": null,
            "border": null,
            "bottom": null,
            "display": null,
            "flex": null,
            "flex_flow": null,
            "grid_area": null,
            "grid_auto_columns": null,
            "grid_auto_flow": null,
            "grid_auto_rows": null,
            "grid_column": null,
            "grid_gap": null,
            "grid_row": null,
            "grid_template_areas": null,
            "grid_template_columns": null,
            "grid_template_rows": null,
            "height": null,
            "justify_content": null,
            "justify_items": null,
            "left": null,
            "margin": null,
            "max_height": null,
            "max_width": null,
            "min_height": null,
            "min_width": null,
            "object_fit": null,
            "object_position": null,
            "order": null,
            "overflow": null,
            "overflow_x": null,
            "overflow_y": null,
            "padding": null,
            "right": null,
            "top": null,
            "visibility": null,
            "width": null
          }
        },
        "bd2078c38d0347e2b63d3f5dec493c50": {
          "model_module": "@jupyter-widgets/controls",
          "model_name": "DescriptionStyleModel",
          "model_module_version": "1.5.0",
          "state": {
            "_model_module": "@jupyter-widgets/controls",
            "_model_module_version": "1.5.0",
            "_model_name": "DescriptionStyleModel",
            "_view_count": null,
            "_view_module": "@jupyter-widgets/base",
            "_view_module_version": "1.2.0",
            "_view_name": "StyleView",
            "description_width": ""
          }
        },
        "4695ee400f6a4a1a9b9bc851b132d82a": {
          "model_module": "@jupyter-widgets/controls",
          "model_name": "HBoxModel",
          "model_module_version": "1.5.0",
          "state": {
            "_dom_classes": [],
            "_model_module": "@jupyter-widgets/controls",
            "_model_module_version": "1.5.0",
            "_model_name": "HBoxModel",
            "_view_count": null,
            "_view_module": "@jupyter-widgets/controls",
            "_view_module_version": "1.5.0",
            "_view_name": "HBoxView",
            "box_style": "",
            "children": [
              "IPY_MODEL_b14e423df01d40658c70be6845d63d35",
              "IPY_MODEL_734302b5d8334f9489f41ced301cb44f",
              "IPY_MODEL_2af6a2acdaf0461a9e3b916e08fb917f"
            ],
            "layout": "IPY_MODEL_4672e95187e545758745910ffe2060b8"
          }
        },
        "b14e423df01d40658c70be6845d63d35": {
          "model_module": "@jupyter-widgets/controls",
          "model_name": "HTMLModel",
          "model_module_version": "1.5.0",
          "state": {
            "_dom_classes": [],
            "_model_module": "@jupyter-widgets/controls",
            "_model_module_version": "1.5.0",
            "_model_name": "HTMLModel",
            "_view_count": null,
            "_view_module": "@jupyter-widgets/controls",
            "_view_module_version": "1.5.0",
            "_view_name": "HTMLView",
            "description": "",
            "description_tooltip": null,
            "layout": "IPY_MODEL_0d3c4fa7a19e4b859f7f64d8b1f43103",
            "placeholder": "​",
            "style": "IPY_MODEL_75d1247c4cf1472d86504c7cbdafa797",
            "value": ""
          }
        },
        "734302b5d8334f9489f41ced301cb44f": {
          "model_module": "@jupyter-widgets/controls",
          "model_name": "FloatProgressModel",
          "model_module_version": "1.5.0",
          "state": {
            "_dom_classes": [],
            "_model_module": "@jupyter-widgets/controls",
            "_model_module_version": "1.5.0",
            "_model_name": "FloatProgressModel",
            "_view_count": null,
            "_view_module": "@jupyter-widgets/controls",
            "_view_module_version": "1.5.0",
            "_view_name": "ProgressView",
            "bar_style": "success",
            "description": "",
            "description_tooltip": null,
            "layout": "IPY_MODEL_21c704818fee479da1e16fab8af4e7a2",
            "max": 29515,
            "min": 0,
            "orientation": "horizontal",
            "style": "IPY_MODEL_2fb28e7254ac49c984990314368517f9",
            "value": 29515
          }
        },
        "2af6a2acdaf0461a9e3b916e08fb917f": {
          "model_module": "@jupyter-widgets/controls",
          "model_name": "HTMLModel",
          "model_module_version": "1.5.0",
          "state": {
            "_dom_classes": [],
            "_model_module": "@jupyter-widgets/controls",
            "_model_module_version": "1.5.0",
            "_model_name": "HTMLModel",
            "_view_count": null,
            "_view_module": "@jupyter-widgets/controls",
            "_view_module_version": "1.5.0",
            "_view_name": "HTMLView",
            "description": "",
            "description_tooltip": null,
            "layout": "IPY_MODEL_73828c820dd742db838ed67050884738",
            "placeholder": "​",
            "style": "IPY_MODEL_6476c8211a574b3ca7fdeba147e15056",
            "value": " 29696/? [00:00&lt;00:00, 55954.18it/s]"
          }
        },
        "4672e95187e545758745910ffe2060b8": {
          "model_module": "@jupyter-widgets/base",
          "model_name": "LayoutModel",
          "model_module_version": "1.2.0",
          "state": {
            "_model_module": "@jupyter-widgets/base",
            "_model_module_version": "1.2.0",
            "_model_name": "LayoutModel",
            "_view_count": null,
            "_view_module": "@jupyter-widgets/base",
            "_view_module_version": "1.2.0",
            "_view_name": "LayoutView",
            "align_content": null,
            "align_items": null,
            "align_self": null,
            "border": null,
            "bottom": null,
            "display": null,
            "flex": null,
            "flex_flow": null,
            "grid_area": null,
            "grid_auto_columns": null,
            "grid_auto_flow": null,
            "grid_auto_rows": null,
            "grid_column": null,
            "grid_gap": null,
            "grid_row": null,
            "grid_template_areas": null,
            "grid_template_columns": null,
            "grid_template_rows": null,
            "height": null,
            "justify_content": null,
            "justify_items": null,
            "left": null,
            "margin": null,
            "max_height": null,
            "max_width": null,
            "min_height": null,
            "min_width": null,
            "object_fit": null,
            "object_position": null,
            "order": null,
            "overflow": null,
            "overflow_x": null,
            "overflow_y": null,
            "padding": null,
            "right": null,
            "top": null,
            "visibility": null,
            "width": null
          }
        },
        "0d3c4fa7a19e4b859f7f64d8b1f43103": {
          "model_module": "@jupyter-widgets/base",
          "model_name": "LayoutModel",
          "model_module_version": "1.2.0",
          "state": {
            "_model_module": "@jupyter-widgets/base",
            "_model_module_version": "1.2.0",
            "_model_name": "LayoutModel",
            "_view_count": null,
            "_view_module": "@jupyter-widgets/base",
            "_view_module_version": "1.2.0",
            "_view_name": "LayoutView",
            "align_content": null,
            "align_items": null,
            "align_self": null,
            "border": null,
            "bottom": null,
            "display": null,
            "flex": null,
            "flex_flow": null,
            "grid_area": null,
            "grid_auto_columns": null,
            "grid_auto_flow": null,
            "grid_auto_rows": null,
            "grid_column": null,
            "grid_gap": null,
            "grid_row": null,
            "grid_template_areas": null,
            "grid_template_columns": null,
            "grid_template_rows": null,
            "height": null,
            "justify_content": null,
            "justify_items": null,
            "left": null,
            "margin": null,
            "max_height": null,
            "max_width": null,
            "min_height": null,
            "min_width": null,
            "object_fit": null,
            "object_position": null,
            "order": null,
            "overflow": null,
            "overflow_x": null,
            "overflow_y": null,
            "padding": null,
            "right": null,
            "top": null,
            "visibility": null,
            "width": null
          }
        },
        "75d1247c4cf1472d86504c7cbdafa797": {
          "model_module": "@jupyter-widgets/controls",
          "model_name": "DescriptionStyleModel",
          "model_module_version": "1.5.0",
          "state": {
            "_model_module": "@jupyter-widgets/controls",
            "_model_module_version": "1.5.0",
            "_model_name": "DescriptionStyleModel",
            "_view_count": null,
            "_view_module": "@jupyter-widgets/base",
            "_view_module_version": "1.2.0",
            "_view_name": "StyleView",
            "description_width": ""
          }
        },
        "21c704818fee479da1e16fab8af4e7a2": {
          "model_module": "@jupyter-widgets/base",
          "model_name": "LayoutModel",
          "model_module_version": "1.2.0",
          "state": {
            "_model_module": "@jupyter-widgets/base",
            "_model_module_version": "1.2.0",
            "_model_name": "LayoutModel",
            "_view_count": null,
            "_view_module": "@jupyter-widgets/base",
            "_view_module_version": "1.2.0",
            "_view_name": "LayoutView",
            "align_content": null,
            "align_items": null,
            "align_self": null,
            "border": null,
            "bottom": null,
            "display": null,
            "flex": null,
            "flex_flow": null,
            "grid_area": null,
            "grid_auto_columns": null,
            "grid_auto_flow": null,
            "grid_auto_rows": null,
            "grid_column": null,
            "grid_gap": null,
            "grid_row": null,
            "grid_template_areas": null,
            "grid_template_columns": null,
            "grid_template_rows": null,
            "height": null,
            "justify_content": null,
            "justify_items": null,
            "left": null,
            "margin": null,
            "max_height": null,
            "max_width": null,
            "min_height": null,
            "min_width": null,
            "object_fit": null,
            "object_position": null,
            "order": null,
            "overflow": null,
            "overflow_x": null,
            "overflow_y": null,
            "padding": null,
            "right": null,
            "top": null,
            "visibility": null,
            "width": null
          }
        },
        "2fb28e7254ac49c984990314368517f9": {
          "model_module": "@jupyter-widgets/controls",
          "model_name": "ProgressStyleModel",
          "model_module_version": "1.5.0",
          "state": {
            "_model_module": "@jupyter-widgets/controls",
            "_model_module_version": "1.5.0",
            "_model_name": "ProgressStyleModel",
            "_view_count": null,
            "_view_module": "@jupyter-widgets/base",
            "_view_module_version": "1.2.0",
            "_view_name": "StyleView",
            "bar_color": null,
            "description_width": ""
          }
        },
        "73828c820dd742db838ed67050884738": {
          "model_module": "@jupyter-widgets/base",
          "model_name": "LayoutModel",
          "model_module_version": "1.2.0",
          "state": {
            "_model_module": "@jupyter-widgets/base",
            "_model_module_version": "1.2.0",
            "_model_name": "LayoutModel",
            "_view_count": null,
            "_view_module": "@jupyter-widgets/base",
            "_view_module_version": "1.2.0",
            "_view_name": "LayoutView",
            "align_content": null,
            "align_items": null,
            "align_self": null,
            "border": null,
            "bottom": null,
            "display": null,
            "flex": null,
            "flex_flow": null,
            "grid_area": null,
            "grid_auto_columns": null,
            "grid_auto_flow": null,
            "grid_auto_rows": null,
            "grid_column": null,
            "grid_gap": null,
            "grid_row": null,
            "grid_template_areas": null,
            "grid_template_columns": null,
            "grid_template_rows": null,
            "height": null,
            "justify_content": null,
            "justify_items": null,
            "left": null,
            "margin": null,
            "max_height": null,
            "max_width": null,
            "min_height": null,
            "min_width": null,
            "object_fit": null,
            "object_position": null,
            "order": null,
            "overflow": null,
            "overflow_x": null,
            "overflow_y": null,
            "padding": null,
            "right": null,
            "top": null,
            "visibility": null,
            "width": null
          }
        },
        "6476c8211a574b3ca7fdeba147e15056": {
          "model_module": "@jupyter-widgets/controls",
          "model_name": "DescriptionStyleModel",
          "model_module_version": "1.5.0",
          "state": {
            "_model_module": "@jupyter-widgets/controls",
            "_model_module_version": "1.5.0",
            "_model_name": "DescriptionStyleModel",
            "_view_count": null,
            "_view_module": "@jupyter-widgets/base",
            "_view_module_version": "1.2.0",
            "_view_name": "StyleView",
            "description_width": ""
          }
        },
        "1c07686d584b4973b17edd12c92e4225": {
          "model_module": "@jupyter-widgets/controls",
          "model_name": "HBoxModel",
          "model_module_version": "1.5.0",
          "state": {
            "_dom_classes": [],
            "_model_module": "@jupyter-widgets/controls",
            "_model_module_version": "1.5.0",
            "_model_name": "HBoxModel",
            "_view_count": null,
            "_view_module": "@jupyter-widgets/controls",
            "_view_module_version": "1.5.0",
            "_view_name": "HBoxView",
            "box_style": "",
            "children": [
              "IPY_MODEL_293323bc82644010b30f8774a52af2e9",
              "IPY_MODEL_d5860fabcff04c7f9c954b37e78123f4",
              "IPY_MODEL_ff69e923866b41e887b284fc2d16b376"
            ],
            "layout": "IPY_MODEL_8e130e6046a740e19947ebe3b7895045"
          }
        },
        "293323bc82644010b30f8774a52af2e9": {
          "model_module": "@jupyter-widgets/controls",
          "model_name": "HTMLModel",
          "model_module_version": "1.5.0",
          "state": {
            "_dom_classes": [],
            "_model_module": "@jupyter-widgets/controls",
            "_model_module_version": "1.5.0",
            "_model_name": "HTMLModel",
            "_view_count": null,
            "_view_module": "@jupyter-widgets/controls",
            "_view_module_version": "1.5.0",
            "_view_name": "HTMLView",
            "description": "",
            "description_tooltip": null,
            "layout": "IPY_MODEL_7ee982af12c84ebeb0d789c1f100456f",
            "placeholder": "​",
            "style": "IPY_MODEL_367bf764409c413497fb9389d6a6a6e7",
            "value": ""
          }
        },
        "d5860fabcff04c7f9c954b37e78123f4": {
          "model_module": "@jupyter-widgets/controls",
          "model_name": "FloatProgressModel",
          "model_module_version": "1.5.0",
          "state": {
            "_dom_classes": [],
            "_model_module": "@jupyter-widgets/controls",
            "_model_module_version": "1.5.0",
            "_model_name": "FloatProgressModel",
            "_view_count": null,
            "_view_module": "@jupyter-widgets/controls",
            "_view_module_version": "1.5.0",
            "_view_name": "ProgressView",
            "bar_style": "success",
            "description": "",
            "description_tooltip": null,
            "layout": "IPY_MODEL_686fab6f64d9476db4e4d85be9286ba7",
            "max": 4422102,
            "min": 0,
            "orientation": "horizontal",
            "style": "IPY_MODEL_79011a6a58c541e08df20b7100d9ded3",
            "value": 4422102
          }
        },
        "ff69e923866b41e887b284fc2d16b376": {
          "model_module": "@jupyter-widgets/controls",
          "model_name": "HTMLModel",
          "model_module_version": "1.5.0",
          "state": {
            "_dom_classes": [],
            "_model_module": "@jupyter-widgets/controls",
            "_model_module_version": "1.5.0",
            "_model_name": "HTMLModel",
            "_view_count": null,
            "_view_module": "@jupyter-widgets/controls",
            "_view_module_version": "1.5.0",
            "_view_name": "HTMLView",
            "description": "",
            "description_tooltip": null,
            "layout": "IPY_MODEL_0f37f9b49ee943da8e084703f0ac8f71",
            "placeholder": "​",
            "style": "IPY_MODEL_b225e87551c74f5194e2433c004de37f",
            "value": " 4422656/? [00:02&lt;00:00, 3508730.00it/s]"
          }
        },
        "8e130e6046a740e19947ebe3b7895045": {
          "model_module": "@jupyter-widgets/base",
          "model_name": "LayoutModel",
          "model_module_version": "1.2.0",
          "state": {
            "_model_module": "@jupyter-widgets/base",
            "_model_module_version": "1.2.0",
            "_model_name": "LayoutModel",
            "_view_count": null,
            "_view_module": "@jupyter-widgets/base",
            "_view_module_version": "1.2.0",
            "_view_name": "LayoutView",
            "align_content": null,
            "align_items": null,
            "align_self": null,
            "border": null,
            "bottom": null,
            "display": null,
            "flex": null,
            "flex_flow": null,
            "grid_area": null,
            "grid_auto_columns": null,
            "grid_auto_flow": null,
            "grid_auto_rows": null,
            "grid_column": null,
            "grid_gap": null,
            "grid_row": null,
            "grid_template_areas": null,
            "grid_template_columns": null,
            "grid_template_rows": null,
            "height": null,
            "justify_content": null,
            "justify_items": null,
            "left": null,
            "margin": null,
            "max_height": null,
            "max_width": null,
            "min_height": null,
            "min_width": null,
            "object_fit": null,
            "object_position": null,
            "order": null,
            "overflow": null,
            "overflow_x": null,
            "overflow_y": null,
            "padding": null,
            "right": null,
            "top": null,
            "visibility": null,
            "width": null
          }
        },
        "7ee982af12c84ebeb0d789c1f100456f": {
          "model_module": "@jupyter-widgets/base",
          "model_name": "LayoutModel",
          "model_module_version": "1.2.0",
          "state": {
            "_model_module": "@jupyter-widgets/base",
            "_model_module_version": "1.2.0",
            "_model_name": "LayoutModel",
            "_view_count": null,
            "_view_module": "@jupyter-widgets/base",
            "_view_module_version": "1.2.0",
            "_view_name": "LayoutView",
            "align_content": null,
            "align_items": null,
            "align_self": null,
            "border": null,
            "bottom": null,
            "display": null,
            "flex": null,
            "flex_flow": null,
            "grid_area": null,
            "grid_auto_columns": null,
            "grid_auto_flow": null,
            "grid_auto_rows": null,
            "grid_column": null,
            "grid_gap": null,
            "grid_row": null,
            "grid_template_areas": null,
            "grid_template_columns": null,
            "grid_template_rows": null,
            "height": null,
            "justify_content": null,
            "justify_items": null,
            "left": null,
            "margin": null,
            "max_height": null,
            "max_width": null,
            "min_height": null,
            "min_width": null,
            "object_fit": null,
            "object_position": null,
            "order": null,
            "overflow": null,
            "overflow_x": null,
            "overflow_y": null,
            "padding": null,
            "right": null,
            "top": null,
            "visibility": null,
            "width": null
          }
        },
        "367bf764409c413497fb9389d6a6a6e7": {
          "model_module": "@jupyter-widgets/controls",
          "model_name": "DescriptionStyleModel",
          "model_module_version": "1.5.0",
          "state": {
            "_model_module": "@jupyter-widgets/controls",
            "_model_module_version": "1.5.0",
            "_model_name": "DescriptionStyleModel",
            "_view_count": null,
            "_view_module": "@jupyter-widgets/base",
            "_view_module_version": "1.2.0",
            "_view_name": "StyleView",
            "description_width": ""
          }
        },
        "686fab6f64d9476db4e4d85be9286ba7": {
          "model_module": "@jupyter-widgets/base",
          "model_name": "LayoutModel",
          "model_module_version": "1.2.0",
          "state": {
            "_model_module": "@jupyter-widgets/base",
            "_model_module_version": "1.2.0",
            "_model_name": "LayoutModel",
            "_view_count": null,
            "_view_module": "@jupyter-widgets/base",
            "_view_module_version": "1.2.0",
            "_view_name": "LayoutView",
            "align_content": null,
            "align_items": null,
            "align_self": null,
            "border": null,
            "bottom": null,
            "display": null,
            "flex": null,
            "flex_flow": null,
            "grid_area": null,
            "grid_auto_columns": null,
            "grid_auto_flow": null,
            "grid_auto_rows": null,
            "grid_column": null,
            "grid_gap": null,
            "grid_row": null,
            "grid_template_areas": null,
            "grid_template_columns": null,
            "grid_template_rows": null,
            "height": null,
            "justify_content": null,
            "justify_items": null,
            "left": null,
            "margin": null,
            "max_height": null,
            "max_width": null,
            "min_height": null,
            "min_width": null,
            "object_fit": null,
            "object_position": null,
            "order": null,
            "overflow": null,
            "overflow_x": null,
            "overflow_y": null,
            "padding": null,
            "right": null,
            "top": null,
            "visibility": null,
            "width": null
          }
        },
        "79011a6a58c541e08df20b7100d9ded3": {
          "model_module": "@jupyter-widgets/controls",
          "model_name": "ProgressStyleModel",
          "model_module_version": "1.5.0",
          "state": {
            "_model_module": "@jupyter-widgets/controls",
            "_model_module_version": "1.5.0",
            "_model_name": "ProgressStyleModel",
            "_view_count": null,
            "_view_module": "@jupyter-widgets/base",
            "_view_module_version": "1.2.0",
            "_view_name": "StyleView",
            "bar_color": null,
            "description_width": ""
          }
        },
        "0f37f9b49ee943da8e084703f0ac8f71": {
          "model_module": "@jupyter-widgets/base",
          "model_name": "LayoutModel",
          "model_module_version": "1.2.0",
          "state": {
            "_model_module": "@jupyter-widgets/base",
            "_model_module_version": "1.2.0",
            "_model_name": "LayoutModel",
            "_view_count": null,
            "_view_module": "@jupyter-widgets/base",
            "_view_module_version": "1.2.0",
            "_view_name": "LayoutView",
            "align_content": null,
            "align_items": null,
            "align_self": null,
            "border": null,
            "bottom": null,
            "display": null,
            "flex": null,
            "flex_flow": null,
            "grid_area": null,
            "grid_auto_columns": null,
            "grid_auto_flow": null,
            "grid_auto_rows": null,
            "grid_column": null,
            "grid_gap": null,
            "grid_row": null,
            "grid_template_areas": null,
            "grid_template_columns": null,
            "grid_template_rows": null,
            "height": null,
            "justify_content": null,
            "justify_items": null,
            "left": null,
            "margin": null,
            "max_height": null,
            "max_width": null,
            "min_height": null,
            "min_width": null,
            "object_fit": null,
            "object_position": null,
            "order": null,
            "overflow": null,
            "overflow_x": null,
            "overflow_y": null,
            "padding": null,
            "right": null,
            "top": null,
            "visibility": null,
            "width": null
          }
        },
        "b225e87551c74f5194e2433c004de37f": {
          "model_module": "@jupyter-widgets/controls",
          "model_name": "DescriptionStyleModel",
          "model_module_version": "1.5.0",
          "state": {
            "_model_module": "@jupyter-widgets/controls",
            "_model_module_version": "1.5.0",
            "_model_name": "DescriptionStyleModel",
            "_view_count": null,
            "_view_module": "@jupyter-widgets/base",
            "_view_module_version": "1.2.0",
            "_view_name": "StyleView",
            "description_width": ""
          }
        },
        "8688ab2af24a4e1aa95f63a7615e26e8": {
          "model_module": "@jupyter-widgets/controls",
          "model_name": "HBoxModel",
          "model_module_version": "1.5.0",
          "state": {
            "_dom_classes": [],
            "_model_module": "@jupyter-widgets/controls",
            "_model_module_version": "1.5.0",
            "_model_name": "HBoxModel",
            "_view_count": null,
            "_view_module": "@jupyter-widgets/controls",
            "_view_module_version": "1.5.0",
            "_view_name": "HBoxView",
            "box_style": "",
            "children": [
              "IPY_MODEL_47becda3243842d78c2f24e8b53de95e",
              "IPY_MODEL_07b11ad24743486787b5b2448b81a4c5",
              "IPY_MODEL_a53bcfdf83964e319aa6d175c67d8b0c"
            ],
            "layout": "IPY_MODEL_da122223820046f9b59d36b496e93460"
          }
        },
        "47becda3243842d78c2f24e8b53de95e": {
          "model_module": "@jupyter-widgets/controls",
          "model_name": "HTMLModel",
          "model_module_version": "1.5.0",
          "state": {
            "_dom_classes": [],
            "_model_module": "@jupyter-widgets/controls",
            "_model_module_version": "1.5.0",
            "_model_name": "HTMLModel",
            "_view_count": null,
            "_view_module": "@jupyter-widgets/controls",
            "_view_module_version": "1.5.0",
            "_view_name": "HTMLView",
            "description": "",
            "description_tooltip": null,
            "layout": "IPY_MODEL_5d8e79d634474328b341f7cd5c97892a",
            "placeholder": "​",
            "style": "IPY_MODEL_e99ec9da5c8b4797ad75ce4aeca976b0",
            "value": ""
          }
        },
        "07b11ad24743486787b5b2448b81a4c5": {
          "model_module": "@jupyter-widgets/controls",
          "model_name": "FloatProgressModel",
          "model_module_version": "1.5.0",
          "state": {
            "_dom_classes": [],
            "_model_module": "@jupyter-widgets/controls",
            "_model_module_version": "1.5.0",
            "_model_name": "FloatProgressModel",
            "_view_count": null,
            "_view_module": "@jupyter-widgets/controls",
            "_view_module_version": "1.5.0",
            "_view_name": "ProgressView",
            "bar_style": "success",
            "description": "",
            "description_tooltip": null,
            "layout": "IPY_MODEL_280b616df3ff4d48b22e5c61a9bd4f96",
            "max": 5148,
            "min": 0,
            "orientation": "horizontal",
            "style": "IPY_MODEL_8dceb9186c984f9ca00c16448ac26eb9",
            "value": 5148
          }
        },
        "a53bcfdf83964e319aa6d175c67d8b0c": {
          "model_module": "@jupyter-widgets/controls",
          "model_name": "HTMLModel",
          "model_module_version": "1.5.0",
          "state": {
            "_dom_classes": [],
            "_model_module": "@jupyter-widgets/controls",
            "_model_module_version": "1.5.0",
            "_model_name": "HTMLModel",
            "_view_count": null,
            "_view_module": "@jupyter-widgets/controls",
            "_view_module_version": "1.5.0",
            "_view_name": "HTMLView",
            "description": "",
            "description_tooltip": null,
            "layout": "IPY_MODEL_45bf77d234784deab0652f4e76ada36a",
            "placeholder": "​",
            "style": "IPY_MODEL_f02e030a830d428ab7f033c1d71698b0",
            "value": " 6144/? [00:00&lt;00:00, 155878.32it/s]"
          }
        },
        "da122223820046f9b59d36b496e93460": {
          "model_module": "@jupyter-widgets/base",
          "model_name": "LayoutModel",
          "model_module_version": "1.2.0",
          "state": {
            "_model_module": "@jupyter-widgets/base",
            "_model_module_version": "1.2.0",
            "_model_name": "LayoutModel",
            "_view_count": null,
            "_view_module": "@jupyter-widgets/base",
            "_view_module_version": "1.2.0",
            "_view_name": "LayoutView",
            "align_content": null,
            "align_items": null,
            "align_self": null,
            "border": null,
            "bottom": null,
            "display": null,
            "flex": null,
            "flex_flow": null,
            "grid_area": null,
            "grid_auto_columns": null,
            "grid_auto_flow": null,
            "grid_auto_rows": null,
            "grid_column": null,
            "grid_gap": null,
            "grid_row": null,
            "grid_template_areas": null,
            "grid_template_columns": null,
            "grid_template_rows": null,
            "height": null,
            "justify_content": null,
            "justify_items": null,
            "left": null,
            "margin": null,
            "max_height": null,
            "max_width": null,
            "min_height": null,
            "min_width": null,
            "object_fit": null,
            "object_position": null,
            "order": null,
            "overflow": null,
            "overflow_x": null,
            "overflow_y": null,
            "padding": null,
            "right": null,
            "top": null,
            "visibility": null,
            "width": null
          }
        },
        "5d8e79d634474328b341f7cd5c97892a": {
          "model_module": "@jupyter-widgets/base",
          "model_name": "LayoutModel",
          "model_module_version": "1.2.0",
          "state": {
            "_model_module": "@jupyter-widgets/base",
            "_model_module_version": "1.2.0",
            "_model_name": "LayoutModel",
            "_view_count": null,
            "_view_module": "@jupyter-widgets/base",
            "_view_module_version": "1.2.0",
            "_view_name": "LayoutView",
            "align_content": null,
            "align_items": null,
            "align_self": null,
            "border": null,
            "bottom": null,
            "display": null,
            "flex": null,
            "flex_flow": null,
            "grid_area": null,
            "grid_auto_columns": null,
            "grid_auto_flow": null,
            "grid_auto_rows": null,
            "grid_column": null,
            "grid_gap": null,
            "grid_row": null,
            "grid_template_areas": null,
            "grid_template_columns": null,
            "grid_template_rows": null,
            "height": null,
            "justify_content": null,
            "justify_items": null,
            "left": null,
            "margin": null,
            "max_height": null,
            "max_width": null,
            "min_height": null,
            "min_width": null,
            "object_fit": null,
            "object_position": null,
            "order": null,
            "overflow": null,
            "overflow_x": null,
            "overflow_y": null,
            "padding": null,
            "right": null,
            "top": null,
            "visibility": null,
            "width": null
          }
        },
        "e99ec9da5c8b4797ad75ce4aeca976b0": {
          "model_module": "@jupyter-widgets/controls",
          "model_name": "DescriptionStyleModel",
          "model_module_version": "1.5.0",
          "state": {
            "_model_module": "@jupyter-widgets/controls",
            "_model_module_version": "1.5.0",
            "_model_name": "DescriptionStyleModel",
            "_view_count": null,
            "_view_module": "@jupyter-widgets/base",
            "_view_module_version": "1.2.0",
            "_view_name": "StyleView",
            "description_width": ""
          }
        },
        "280b616df3ff4d48b22e5c61a9bd4f96": {
          "model_module": "@jupyter-widgets/base",
          "model_name": "LayoutModel",
          "model_module_version": "1.2.0",
          "state": {
            "_model_module": "@jupyter-widgets/base",
            "_model_module_version": "1.2.0",
            "_model_name": "LayoutModel",
            "_view_count": null,
            "_view_module": "@jupyter-widgets/base",
            "_view_module_version": "1.2.0",
            "_view_name": "LayoutView",
            "align_content": null,
            "align_items": null,
            "align_self": null,
            "border": null,
            "bottom": null,
            "display": null,
            "flex": null,
            "flex_flow": null,
            "grid_area": null,
            "grid_auto_columns": null,
            "grid_auto_flow": null,
            "grid_auto_rows": null,
            "grid_column": null,
            "grid_gap": null,
            "grid_row": null,
            "grid_template_areas": null,
            "grid_template_columns": null,
            "grid_template_rows": null,
            "height": null,
            "justify_content": null,
            "justify_items": null,
            "left": null,
            "margin": null,
            "max_height": null,
            "max_width": null,
            "min_height": null,
            "min_width": null,
            "object_fit": null,
            "object_position": null,
            "order": null,
            "overflow": null,
            "overflow_x": null,
            "overflow_y": null,
            "padding": null,
            "right": null,
            "top": null,
            "visibility": null,
            "width": null
          }
        },
        "8dceb9186c984f9ca00c16448ac26eb9": {
          "model_module": "@jupyter-widgets/controls",
          "model_name": "ProgressStyleModel",
          "model_module_version": "1.5.0",
          "state": {
            "_model_module": "@jupyter-widgets/controls",
            "_model_module_version": "1.5.0",
            "_model_name": "ProgressStyleModel",
            "_view_count": null,
            "_view_module": "@jupyter-widgets/base",
            "_view_module_version": "1.2.0",
            "_view_name": "StyleView",
            "bar_color": null,
            "description_width": ""
          }
        },
        "45bf77d234784deab0652f4e76ada36a": {
          "model_module": "@jupyter-widgets/base",
          "model_name": "LayoutModel",
          "model_module_version": "1.2.0",
          "state": {
            "_model_module": "@jupyter-widgets/base",
            "_model_module_version": "1.2.0",
            "_model_name": "LayoutModel",
            "_view_count": null,
            "_view_module": "@jupyter-widgets/base",
            "_view_module_version": "1.2.0",
            "_view_name": "LayoutView",
            "align_content": null,
            "align_items": null,
            "align_self": null,
            "border": null,
            "bottom": null,
            "display": null,
            "flex": null,
            "flex_flow": null,
            "grid_area": null,
            "grid_auto_columns": null,
            "grid_auto_flow": null,
            "grid_auto_rows": null,
            "grid_column": null,
            "grid_gap": null,
            "grid_row": null,
            "grid_template_areas": null,
            "grid_template_columns": null,
            "grid_template_rows": null,
            "height": null,
            "justify_content": null,
            "justify_items": null,
            "left": null,
            "margin": null,
            "max_height": null,
            "max_width": null,
            "min_height": null,
            "min_width": null,
            "object_fit": null,
            "object_position": null,
            "order": null,
            "overflow": null,
            "overflow_x": null,
            "overflow_y": null,
            "padding": null,
            "right": null,
            "top": null,
            "visibility": null,
            "width": null
          }
        },
        "f02e030a830d428ab7f033c1d71698b0": {
          "model_module": "@jupyter-widgets/controls",
          "model_name": "DescriptionStyleModel",
          "model_module_version": "1.5.0",
          "state": {
            "_model_module": "@jupyter-widgets/controls",
            "_model_module_version": "1.5.0",
            "_model_name": "DescriptionStyleModel",
            "_view_count": null,
            "_view_module": "@jupyter-widgets/base",
            "_view_module_version": "1.2.0",
            "_view_name": "StyleView",
            "description_width": ""
          }
        }
      }
    }
  },
  "cells": [
    {
      "cell_type": "markdown",
      "metadata": {
        "id": "view-in-github",
        "colab_type": "text"
      },
      "source": [
        "<a href=\"https://colab.research.google.com/github/YairYarden/Deep-Learning/blob/feature%2Fassignment1_LeNet5/Ex1.ipynb\" target=\"_parent\"><img src=\"https://colab.research.google.com/assets/colab-badge.svg\" alt=\"Open In Colab\"/></a>"
      ]
    },
    {
      "cell_type": "markdown",
      "source": [
        "Code based on Udacity course"
      ],
      "metadata": {
        "id": "ig6L22cfff5s"
      }
    },
    {
      "cell_type": "markdown",
      "source": [
        "# Imports"
      ],
      "metadata": {
        "id": "jed0iN2afldE"
      }
    },
    {
      "cell_type": "code",
      "source": [
        "import torch\n",
        "import numpy as np\n",
        "from datetime import datetime \n",
        "import os\n",
        "\n",
        "import torchvision\n",
        "from torchvision import datasets\n",
        "import torchvision.transforms as transforms\n",
        "from torch.utils.tensorboard import SummaryWriter\n",
        "from torch.utils.data import DataLoader, SubsetRandomSampler\n",
        "\n",
        "import ssl\n",
        "\n",
        "import matplotlib.pyplot as plt\n",
        "\n",
        "# check if CUDA is available\n",
        "is_gpu_available = torch.cuda.is_available()\n",
        "\n",
        "if not is_gpu_available:\n",
        "    print('CUDA is not available.  Training on CPU ...')\n",
        "else:\n",
        "    print('CUDA is available!  Training on GPU ...')\n",
        "\n",
        "DEVICE = 'cuda' if torch.cuda.is_available() else 'cpu'\n"
      ],
      "metadata": {
        "colab": {
          "base_uri": "https://localhost:8080/"
        },
        "id": "KRRHlZspfnkh",
        "outputId": "739db0fc-e625-47b7-82cb-97ed1cbb4c79"
      },
      "execution_count": 1,
      "outputs": [
        {
          "output_type": "stream",
          "name": "stdout",
          "text": [
            "CUDA is available!  Training on GPU ...\n"
          ]
        }
      ]
    },
    {
      "cell_type": "code",
      "source": [
        "from google.colab import drive\n",
        "\n",
        "drive.mount('/content/drive')\n",
        "\n",
        "DIR_PATH = '/content/drive/MyDrive/Deep learning 05107255/Homework1'"
      ],
      "metadata": {
        "id": "8OH12TQrPrsy",
        "colab": {
          "base_uri": "https://localhost:8080/"
        },
        "outputId": "febfeca4-5349-4412-c394-74ec91a9fad3"
      },
      "execution_count": 2,
      "outputs": [
        {
          "output_type": "stream",
          "name": "stdout",
          "text": [
            "Mounted at /content/drive\n"
          ]
        }
      ]
    },
    {
      "cell_type": "markdown",
      "source": [
        "# Load Data"
      ],
      "metadata": {
        "id": "gtk2Ghfcf5FF"
      }
    },
    {
      "cell_type": "code",
      "source": [
        "ssl._create_default_https_context = ssl._create_unverified_context\n",
        "\n",
        "# number of subprocesses to use for data loading\n",
        "num_workers = 0\n",
        "# how many samples per batch to load\n",
        "batch_size = 30\n",
        "# percentage of training set to use as validation\n",
        "valid_size = 0.2\n",
        "\n",
        "# convert data to a normalized torch.FloatTensor\n",
        "transform = transforms.Compose([\n",
        "    transforms.Resize((32, 32)),\n",
        "    transforms.ToTensor(),\n",
        "    ])\n",
        "\n",
        "# choose the training and test datasets\n",
        "train_data = datasets.FashionMNIST('data', train=True,\n",
        "                                   download=True, transform=transform)\n",
        "test_data = datasets.FashionMNIST('data', train=False,\n",
        "                                  download=True, transform=transform)\n",
        "\n",
        "# obtain training indices that will be used for validation\n",
        "num_train = len(train_data)\n",
        "indices = list(range(num_train))\n",
        "np.random.shuffle(indices)\n",
        "split = int(np.floor(valid_size * num_train))\n",
        "train_idx, valid_idx = indices[split:], indices[:split]\n",
        "\n",
        "# define samplers for obtaining training and validation batches\n",
        "train_sampler = SubsetRandomSampler(train_idx)\n",
        "valid_sampler = SubsetRandomSampler(valid_idx)\n",
        "\n",
        "# prepare data loaders (combine dataset and sampler)\n",
        "train_loader = torch.utils.data.DataLoader(train_data, batch_size=batch_size,\n",
        "    sampler=train_sampler, num_workers=num_workers)\n",
        "valid_loader = torch.utils.data.DataLoader(train_data, batch_size=batch_size, \n",
        "    sampler=valid_sampler, num_workers=num_workers)\n",
        "test_loader = torch.utils.data.DataLoader(test_data, batch_size=batch_size, \n",
        "    num_workers=num_workers)\n",
        "\n",
        "# specify the image classes\n",
        "classes = ['T-shirt', 'Trouser', 'Pullover', 'Dress', 'Coat',\n",
        "           'Sandal', 'Shirt', 'Sneaker', 'Bag', 'Ankle boot']\n"
      ],
      "metadata": {
        "id": "M1DG1wlHf6wX",
        "colab": {
          "base_uri": "https://localhost:8080/",
          "height": 423,
          "referenced_widgets": [
            "800c008692ce4c98b2606327331444a3",
            "c07da159c6a14259b0e40dcde669e8f2",
            "97d0c7b06544491cbefcf05e9539288c",
            "d2fe85e109ea4be1b5852bc7f67a4801",
            "1d1a130328d14e9fadace91995e05fbd",
            "3120314716ab401281907863991d39b1",
            "7e44f45937254155b5871696a6b62077",
            "278462346dfc42c8b65d12546f8d342c",
            "9632b9a105d247ab87562b27d8ba0bd6",
            "fb00aa8b2acf451ab286a9a978726130",
            "bd2078c38d0347e2b63d3f5dec493c50",
            "4695ee400f6a4a1a9b9bc851b132d82a",
            "b14e423df01d40658c70be6845d63d35",
            "734302b5d8334f9489f41ced301cb44f",
            "2af6a2acdaf0461a9e3b916e08fb917f",
            "4672e95187e545758745910ffe2060b8",
            "0d3c4fa7a19e4b859f7f64d8b1f43103",
            "75d1247c4cf1472d86504c7cbdafa797",
            "21c704818fee479da1e16fab8af4e7a2",
            "2fb28e7254ac49c984990314368517f9",
            "73828c820dd742db838ed67050884738",
            "6476c8211a574b3ca7fdeba147e15056",
            "1c07686d584b4973b17edd12c92e4225",
            "293323bc82644010b30f8774a52af2e9",
            "d5860fabcff04c7f9c954b37e78123f4",
            "ff69e923866b41e887b284fc2d16b376",
            "8e130e6046a740e19947ebe3b7895045",
            "7ee982af12c84ebeb0d789c1f100456f",
            "367bf764409c413497fb9389d6a6a6e7",
            "686fab6f64d9476db4e4d85be9286ba7",
            "79011a6a58c541e08df20b7100d9ded3",
            "0f37f9b49ee943da8e084703f0ac8f71",
            "b225e87551c74f5194e2433c004de37f",
            "8688ab2af24a4e1aa95f63a7615e26e8",
            "47becda3243842d78c2f24e8b53de95e",
            "07b11ad24743486787b5b2448b81a4c5",
            "a53bcfdf83964e319aa6d175c67d8b0c",
            "da122223820046f9b59d36b496e93460",
            "5d8e79d634474328b341f7cd5c97892a",
            "e99ec9da5c8b4797ad75ce4aeca976b0",
            "280b616df3ff4d48b22e5c61a9bd4f96",
            "8dceb9186c984f9ca00c16448ac26eb9",
            "45bf77d234784deab0652f4e76ada36a",
            "f02e030a830d428ab7f033c1d71698b0"
          ]
        },
        "outputId": "a9058a3a-00df-4c87-98b4-b6225021acac"
      },
      "execution_count": 3,
      "outputs": [
        {
          "output_type": "stream",
          "name": "stdout",
          "text": [
            "Downloading http://fashion-mnist.s3-website.eu-central-1.amazonaws.com/train-images-idx3-ubyte.gz\n",
            "Downloading http://fashion-mnist.s3-website.eu-central-1.amazonaws.com/train-images-idx3-ubyte.gz to data/FashionMNIST/raw/train-images-idx3-ubyte.gz\n"
          ]
        },
        {
          "output_type": "display_data",
          "data": {
            "text/plain": [
              "  0%|          | 0/26421880 [00:00<?, ?it/s]"
            ],
            "application/vnd.jupyter.widget-view+json": {
              "version_major": 2,
              "version_minor": 0,
              "model_id": "800c008692ce4c98b2606327331444a3"
            }
          },
          "metadata": {}
        },
        {
          "output_type": "stream",
          "name": "stdout",
          "text": [
            "Extracting data/FashionMNIST/raw/train-images-idx3-ubyte.gz to data/FashionMNIST/raw\n",
            "\n",
            "Downloading http://fashion-mnist.s3-website.eu-central-1.amazonaws.com/train-labels-idx1-ubyte.gz\n",
            "Downloading http://fashion-mnist.s3-website.eu-central-1.amazonaws.com/train-labels-idx1-ubyte.gz to data/FashionMNIST/raw/train-labels-idx1-ubyte.gz\n"
          ]
        },
        {
          "output_type": "display_data",
          "data": {
            "text/plain": [
              "  0%|          | 0/29515 [00:00<?, ?it/s]"
            ],
            "application/vnd.jupyter.widget-view+json": {
              "version_major": 2,
              "version_minor": 0,
              "model_id": "4695ee400f6a4a1a9b9bc851b132d82a"
            }
          },
          "metadata": {}
        },
        {
          "output_type": "stream",
          "name": "stdout",
          "text": [
            "Extracting data/FashionMNIST/raw/train-labels-idx1-ubyte.gz to data/FashionMNIST/raw\n",
            "\n",
            "Downloading http://fashion-mnist.s3-website.eu-central-1.amazonaws.com/t10k-images-idx3-ubyte.gz\n",
            "Downloading http://fashion-mnist.s3-website.eu-central-1.amazonaws.com/t10k-images-idx3-ubyte.gz to data/FashionMNIST/raw/t10k-images-idx3-ubyte.gz\n"
          ]
        },
        {
          "output_type": "display_data",
          "data": {
            "text/plain": [
              "  0%|          | 0/4422102 [00:00<?, ?it/s]"
            ],
            "application/vnd.jupyter.widget-view+json": {
              "version_major": 2,
              "version_minor": 0,
              "model_id": "1c07686d584b4973b17edd12c92e4225"
            }
          },
          "metadata": {}
        },
        {
          "output_type": "stream",
          "name": "stdout",
          "text": [
            "Extracting data/FashionMNIST/raw/t10k-images-idx3-ubyte.gz to data/FashionMNIST/raw\n",
            "\n",
            "Downloading http://fashion-mnist.s3-website.eu-central-1.amazonaws.com/t10k-labels-idx1-ubyte.gz\n",
            "Downloading http://fashion-mnist.s3-website.eu-central-1.amazonaws.com/t10k-labels-idx1-ubyte.gz to data/FashionMNIST/raw/t10k-labels-idx1-ubyte.gz\n"
          ]
        },
        {
          "output_type": "display_data",
          "data": {
            "text/plain": [
              "  0%|          | 0/5148 [00:00<?, ?it/s]"
            ],
            "application/vnd.jupyter.widget-view+json": {
              "version_major": 2,
              "version_minor": 0,
              "model_id": "8688ab2af24a4e1aa95f63a7615e26e8"
            }
          },
          "metadata": {}
        },
        {
          "output_type": "stream",
          "name": "stdout",
          "text": [
            "Extracting data/FashionMNIST/raw/t10k-labels-idx1-ubyte.gz to data/FashionMNIST/raw\n",
            "\n"
          ]
        }
      ]
    },
    {
      "cell_type": "markdown",
      "source": [
        "# Visualize a batch of training data\n",
        "\n"
      ],
      "metadata": {
        "id": "DCJ6ceeGhQaq"
      }
    },
    {
      "cell_type": "code",
      "source": [
        "dataiter = iter(train_loader)\n",
        "images, labels = dataiter.next()\n",
        "\n",
        "plt.figure(figsize=(10,10))\n",
        "grid = torchvision.utils.make_grid(tensor=images, nrow=10)\n",
        "grid = np.clip(grid,0,1)\n",
        "plt.imshow(X=np.transpose(grid, axes=(1,2,0)), cmap=\"gray\");\n"
      ],
      "metadata": {
        "colab": {
          "base_uri": "https://localhost:8080/",
          "height": 221
        },
        "id": "MOsfNDBahzsx",
        "outputId": "577cb42e-5c27-4a1c-8170-24276ac8c49b"
      },
      "execution_count": 4,
      "outputs": [
        {
          "output_type": "display_data",
          "data": {
            "text/plain": [
              "<Figure size 720x720 with 1 Axes>"
            ],
            "image/png": "[encoded data removed]"
          },
          "metadata": {
            "needs_background": "light"
          }
        }
      ]
    },
    {
      "cell_type": "markdown",
      "source": [
        "# Define The Network"
      ],
      "metadata": {
        "id": "fRi79y8TnjN9"
      }
    },
    {
      "cell_type": "code",
      "source": [
        "import torch.nn as nn\n",
        "import torch.nn.functional as F\n",
        "\n",
        "# define the CNN architecture\n",
        "class LeNet5(nn.Module):\n",
        "    def conv_block(self, in_features, out_features, kernel_size, use_pooling=True, use_dropout=False, use_batchnorm=False, dropout=0.2):\n",
        "      layers = [nn.Conv2d(in_channels=in_features, out_channels=out_features, kernel_size=kernel_size, stride=1)]\n",
        "      if use_batchnorm:\n",
        "        layers.append(nn.BatchNorm2d(out_features))\n",
        "      # layers.append(nn.Tanh())\n",
        "      layers.append(nn.ReLU())\n",
        "      # if use_dropout:\n",
        "      #   layers.append(nn.Dropout(dropout))\n",
        "      if use_pooling:\n",
        "        layers.append(nn.MaxPool2d(kernel_size=2, stride=2))\n",
        "        # layers.append(nn.AvgPool2d(kernel_size=2, stride=2))\n",
        "      block = nn.Sequential(*layers)\n",
        "      return block\n",
        "\n",
        "    def fc_block(self, in_features, out_features, use_dropout=False, use_batchnorm=False, dropout=0.5):\n",
        "      layers = [nn.Linear(in_features=in_features , out_features=out_features)]\n",
        "      if use_batchnorm:\n",
        "        layers.append(nn.BatchNorm1d(out_features))\n",
        "      # layers.append(nn.Tanh()) \n",
        "      layers.append(nn.ReLU()) \n",
        "      if use_dropout:\n",
        "        layers.append(nn.Dropout(dropout))\n",
        "      block = nn.Sequential(*layers)\n",
        "      return block\n",
        "\n",
        "    def __init__(self, n_classes=10, use_dropout=False, use_batchnorm=False):\n",
        "        super(LeNet5, self).__init__()\n",
        "        # convolutional layer (sees 32x32x1 image tensor)\n",
        "        self.conv_layer1 = self.conv_block(1, 6, 5, True, use_dropout, use_batchnorm)\n",
        "        # convolutional layer (sees 28x28x6 tensor)\n",
        "        self.conv_layer2 = self.conv_block(6, 16, 5, True, use_dropout, use_batchnorm)\n",
        "        # convolutional layer (sees 10x10x16 tensor)\n",
        "        self.conv_layer3 = self.conv_block(16, 120, 5, False, use_dropout, use_batchnorm)\n",
        "        # Flatten \n",
        "        self.flatten = nn.Flatten(start_dim=1)\n",
        "        # linear layer sees 120 -> 84\n",
        "        self.fc1_layer = self.fc_block(120, 84, use_dropout, use_batchnorm)\n",
        "        # linear layer (84 -> n_classes)\n",
        "        self.fc2_layer = self.fc_block(84, n_classes, use_dropout, use_batchnorm)\n",
        "\n",
        "        self.use_dropout = use_dropout\n",
        "        self.use_batchnorm = use_batchnorm\n",
        "\n",
        "\n",
        "    def forward(self, x):\n",
        "        # add sequence of convolutional and max pooling layers\n",
        "        x = self.conv_layer1(x)\n",
        "        x = self.conv_layer2(x)\n",
        "        x = self.conv_layer3(x)\n",
        "\n",
        "        # flatten image input\n",
        "        x = x.view(-1, 120)\n",
        "\n",
        "        # add 1st hidden layer, with relu activation function\n",
        "        x = self.fc1_layer(x)\n",
        "        # add 2nd hidden layer, with relu activation function\n",
        "        x = self.fc2_layer(x)\n",
        "        return x\n",
        "\n",
        "# create a complete CNN\n",
        "num_classes = 10\n",
        "model = LeNet5(num_classes, use_dropout=True, use_batchnorm=True).to(DEVICE)\n",
        "print(model)"
      ],
      "metadata": {
        "id": "tdJaEsz6nlck",
        "colab": {
          "base_uri": "https://localhost:8080/"
        },
        "outputId": "caf0e65a-afd2-46bd-bd20-14a3ad22ca2c"
      },
      "execution_count": 5,
      "outputs": [
        {
          "output_type": "stream",
          "name": "stdout",
          "text": [
            "LeNet5(\n",
            "  (conv_layer1): Sequential(\n",
            "    (0): Conv2d(1, 6, kernel_size=(5, 5), stride=(1, 1))\n",
            "    (1): BatchNorm2d(6, eps=1e-05, momentum=0.1, affine=True, track_running_stats=True)\n",
            "    (2): ReLU()\n",
            "    (3): MaxPool2d(kernel_size=2, stride=2, padding=0, dilation=1, ceil_mode=False)\n",
            "  )\n",
            "  (conv_layer2): Sequential(\n",
            "    (0): Conv2d(6, 16, kernel_size=(5, 5), stride=(1, 1))\n",
            "    (1): BatchNorm2d(16, eps=1e-05, momentum=0.1, affine=True, track_running_stats=True)\n",
            "    (2): ReLU()\n",
            "    (3): MaxPool2d(kernel_size=2, stride=2, padding=0, dilation=1, ceil_mode=False)\n",
            "  )\n",
            "  (conv_layer3): Sequential(\n",
            "    (0): Conv2d(16, 120, kernel_size=(5, 5), stride=(1, 1))\n",
            "    (1): BatchNorm2d(120, eps=1e-05, momentum=0.1, affine=True, track_running_stats=True)\n",
            "    (2): ReLU()\n",
            "  )\n",
            "  (flatten): Flatten(start_dim=1, end_dim=-1)\n",
            "  (fc1_layer): Sequential(\n",
            "    (0): Linear(in_features=120, out_features=84, bias=True)\n",
            "    (1): BatchNorm1d(84, eps=1e-05, momentum=0.1, affine=True, track_running_stats=True)\n",
            "    (2): ReLU()\n",
            "    (3): Dropout(p=0.5, inplace=False)\n",
            "  )\n",
            "  (fc2_layer): Sequential(\n",
            "    (0): Linear(in_features=84, out_features=10, bias=True)\n",
            "    (1): BatchNorm1d(10, eps=1e-05, momentum=0.1, affine=True, track_running_stats=True)\n",
            "    (2): ReLU()\n",
            "    (3): Dropout(p=0.5, inplace=False)\n",
            "  )\n",
            ")\n"
          ]
        }
      ]
    },
    {
      "cell_type": "markdown",
      "source": [
        "# Specify Loss function & Optimizer"
      ],
      "metadata": {
        "id": "u1aHZXLZwVmt"
      }
    },
    {
      "cell_type": "code",
      "source": [
        "import torch.optim as optim\n",
        "\n",
        "# specify loss function (categorical cross-entropy)\n",
        "criterion = nn.CrossEntropyLoss()\n",
        "\n",
        "# specify optimizer\n",
        "optimizer = optim.SGD(model.parameters(), lr=0.01)\n",
        "# optimizer = torch.optim.Adam(model.parameters(), lr=0.001)"
      ],
      "metadata": {
        "id": "24RpP6W2iWlf"
      },
      "execution_count": 6,
      "outputs": []
    },
    {
      "cell_type": "markdown",
      "source": [
        "# Functions For Training the network"
      ],
      "metadata": {
        "id": "p7loJrsbwg3x"
      }
    },
    {
      "cell_type": "code",
      "source": [
        "def compute_model_accuracy(model, data_loader, is_gpu_available):\n",
        "    \n",
        "    correct_pred = 0 \n",
        "    num_examples = 0\n",
        "    \n",
        "    with torch.no_grad():\n",
        "        model.eval()\n",
        "        for data, target in data_loader:\n",
        "            if is_gpu_available:\n",
        "                data, target = data.cuda(), target.cuda()\n",
        "\n",
        "            output = model(data)\n",
        "            _, predicted_labels = torch.max(output, 1) \n",
        "\n",
        "            num_examples += target.size(0)\n",
        "            correct_pred += (predicted_labels == target).sum()\n",
        "\n",
        "    return correct_pred.float() / num_examples\n",
        "    \n",
        "# --------------------------------------------------------------------------------------------------\n",
        "def train(train_loader, model, criterion, optimizer, is_gpu_available):\n",
        "    running_loss = 0.0\n",
        "    model.train()\n",
        "    for data, target in train_loader:\n",
        "        # move tensors to GPU if CUDA is available\n",
        "        if is_gpu_available:\n",
        "            data, target = data.cuda(), target.cuda()\n",
        "        # clear the gradients of all optimized variables\n",
        "        optimizer.zero_grad()\n",
        "        # forward pass: compute predicted outputs by passing inputs to the model\n",
        "        output = model(data)\n",
        "        # calculate the batch loss\n",
        "        loss = criterion(output, target)\n",
        "        # backward pass: compute gradient of the loss with respect to model parameters\n",
        "        loss.backward()\n",
        "        # perform a single optimization step (parameter update)\n",
        "        optimizer.step()\n",
        "        # update training loss\n",
        "        running_loss += loss.item()*data.size(0)\n",
        "\n",
        "    epoch_loss = running_loss / len(train_loader.dataset)\n",
        "    return model, optimizer, epoch_loss\n",
        "# --------------------------------------------------------------------------------------------------\n",
        "def validate(test_loader, model, criterion, is_gpu_available):\n",
        "    running_loss = 0.0\n",
        "\n",
        "    model.eval()\n",
        "    for data, target in valid_loader:\n",
        "        # move tensors to GPU if CUDA is available\n",
        "        if is_gpu_available:\n",
        "            data, target = data.cuda(), target.cuda()\n",
        "        # forward pass: compute predicted outputs by passing inputs to the model\n",
        "        output = model(data)\n",
        "        # calculate the batch loss\n",
        "        loss = criterion(output, target)\n",
        "        # update average validation loss \n",
        "        running_loss += loss.item()*data.size(0)\n",
        "    \n",
        "    # calculate average losses\n",
        "    valid_loss = running_loss/len(valid_loader.sampler)\n",
        "               \n",
        "    return model, valid_loss      \n",
        "# --------------------------------------------------------------------------------------------------\n",
        "def training_loop(model,\n",
        "                  criterion,\n",
        "                  optimizer,\n",
        "                  train_loader,\n",
        "                  test_loader,\n",
        "                  epochs,\n",
        "                  is_gpu_available,\n",
        "                  log_dir: str = None,\n",
        "                  train_type=None):\n",
        "     \n",
        "    # set objects for storing metrics\n",
        "    train_losses = []\n",
        "    test_losses = []\n",
        "    train_acc_vec = []\n",
        "    test_acc_vec = []\n",
        "\n",
        "    print(f'{datetime.now().time().replace(microsecond=0)} START')\n",
        "\n",
        "    # Train model\n",
        "    for epoch in range(0, epochs):\n",
        "\n",
        "        # training\n",
        "        model, optimizer, train_loss = train(train_loader, model, criterion, optimizer, is_gpu_available)\n",
        "        train_losses.append(train_loss)\n",
        "\n",
        "        # validation\n",
        "        with torch.no_grad():\n",
        "            model, test_loss = validate(test_loader, model, criterion, is_gpu_available)\n",
        "            test_losses.append(test_loss)\n",
        "\n",
        "            train_acc = compute_model_accuracy(model, train_loader, is_gpu_available)\n",
        "            train_acc_vec.append(train_acc.cpu())\n",
        "            test_acc = compute_model_accuracy(model, test_loader, is_gpu_available)\n",
        "            test_acc_vec.append(test_acc.cpu())    \n",
        "      \n",
        "\n",
        "        print(\n",
        "          f'{datetime.now().time().replace(microsecond=0)} --- '\n",
        "          f'Epoch: {epoch}\\t'\n",
        "          f'Train loss: {train_loss:.4f}\\t'\n",
        "          f'Test loss: {test_loss:.4f}\\t'\n",
        "          f'Train accuracy: {train_acc:.4f}\\t'\n",
        "          f'Test accuracy: {test_acc:.4f}'\n",
        "        )\n",
        "\n",
        "    # plot_train_and_valid_losses(train_losses, test_losses, train_type)\n",
        "    # plot_train_and_valid_acc(train_acc_vec, test_acc_vec, train_type)\n",
        "\n",
        "    return model, optimizer, (train_losses, test_losses), (train_acc_vec, test_acc_vec)\n",
        "\n",
        "# --------------------------------------------------------------------------------------------------\n",
        "\n"
      ],
      "metadata": {
        "id": "JCyUbyylwemw"
      },
      "execution_count": 7,
      "outputs": []
    },
    {
      "cell_type": "markdown",
      "source": [
        "# Plotting & Helper Functions"
      ],
      "metadata": {
        "id": "Wx-e42Ks5T1r"
      }
    },
    {
      "cell_type": "code",
      "source": [
        "def plot_train_and_valid_losses(train_losses, test_losses, train_type=None):\n",
        "  \n",
        "    train_losses = np.array(train_losses) \n",
        "    test_losses = np.array(test_losses)\n",
        "\n",
        "    fig, ax = plt.subplots(figsize = (8, 4.5))\n",
        "\n",
        "    ax.plot(train_losses, color='blue', label='Training loss') \n",
        "    ax.plot(test_losses, color='red', label='Validation loss')\n",
        "    title = \"Loss over epochs\"\n",
        "    if train_type:\n",
        "      title += \"\\n\" + train_type\n",
        "    ax.set(title=title, \n",
        "            xlabel='Epoch',\n",
        "            ylabel='Loss') \n",
        "    ax.legend()\n",
        "    fig.show()\n",
        "    \n",
        "# --------------------------------------------------------------------------------------------------\n",
        "def plot_train_and_valid_acc(train_acc, valid_acc, train_type=None):\n",
        "\n",
        "    train_acc = np.array(train_acc) \n",
        "    valid_acc = np.array(valid_acc)\n",
        "\n",
        "    fig, ax = plt.subplots(figsize = (8, 4.5))\n",
        "\n",
        "    ax.plot(train_acc, color='blue', label='Training Accuracy') \n",
        "    ax.plot(valid_acc, color='red', label='Validation Accuracy')\n",
        "    title = \"Accuracy over epochs\"\n",
        "    if train_type:\n",
        "      title += \"\\n\" + train_type\n",
        "    ax.set(title=title, \n",
        "            xlabel='Epoch',\n",
        "            ylabel='Loss') \n",
        "    ax.legend()\n",
        "    fig.show()\n",
        "# --------------------------------------------------------------------------------------------------\n",
        "def save_model(model, optimizer, dir_path, train_type=None):\n",
        "  # create checkpints folder\n",
        "  checkpoint_folder = os.path.join(dir_path, 'checkpoints')\n",
        "  os.makedirs(checkpoint_folder, exist_ok=True)\n",
        "  # save model\n",
        "  curr_datetime = datetime.now().strftime(\"%y_%m_%d_%H:%M:%S\")\n",
        "  model_name = f'{curr_datetime}'.replace(':', '_')\n",
        "  if train_type:\n",
        "    # model_name = train_type + '_' + model_name\n",
        "    model_name = train_type\n",
        "  ckpt_path = os.path.join(checkpoint_folder, f'{model_name}.ckpt')\n",
        "  torch.save({\n",
        "    'model_state_dict': model.state_dict(),\n",
        "    'optimizer_state_dict': optimizer.state_dict(),\n",
        "    'use_dropout': model.use_dropout,\n",
        "    'use_batchnorm': model.use_batchnorm,\n",
        "    \n",
        "  }, ckpt_path)\n",
        "\n",
        "  print(f'model saved to \"{ckpt_path}\"')\n",
        "# --------------------------------------------------------------------------------------------------"
      ],
      "metadata": {
        "id": "bgpUtuTA5WGJ"
      },
      "execution_count": 8,
      "outputs": []
    },
    {
      "cell_type": "markdown",
      "source": [
        "# Train the Network"
      ],
      "metadata": {
        "id": "18gNH2jfkmJW"
      }
    },
    {
      "cell_type": "markdown",
      "source": [
        "Basic Model"
      ],
      "metadata": {
        "id": "vSzZU3qDOT9z"
      }
    },
    {
      "cell_type": "code",
      "source": [
        "num_epochs = 15\n",
        "# basic network\n",
        "model = LeNet5(num_classes, use_dropout=False, use_batchnorm=False).to(DEVICE)\n",
        "optimizer = torch.optim.Adam(model.parameters(), lr=0.001)\n",
        "# optimizer = optim.SGD(model.parameters(), lr=0.01)\n",
        "\n",
        "model, optimizer, (train_losses_basic, test_losses_basic), (train_acc_basic, test_acc_basic) = training_loop(model, criterion, optimizer,\n",
        "                                                                                                            train_loader, test_loader, num_epochs,\n",
        "                                                                                                            is_gpu_available,\n",
        "                                                                                                            train_type='basic')\n",
        "save_model(model, optimizer, DIR_PATH, train_type='basic')\n",
        "# ----------------------------------------------------------------------------------\n",
        "# using dropout\n",
        "model = LeNet5(num_classes, use_dropout=True, use_batchnorm=False).to(DEVICE)\n",
        "optimizer = torch.optim.Adam(model.parameters(), lr=0.001)\n",
        "# optimizer = optim.SGD(model.parameters(), lr=0.01)\n",
        "model, optimizer, (train_losses_dropout, test_losses_dropout), (train_acc_dropout, test_acc_dropout) = training_loop(model, criterion, optimizer,\n",
        "                                                                                                                    train_loader, test_loader, num_epochs,\n",
        "                                                                                                                    is_gpu_available,\n",
        "                                                                                                                    train_type='dropout')\n",
        "save_model(model, optimizer, DIR_PATH, train_type='dropout')\n",
        "# # ----------------------------------------------------------------------------------\n",
        "# # using weight decay\n",
        "model = LeNet5(num_classes, use_dropout=False, use_batchnorm=False).to(DEVICE)\n",
        "optimizer = torch.optim.Adam(model.parameters(), lr=0.001, weight_decay=0.01)\n",
        "# optimizer = optim.SGD(model.parameters(), lr=0.01, weight_decay=0.01)\n",
        "model, optimizer, (train_losses_wd, test_losses_wd), (train_acc_wd, test_acc_wd) = training_loop(model, criterion, optimizer,\n",
        "                                                                                                train_loader, test_loader, num_epochs,\n",
        "                                                                                                is_gpu_available,\n",
        "                                                                                                train_type='weight_decay')\n",
        "save_model(model, optimizer, DIR_PATH, train_type='weight_decay')\n",
        "# ----------------------------------------------------------------------------------\n",
        "# using batch normalization\n",
        "model = LeNet5(num_classes, use_dropout=False, use_batchnorm=True).to(DEVICE)\n",
        "optimizer = torch.optim.Adam(model.parameters(), lr=0.001)\n",
        "# optimizer = optim.SGD(model.parameters(), lr=0.01)\n",
        "\n",
        "model, optimizer, (train_losses_bn, test_losses_bn), (train_acc_bn, test_acc_bn) = training_loop(model, criterion, optimizer,\n",
        "                                                                                                  train_loader, test_loader, num_epochs,\n",
        "                                                                                                  is_gpu_available,\n",
        "                                                                                                  train_type='batch_norm')\n",
        "save_model(model, optimizer, DIR_PATH, train_type='batch_norm')"
      ],
      "metadata": {
        "id": "OJqCO1l5kqOM",
        "colab": {
          "base_uri": "https://localhost:8080/"
        },
        "outputId": "032bcc0b-98e6-4089-aff8-c0b17915eae2"
      },
      "execution_count": 9,
      "outputs": [
        {
          "output_type": "stream",
          "name": "stdout",
          "text": [
            "13:58:13 START\n",
            "13:58:47 --- Epoch: 0\tTrain loss: 0.9712\tTest loss: 1.1009\tTrain accuracy: 0.6195\tTest accuracy: 0.6121\n",
            "13:59:19 --- Epoch: 1\tTrain loss: 0.8366\tTest loss: 0.9983\tTrain accuracy: 0.6442\tTest accuracy: 0.6370\n",
            "13:59:52 --- Epoch: 2\tTrain loss: 0.7954\tTest loss: 0.9974\tTrain accuracy: 0.6416\tTest accuracy: 0.6348\n",
            "14:00:24 --- Epoch: 3\tTrain loss: 0.7707\tTest loss: 0.9496\tTrain accuracy: 0.6541\tTest accuracy: 0.6494\n",
            "14:00:56 --- Epoch: 4\tTrain loss: 0.7548\tTest loss: 0.9400\tTrain accuracy: 0.6579\tTest accuracy: 0.6502\n",
            "14:01:28 --- Epoch: 5\tTrain loss: 0.7419\tTest loss: 0.9296\tTrain accuracy: 0.6604\tTest accuracy: 0.6547\n",
            "14:02:00 --- Epoch: 6\tTrain loss: 0.7304\tTest loss: 0.9402\tTrain accuracy: 0.6599\tTest accuracy: 0.6547\n",
            "14:02:32 --- Epoch: 7\tTrain loss: 0.7231\tTest loss: 0.9127\tTrain accuracy: 0.6665\tTest accuracy: 0.6557\n",
            "14:03:04 --- Epoch: 8\tTrain loss: 0.7139\tTest loss: 0.9073\tTrain accuracy: 0.6691\tTest accuracy: 0.6571\n",
            "14:03:36 --- Epoch: 9\tTrain loss: 0.7053\tTest loss: 0.9113\tTrain accuracy: 0.6686\tTest accuracy: 0.6558\n",
            "14:04:08 --- Epoch: 10\tTrain loss: 0.6989\tTest loss: 0.9053\tTrain accuracy: 0.6688\tTest accuracy: 0.6541\n",
            "14:04:40 --- Epoch: 11\tTrain loss: 0.6950\tTest loss: 0.9144\tTrain accuracy: 0.6726\tTest accuracy: 0.6567\n",
            "14:05:12 --- Epoch: 12\tTrain loss: 0.6902\tTest loss: 0.8975\tTrain accuracy: 0.6745\tTest accuracy: 0.6588\n",
            "14:05:44 --- Epoch: 13\tTrain loss: 0.6844\tTest loss: 0.9025\tTrain accuracy: 0.6754\tTest accuracy: 0.6568\n",
            "14:06:16 --- Epoch: 14\tTrain loss: 0.6790\tTest loss: 0.9060\tTrain accuracy: 0.6737\tTest accuracy: 0.6576\n",
            "model saved to \"/content/drive/MyDrive/Deep learning 05107255/Homework1/checkpoints/basic.ckpt\"\n",
            "14:06:18 START\n",
            "14:06:51 --- Epoch: 0\tTrain loss: 1.3299\tTest loss: 0.9473\tTrain accuracy: 0.8064\tTest accuracy: 0.7993\n",
            "14:07:23 --- Epoch: 1\tTrain loss: 1.1978\tTest loss: 0.7501\tTrain accuracy: 0.8420\tTest accuracy: 0.8324\n",
            "14:07:55 --- Epoch: 2\tTrain loss: 1.1674\tTest loss: 0.7193\tTrain accuracy: 0.8679\tTest accuracy: 0.8538\n",
            "14:08:28 --- Epoch: 3\tTrain loss: 1.1406\tTest loss: 0.6798\tTrain accuracy: 0.8727\tTest accuracy: 0.8618\n",
            "14:09:00 --- Epoch: 4\tTrain loss: 1.1331\tTest loss: 0.6508\tTrain accuracy: 0.8842\tTest accuracy: 0.8705\n",
            "14:09:32 --- Epoch: 5\tTrain loss: 1.1176\tTest loss: 0.6356\tTrain accuracy: 0.8809\tTest accuracy: 0.8644\n",
            "14:10:04 --- Epoch: 6\tTrain loss: 1.1069\tTest loss: 0.6067\tTrain accuracy: 0.8947\tTest accuracy: 0.8757\n",
            "14:10:36 --- Epoch: 7\tTrain loss: 1.0991\tTest loss: 0.6203\tTrain accuracy: 0.8956\tTest accuracy: 0.8768\n",
            "14:11:07 --- Epoch: 8\tTrain loss: 1.0910\tTest loss: 0.6284\tTrain accuracy: 0.9010\tTest accuracy: 0.8788\n",
            "14:11:39 --- Epoch: 9\tTrain loss: 1.0820\tTest loss: 0.5718\tTrain accuracy: 0.9024\tTest accuracy: 0.8834\n",
            "14:12:11 --- Epoch: 10\tTrain loss: 1.0853\tTest loss: 0.5654\tTrain accuracy: 0.9080\tTest accuracy: 0.8841\n",
            "14:12:43 --- Epoch: 11\tTrain loss: 1.0798\tTest loss: 0.5564\tTrain accuracy: 0.9091\tTest accuracy: 0.8837\n",
            "14:13:14 --- Epoch: 12\tTrain loss: 1.0685\tTest loss: 0.5718\tTrain accuracy: 0.9122\tTest accuracy: 0.8875\n",
            "14:13:47 --- Epoch: 13\tTrain loss: 1.0643\tTest loss: 0.5398\tTrain accuracy: 0.9161\tTest accuracy: 0.8873\n",
            "14:14:20 --- Epoch: 14\tTrain loss: 1.0615\tTest loss: 0.5356\tTrain accuracy: 0.9153\tTest accuracy: 0.8834\n",
            "model saved to \"/content/drive/MyDrive/Deep learning 05107255/Homework1/checkpoints/dropout.ckpt\"\n",
            "14:14:21 START\n",
            "14:14:53 --- Epoch: 0\tTrain loss: 1.2125\tTest loss: 1.2272\tTrain accuracy: 0.5541\tTest accuracy: 0.5511\n",
            "14:15:26 --- Epoch: 1\tTrain loss: 0.8344\tTest loss: 0.7618\tTrain accuracy: 0.7210\tTest accuracy: 0.7137\n",
            "14:15:59 --- Epoch: 2\tTrain loss: 0.5894\tTest loss: 0.6959\tTrain accuracy: 0.7434\tTest accuracy: 0.7368\n",
            "14:16:32 --- Epoch: 3\tTrain loss: 0.5616\tTest loss: 0.6899\tTrain accuracy: 0.7450\tTest accuracy: 0.7388\n",
            "14:17:04 --- Epoch: 4\tTrain loss: 0.5422\tTest loss: 0.6491\tTrain accuracy: 0.7645\tTest accuracy: 0.7552\n",
            "14:17:35 --- Epoch: 5\tTrain loss: 0.5103\tTest loss: 0.4546\tTrain accuracy: 0.8434\tTest accuracy: 0.8352\n",
            "14:18:07 --- Epoch: 6\tTrain loss: 0.3613\tTest loss: 0.4403\tTrain accuracy: 0.8460\tTest accuracy: 0.8357\n",
            "14:18:38 --- Epoch: 7\tTrain loss: 0.3548\tTest loss: 0.4511\tTrain accuracy: 0.8431\tTest accuracy: 0.8354\n",
            "14:19:10 --- Epoch: 8\tTrain loss: 0.3479\tTest loss: 0.4248\tTrain accuracy: 0.8523\tTest accuracy: 0.8418\n",
            "14:19:42 --- Epoch: 9\tTrain loss: 0.3452\tTest loss: 0.4249\tTrain accuracy: 0.8536\tTest accuracy: 0.8453\n",
            "14:20:13 --- Epoch: 10\tTrain loss: 0.3439\tTest loss: 0.4230\tTrain accuracy: 0.8535\tTest accuracy: 0.8436\n",
            "14:20:44 --- Epoch: 11\tTrain loss: 0.3416\tTest loss: 0.4197\tTrain accuracy: 0.8588\tTest accuracy: 0.8494\n",
            "14:21:16 --- Epoch: 12\tTrain loss: 0.3380\tTest loss: 0.4219\tTrain accuracy: 0.8557\tTest accuracy: 0.8449\n",
            "14:21:47 --- Epoch: 13\tTrain loss: 0.3378\tTest loss: 0.4216\tTrain accuracy: 0.8538\tTest accuracy: 0.8420\n",
            "14:22:18 --- Epoch: 14\tTrain loss: 0.3357\tTest loss: 0.4527\tTrain accuracy: 0.8325\tTest accuracy: 0.8210\n",
            "model saved to \"/content/drive/MyDrive/Deep learning 05107255/Homework1/checkpoints/weight_decay.ckpt\"\n",
            "14:22:19 START\n",
            "14:22:54 --- Epoch: 0\tTrain loss: 0.5461\tTest loss: 0.4072\tTrain accuracy: 0.8903\tTest accuracy: 0.8758\n",
            "14:23:29 --- Epoch: 1\tTrain loss: 0.3614\tTest loss: 0.3466\tTrain accuracy: 0.9025\tTest accuracy: 0.8806\n",
            "14:24:03 --- Epoch: 2\tTrain loss: 0.3060\tTest loss: 0.3314\tTrain accuracy: 0.9078\tTest accuracy: 0.8872\n",
            "14:24:38 --- Epoch: 3\tTrain loss: 0.2731\tTest loss: 0.3126\tTrain accuracy: 0.9143\tTest accuracy: 0.8902\n",
            "14:25:13 --- Epoch: 4\tTrain loss: 0.2497\tTest loss: 0.2858\tTrain accuracy: 0.9239\tTest accuracy: 0.9015\n",
            "14:25:48 --- Epoch: 5\tTrain loss: 0.2311\tTest loss: 0.3025\tTrain accuracy: 0.9194\tTest accuracy: 0.8902\n",
            "14:26:23 --- Epoch: 6\tTrain loss: 0.2173\tTest loss: 0.2709\tTrain accuracy: 0.9330\tTest accuracy: 0.8969\n",
            "14:26:57 --- Epoch: 7\tTrain loss: 0.2026\tTest loss: 0.2791\tTrain accuracy: 0.9347\tTest accuracy: 0.8952\n",
            "14:27:32 --- Epoch: 8\tTrain loss: 0.1905\tTest loss: 0.2638\tTrain accuracy: 0.9405\tTest accuracy: 0.9010\n",
            "14:28:07 --- Epoch: 9\tTrain loss: 0.1826\tTest loss: 0.2818\tTrain accuracy: 0.9352\tTest accuracy: 0.8942\n",
            "14:28:41 --- Epoch: 10\tTrain loss: 0.1730\tTest loss: 0.2581\tTrain accuracy: 0.9467\tTest accuracy: 0.9027\n",
            "14:29:16 --- Epoch: 11\tTrain loss: 0.1628\tTest loss: 0.2590\tTrain accuracy: 0.9483\tTest accuracy: 0.9067\n",
            "14:29:50 --- Epoch: 12\tTrain loss: 0.1587\tTest loss: 0.2767\tTrain accuracy: 0.9432\tTest accuracy: 0.8959\n",
            "14:30:25 --- Epoch: 13\tTrain loss: 0.1512\tTest loss: 0.2728\tTrain accuracy: 0.9511\tTest accuracy: 0.8975\n",
            "14:30:59 --- Epoch: 14\tTrain loss: 0.1456\tTest loss: 0.2626\tTrain accuracy: 0.9553\tTest accuracy: 0.8986\n",
            "model saved to \"/content/drive/MyDrive/Deep learning 05107255/Homework1/checkpoints/batch_norm.ckpt\"\n"
          ]
        }
      ]
    },
    {
      "cell_type": "markdown",
      "source": [
        "# Plot all models together"
      ],
      "metadata": {
        "id": "Gsmk_fMufTUx"
      }
    },
    {
      "cell_type": "code",
      "source": [
        "def plot_all_models(basic_vec, dropout_vec, weight_decay_vec, batch_norm_vec, plot_type = None):\n",
        "  # Convert to numpy arrays\n",
        "  basic_vec = np.array(basic_vec) \n",
        "  dropout_vec = np.array(dropout_vec) \n",
        "  weight_decay_vec = np.array(weight_decay_vec) \n",
        "  batch_norm_vec = np.array(batch_norm_vec) \n",
        "\n",
        "  fig, ax = plt.subplots(figsize = (8, 4.5))\n",
        "\n",
        "  ax.plot(basic_vec, color='blue', label='Basic Model') \n",
        "  ax.plot(dropout_vec, color='red', label='Validation Model')\n",
        "  ax.plot(weight_decay_vec, color='green', label='Weight Decay Model')\n",
        "  ax.plot(batch_norm_vec, color='black', label='Batch norm Model')\n",
        "\n",
        "  title = \"Different Models \"\n",
        "  if plot_type:\n",
        "    title += \"\\n\" + plot_type\n",
        "\n",
        "  if('loss' in plot_type):\n",
        "    ylabel_name = 'loss'\n",
        "  else:\n",
        "    ylabel_name = 'acc'\n",
        "\n",
        "  ax.set(title=title, \n",
        "          xlabel='Epoch',\n",
        "          ylabel=ylabel_name) \n",
        "  ax.legend()\n",
        "  fig.show()\n",
        "\n",
        "plot_all_models(train_losses_basic, train_losses_dropout, train_losses_wd, train_losses_bn, plot_type = 'train_loss')\n",
        "plot_all_models(test_acc_basic, test_acc_dropout, test_acc_wd, test_acc_bn, plot_type = 'test_loss')\n",
        "plot_all_models(train_acc_basic, train_acc_dropout, train_acc_wd, train_acc_bn, plot_type = 'train acc')\n",
        "plot_all_models(test_acc_basic, test_acc_dropout, test_acc_wd, test_acc_bn, plot_type = 'test acc')"
      ],
      "metadata": {
        "colab": {
          "base_uri": "https://localhost:8080/",
          "height": 1000
        },
        "id": "yhcxySbHfV03",
        "outputId": "ebfcfb8a-eaa0-4150-99a7-52185481d737"
      },
      "execution_count": 10,
      "outputs": [
        {
          "output_type": "display_data",
          "data": {
            "text/plain": [
              "<Figure size 576x324 with 1 Axes>"
            ],
            "image/png": "[encoded data removed]"
          },
          "metadata": {
            "needs_background": "light"
          }
        },
        {
          "output_type": "display_data",
          "data": {
            "text/plain": [
              "<Figure size 576x324 with 1 Axes>"
            ],
            "image/png": "[encoded data removed]"
          },
          "metadata": {
            "needs_background": "light"
          }
        },
        {
          "output_type": "display_data",
          "data": {
            "text/plain": [
              "<Figure size 576x324 with 1 Axes>"
            ],
            "image/png": "[encoded data removed]"
          },
          "metadata": {
            "needs_background": "light"
          }
        },
        {
          "output_type": "display_data",
          "data": {
            "text/plain": [
              "<Figure size 576x324 with 1 Axes>"
            ],
            "image/png": "[encoded data removed]"
          },
          "metadata": {
            "needs_background": "light"
          }
        }
      ]
    },
    {
      "cell_type": "markdown",
      "source": [
        "# Test Pre-trained Models"
      ],
      "metadata": {
        "id": "qIahKd-1V5Ry"
      }
    },
    {
      "cell_type": "code",
      "source": [
        "# #@title Load checkpoint and rebuild model\n",
        "# model_name = \"basic\" #@param [\"basic\", \"batch_norm\", \"dropout\", \"weight_decay\"]\n",
        "\n",
        "# # load checkpoint\n",
        "# ckpt_path = f'{DIR_PATH}/checkpoints/{model_name}.ckpt'\n",
        "# checkpoint = torch.load(ckpt_path)\n",
        "\n",
        "# N_CLASSES = 10\n",
        "# model = LeNet5(N_CLASSES,\n",
        "#                use_dropout=checkpoint['use_dropout'],\n",
        "#                use_batchnorm=checkpoint['use_batchnorm']\n",
        "#               ).to(DEVICE)\n",
        "# optimizer = torch.optim.Adam(model.parameters())\n",
        "\n",
        "# model.load_state_dict(checkpoint['model_state_dict'])\n",
        "# optimizer.load_state_dict(checkpoint['optimizer_state_dict'])\n",
        "\n"
      ],
      "metadata": {
        "id": "IkRT69FYWxOd"
      },
      "execution_count": 11,
      "outputs": []
    },
    {
      "cell_type": "code",
      "source": [
        "# # run loaded model on test data\n",
        "# model, test_loss = validate(test_loader, model, criterion, is_gpu_available)\n",
        "# test_acc = compute_model_accuracy(model, test_loader, is_gpu_available)\n",
        "\n",
        "# print(\n",
        "#   f'Test accuracy: {test_acc:.4f}\\t'\n",
        "#   f'Test Loss: {test_loss:.4f}\\t'\n",
        "# )"
      ],
      "metadata": {
        "id": "AXALBn8UXbCc"
      },
      "execution_count": 12,
      "outputs": []
    }
  ]
}