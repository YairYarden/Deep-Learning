{
  "nbformat": 4,
  "nbformat_minor": 0,
  "metadata": {
    "colab": {
      "name": "Ex1.ipynb",
      "provenance": [],
      "collapsed_sections": [],
      "toc_visible": true
    },
    "kernelspec": {
      "name": "python3",
      "display_name": "Python 3"
    },
    "language_info": {
      "name": "python"
    },
    "accelerator": "GPU"
  },
  "cells": [
    {
      "cell_type": "markdown",
      "metadata": {
        "id": "view-in-github"
      },
      "source": [
        "<a href=\"https://colab.research.google.com/github/YairYarden/Deep-Learning/blob/feature%2Fassignment1_LeNet5/Ex1.ipynb\" target=\"_parent\"><img src=\"https://colab.research.google.com/assets/colab-badge.svg\" alt=\"Open In Colab\"/></a>"
      ]
    },
    {
      "cell_type": "markdown",
      "source": [
        "Code based on Udacity course"
      ],
      "metadata": {
        "id": "ig6L22cfff5s"
      }
    },
    {
      "cell_type": "markdown",
      "source": [
        "# Imports"
      ],
      "metadata": {
        "id": "jed0iN2afldE"
      }
    },
    {
      "cell_type": "code",
      "source": [
        "import torch\n",
        "import numpy as np\n",
        "from datetime import datetime \n",
        "import os\n",
        "\n",
        "import torchvision\n",
        "from torchvision import datasets\n",
        "import torchvision.transforms as transforms\n",
        "from torch.utils.tensorboard import SummaryWriter\n",
        "from torch.utils.data import DataLoader, SubsetRandomSampler\n",
        "\n",
        "import ssl\n",
        "\n",
        "import matplotlib.pyplot as plt\n",
        "\n",
        "# check if CUDA is available\n",
        "is_gpu_available = torch.cuda.is_available()\n",
        "\n",
        "if not is_gpu_available:\n",
        "    print('CUDA is not available.  Training on CPU ...')\n",
        "else:\n",
        "    print('CUDA is available!  Training on GPU ...')\n",
        "\n",
        "DEVICE = 'cuda' if torch.cuda.is_available() else 'cpu'\n"
      ],
      "metadata": {
        "colab": {
          "base_uri": "https://localhost:8080/"
        },
        "id": "KRRHlZspfnkh",
        "outputId": "fb3b97b5-fe07-46d4-cef2-2188e09f21f5"
      },
      "execution_count": 6,
      "outputs": [
        {
          "output_type": "stream",
          "name": "stdout",
          "text": [
            "CUDA is available!  Training on GPU ...\n"
          ]
        }
      ]
    },
    {
      "cell_type": "code",
      "source": [
        "from google.colab import drive\n",
        "\n",
        "drive.mount('/content/drive') \n",
        "DIR_PATH = '/content/drive/MyDrive/Deep learning 05107255/Homework1/'\n"
      ],
      "metadata": {
        "id": "vi-w4-nU8E_v"
      },
      "execution_count": null,
      "outputs": []
    },
    {
      "cell_type": "markdown",
      "source": [
        "# Load Data"
      ],
      "metadata": {
        "id": "gtk2Ghfcf5FF"
      }
    },
    {
      "cell_type": "code",
      "source": [
        "ssl._create_default_https_context = ssl._create_unverified_context\n",
        "\n",
        "# number of subprocesses to use for data loading\n",
        "num_workers = 0\n",
        "# how many samples per batch to load\n",
        "batch_size = 30\n",
        "# percentage of training set to use as validation\n",
        "valid_size = 0.2\n",
        "\n",
        "# convert data to a normalized torch.FloatTensor\n",
        "transform = transforms.Compose([\n",
        "    transforms.Resize((32, 32)),\n",
        "    transforms.ToTensor(),\n",
        "    ])\n",
        "\n",
        "# choose the training and test datasets\n",
        "train_data = datasets.FashionMNIST('data', train=True,\n",
        "                                   download=True, transform=transform)\n",
        "test_data = datasets.FashionMNIST('data', train=False,\n",
        "                                  download=True, transform=transform)\n",
        "\n",
        "# obtain training indices that will be used for validation\n",
        "num_train = len(train_data)\n",
        "indices = list(range(num_train))\n",
        "np.random.shuffle(indices)\n",
        "split = int(np.floor(valid_size * num_train))\n",
        "train_idx, valid_idx = indices[split:], indices[:split]\n",
        "\n",
        "# define samplers for obtaining training and validation batches\n",
        "train_sampler = SubsetRandomSampler(train_idx)\n",
        "valid_sampler = SubsetRandomSampler(valid_idx)\n",
        "\n",
        "# prepare data loaders (combine dataset and sampler)\n",
        "train_loader = torch.utils.data.DataLoader(train_data, batch_size=batch_size,\n",
        "    sampler=train_sampler, num_workers=num_workers)\n",
        "valid_loader = torch.utils.data.DataLoader(train_data, batch_size=batch_size, \n",
        "    sampler=valid_sampler, num_workers=num_workers)\n",
        "test_loader = torch.utils.data.DataLoader(test_data, batch_size=batch_size, \n",
        "    num_workers=num_workers)\n",
        "\n",
        "# specify the image classes\n",
        "classes = ['T-shirt', 'Trouser', 'Pullover', 'Dress', 'Coat',\n",
        "           'Sandal', 'Shirt', 'Sneaker', 'Bag', 'Ankle boot']\n"
      ],
      "metadata": {
        "id": "M1DG1wlHf6wX"
      },
      "execution_count": 7,
      "outputs": []
    },
    {
      "cell_type": "markdown",
      "source": [
        "# Visualize a batch of training data\n",
        "\n"
      ],
      "metadata": {
        "id": "DCJ6ceeGhQaq"
      }
    },
    {
      "cell_type": "code",
      "source": [
        "dataiter = iter(train_loader)\n",
        "images, labels = dataiter.next()\n",
        "\n",
        "plt.figure(figsize=(10,10))\n",
        "grid = torchvision.utils.make_grid(tensor=images, nrow=10)\n",
        "grid = np.clip(grid,0,1)\n",
        "plt.imshow(X=np.transpose(grid, axes=(1,2,0)), cmap=\"gray\");\n"
      ],
      "metadata": {
        "colab": {
          "base_uri": "https://localhost:8080/",
          "height": 221
        },
        "id": "MOsfNDBahzsx",
        "outputId": "14d7371a-94c1-4755-bf30-342c32212962"
      },
      "execution_count": 8,
      "outputs": [
        {
          "output_type": "display_data",
          "data": {
            "image/png": "[encoded data removed]",
            "text/plain": [
              "<Figure size 720x720 with 1 Axes>"
            ]
          },
          "metadata": {
            "needs_background": "light"
          }
        }
      ]
    },
    {
      "cell_type": "markdown",
      "source": [
        "# Define The Network"
      ],
      "metadata": {
        "id": "fRi79y8TnjN9"
      }
    },
    {
      "cell_type": "code",
      "source": [
        "import torch.nn as nn\n",
        "import torch.nn.functional as F\n",
        "\n",
        "# define the CNN architecture\n",
        "class LeNet5(nn.Module):\n",
        "    def __init__(self, n_classes=10, use_dropout=False, use_batchnorm=False):\n",
        "        super(LeNet5, self).__init__()\n",
        "        # convolutional layer (sees 32x32x1 image tensor)\n",
        "        self.conv1 = nn.Conv2d(in_channels=1, out_channels=6, kernel_size=5, stride=1)\n",
        "        self.conv1_bn = nn.BatchNorm2d(6)\n",
        "        # convolutional layer (sees 28x28x6 tensor)\n",
        "        self.conv2 = nn.Conv2d(in_channels=6, out_channels=16, kernel_size=5, stride=1)\n",
        "        self.conv2_bn = nn.BatchNorm2d(16)\n",
        "        # convolutional layer (sees 10x10x16 tensor)\n",
        "        self.conv3 = nn.Conv2d(in_channels=16, out_channels=120, kernel_size=5,stride=1)\n",
        "        self.conv3_bn = nn.BatchNorm2d(120)\n",
        "        # max pooling layer\n",
        "        self.avg_pool = nn.AvgPool2d(kernel_size=2, stride=2)\n",
        "        # Flatten \n",
        "        self.flatten = nn.Flatten(start_dim=1)\n",
        "        # linear layer sees 120 -> 84\n",
        "        self.fc1 = nn.Linear(in_features=120 , out_features=84)\n",
        "        self.fc1_bn = nn.BatchNorm1d(84)\n",
        "        # linear layer (84 -> n_classes)\n",
        "        self.fc2 = nn.Linear(in_features=84 , out_features=n_classes)\n",
        "        self.fc2_bn = nn.BatchNorm1d(n_classes)\n",
        "        # dropout layer (p=0.25)\n",
        "        self.dropout = nn.Dropout(0.25)\n",
        "\n",
        "        self.use_dropout = use_dropout\n",
        "        self.use_batchnorm = use_batchnorm\n",
        "\n",
        "    def forward(self, x):\n",
        "        # add sequence of convolutional and max pooling layers\n",
        "        x = self.conv1(x)\n",
        "        if self.use_batchnorm:\n",
        "          x = self.conv1_bn(x)\n",
        "        x = self.avg_pool(torch.tanh(x))\n",
        "        if self.use_dropout:\n",
        "          x = self.dropout(x)\n",
        "        \n",
        "        x = self.conv2(x)\n",
        "        if self.use_batchnorm:\n",
        "          x = self.conv2_bn(x)\n",
        "        x = self.avg_pool(torch.tanh(x))\n",
        "        if self.use_dropout:\n",
        "          x = self.dropout(x)\n",
        "\n",
        "        x = self.conv3(x)\n",
        "        if self.use_batchnorm:\n",
        "          x = self.conv3_bn(x)\n",
        "        x = torch.tanh(x)\n",
        "        if self.use_dropout:\n",
        "          x = self.dropout(x)\n",
        "\n",
        "        # flatten image input\n",
        "        x = x.view(-1, 120)\n",
        "        # add dropout layer\n",
        "        # x = self.dropout(x)\n",
        "        # add 1st hidden layer, with relu activation function\n",
        "        x = torch.relu(self.fc1(x))\n",
        "        if self.use_batchnorm:\n",
        "          x = self.fc1_bn(x)\n",
        "        if self.use_dropout:\n",
        "          x = self.dropout(x)\n",
        "        # add dropout layer\n",
        "        # x = self.dropout(x)\n",
        "        # add 2nd hidden layer, with relu activation function\n",
        "        x = self.fc2(x)\n",
        "        if self.use_batchnorm:\n",
        "          x = self.fc2_bn(x)\n",
        "        return x\n",
        "\n",
        "# create a complete CNN\n",
        "num_classes = 10\n",
        "model = LeNet5(num_classes, use_dropout=False, use_batchnorm=False).to(DEVICE)\n",
        "print(model)"
      ],
      "metadata": {
        "colab": {
          "base_uri": "https://localhost:8080/"
        },
        "id": "tdJaEsz6nlck",
        "outputId": "54641a4a-e7a0-4b94-9cb0-a5adde022990"
      },
      "execution_count": 20,
      "outputs": [
        {
          "output_type": "stream",
          "name": "stdout",
          "text": [
            "LeNet5(\n",
            "  (conv1): Conv2d(1, 6, kernel_size=(5, 5), stride=(1, 1))\n",
            "  (conv1_bn): BatchNorm2d(6, eps=1e-05, momentum=0.1, affine=True, track_running_stats=True)\n",
            "  (conv2): Conv2d(6, 16, kernel_size=(5, 5), stride=(1, 1))\n",
            "  (conv2_bn): BatchNorm2d(16, eps=1e-05, momentum=0.1, affine=True, track_running_stats=True)\n",
            "  (conv3): Conv2d(16, 120, kernel_size=(5, 5), stride=(1, 1))\n",
            "  (conv3_bn): BatchNorm2d(120, eps=1e-05, momentum=0.1, affine=True, track_running_stats=True)\n",
            "  (avg_pool): AvgPool2d(kernel_size=2, stride=2, padding=0)\n",
            "  (flatten): Flatten(start_dim=1, end_dim=-1)\n",
            "  (fc1): Linear(in_features=120, out_features=84, bias=True)\n",
            "  (fc1_bn): BatchNorm1d(84, eps=1e-05, momentum=0.1, affine=True, track_running_stats=True)\n",
            "  (fc2): Linear(in_features=84, out_features=10, bias=True)\n",
            "  (fc2_bn): BatchNorm1d(10, eps=1e-05, momentum=0.1, affine=True, track_running_stats=True)\n",
            "  (dropout): Dropout(p=0.25, inplace=False)\n",
            ")\n"
          ]
        }
      ]
    },
    {
      "cell_type": "markdown",
      "source": [
        "# Specify Loss function & Optimizer"
      ],
      "metadata": {
        "id": "u1aHZXLZwVmt"
      }
    },
    {
      "cell_type": "code",
      "source": [
        "import torch.optim as optim\n",
        "\n",
        "# specify loss function (categorical cross-entropy)\n",
        "criterion = nn.CrossEntropyLoss()\n",
        "\n",
        "# specify optimizer\n",
        "# optimizer = optim.SGD(model.parameters(), lr=0.01)\n",
        "optimizer = torch.optim.Adam(model.parameters(), lr=0.001)"
      ],
      "metadata": {
        "id": "24RpP6W2iWlf"
      },
      "execution_count": 10,
      "outputs": []
    },
    {
      "cell_type": "markdown",
      "source": [
        "# Functions For Training the network"
      ],
      "metadata": {
        "id": "p7loJrsbwg3x"
      }
    },
    {
      "cell_type": "code",
      "source": [
        "def compute_model_accuracy(model, data_loader, is_gpu_available):\n",
        "    \n",
        "    correct_pred = 0 \n",
        "    num_examples = 0\n",
        "    \n",
        "    with torch.no_grad():\n",
        "        model.eval()\n",
        "        for data, target in data_loader:\n",
        "            if is_gpu_available:\n",
        "                data, target = data.cuda(), target.cuda()\n",
        "\n",
        "            output = model(data)\n",
        "            _, predicted_labels = torch.max(output, 1) \n",
        "            \n",
        "            num_examples += target.size(0)\n",
        "            correct_pred += (predicted_labels == target).sum()\n",
        "\n",
        "    return correct_pred.float() / num_examples\n",
        "    \n",
        "# --------------------------------------------------------------------------------------------------\n",
        "def train(train_loader, model, criterion, optimizer, is_gpu_available):\n",
        "    running_loss = 0.0\n",
        "    model.train()\n",
        "    for data, target in train_loader:\n",
        "        # move tensors to GPU if CUDA is available\n",
        "        if is_gpu_available:\n",
        "            data, target = data.cuda(), target.cuda()\n",
        "        # clear the gradients of all optimized variables\n",
        "        optimizer.zero_grad()\n",
        "        # forward pass: compute predicted outputs by passing inputs to the model\n",
        "        output = model(data)\n",
        "        # calculate the batch loss\n",
        "        loss = criterion(output, target)\n",
        "        # backward pass: compute gradient of the loss with respect to model parameters\n",
        "        loss.backward()\n",
        "        # perform a single optimization step (parameter update)\n",
        "        optimizer.step()\n",
        "        # update training loss\n",
        "        running_loss += loss.item()*data.size(0)\n",
        "\n",
        "    epoch_loss = running_loss / len(train_loader.dataset)\n",
        "    return model, optimizer, epoch_loss\n",
        "# --------------------------------------------------------------------------------------------------\n",
        "def validate(test_loader, model, criterion, is_gpu_available):\n",
        "    running_loss = 0.0\n",
        "\n",
        "    model.eval()\n",
        "    for data, target in valid_loader:\n",
        "        # move tensors to GPU if CUDA is available\n",
        "        if is_gpu_available:\n",
        "            data, target = data.cuda(), target.cuda()\n",
        "        # forward pass: compute predicted outputs by passing inputs to the model\n",
        "        output = model(data)\n",
        "        # calculate the batch loss\n",
        "        loss = criterion(output, target)\n",
        "        # update average validation loss \n",
        "        running_loss += loss.item()*data.size(0)\n",
        "    \n",
        "    # calculate average losses\n",
        "    valid_loss = running_loss/len(valid_loader.sampler)\n",
        "               \n",
        "    return model, valid_loss      \n",
        "# --------------------------------------------------------------------------------------------------\n",
        "def training_loop(model,\n",
        "                  criterion,\n",
        "                  optimizer,\n",
        "                  train_loader,\n",
        "                  test_loader,\n",
        "                  epochs,\n",
        "                  is_gpu_available,\n",
        "                  log_dir: str = None):\n",
        "     \n",
        "    # set objects for storing metrics\n",
        "    train_losses = []\n",
        "    test_losses = []\n",
        "    train_acc_vec = []\n",
        "    test_acc_vec = []\n",
        "\n",
        "    print(f'{datetime.now().time().replace(microsecond=0)} START')\n",
        "\n",
        "    # Train model\n",
        "    for epoch in range(0, epochs):\n",
        "\n",
        "        # training\n",
        "        model, optimizer, train_loss = train(train_loader, model, criterion, optimizer, is_gpu_available)\n",
        "        train_losses.append(train_loss)\n",
        "\n",
        "        # validation\n",
        "        with torch.no_grad():\n",
        "            model, test_loss = validate(test_loader, model, criterion, is_gpu_available)\n",
        "            test_losses.append(test_loss)\n",
        "\n",
        "            train_acc = compute_model_accuracy(model, train_loader, is_gpu_available)\n",
        "            train_acc_vec.append(train_acc.cpu())\n",
        "            test_acc = compute_model_accuracy(model, test_loader, is_gpu_available)\n",
        "            test_acc_vec.append(test_acc.cpu())    \n",
        "      \n",
        "\n",
        "        print(\n",
        "          f'{datetime.now().time().replace(microsecond=0)} --- '\n",
        "          f'Epoch: {epoch}\\t'\n",
        "          f'Train loss: {train_loss:.4f}\\t'\n",
        "          f'Test loss: {test_loss:.4f}\\t'\n",
        "          f'Train accuracy: {train_acc:.4f}\\t'\n",
        "          f'Test accuracy: {test_acc:.4f}'\n",
        "        )\n",
        "\n",
        "    plot_train_and_valid_losses(train_losses, test_losses)\n",
        "    plot_train_and_valid_acc(train_acc_vec, test_acc_vec)\n",
        "\n",
        "    return model, optimizer, (train_losses, test_losses), (train_acc_vec, test_acc_vec)\n",
        "\n",
        "# --------------------------------------------------------------------------------------------------\n",
        "\n"
      ],
      "metadata": {
        "id": "JCyUbyylwemw"
      },
      "execution_count": 11,
      "outputs": []
    },
    {
      "cell_type": "markdown",
      "source": [
        "# Plotting & Helper Functions"
      ],
      "metadata": {
        "id": "Wx-e42Ks5T1r"
      }
    },
    {
      "cell_type": "code",
      "source": [
        "def plot_train_and_valid_losses(train_losses, test_losses):\n",
        "  \n",
        "    train_losses = np.array(train_losses) \n",
        "    test_losses = np.array(test_losses)\n",
        "\n",
        "    fig, ax = plt.subplots(figsize = (8, 4.5))\n",
        "\n",
        "    ax.plot(train_losses, color='blue', label='Training loss') \n",
        "    ax.plot(test_losses, color='red', label='Validation loss')\n",
        "    ax.set(title=\"Loss over epochs\", \n",
        "            xlabel='Epoch',\n",
        "            ylabel='Loss') \n",
        "    ax.legend()\n",
        "    fig.show()\n",
        "    \n",
        "# --------------------------------------------------------------------------------------------------\n",
        "def plot_train_and_valid_acc(train_acc, valid_acc):\n",
        "\n",
        "    train_acc = np.array(train_acc) \n",
        "    valid_acc = np.array(valid_acc)\n",
        "\n",
        "    fig, ax = plt.subplots(figsize = (8, 4.5))\n",
        "\n",
        "    ax.plot(train_acc, color='blue', label='Training Accuracy') \n",
        "    ax.plot(valid_acc, color='red', label='Validation Accuracy')\n",
        "    ax.set(title=\"Accuracy over epochs\", \n",
        "            xlabel='Epoch',\n",
        "            ylabel='Loss') \n",
        "    ax.legend()\n",
        "    fig.show()\n",
        "# --------------------------------------------------------------------------------------------------\n",
        "def save_model(model, optimizer, train_type=None):\n",
        "  # create checkpints folder\n",
        "  checkpoint_folder = os.path.join(DIR_PATH, 'checkpoints')\n",
        "  os.makedirs(checkpoint_folder, exist_ok=True)\n",
        "  # save model\n",
        "  curr_datetime = datetime.now().strftime(\"%y_%m_%d_%H:%M:%S\")\n",
        "  model_name = f'{curr_datetime}'.replace(':', '_')\n",
        "  if train_type:\n",
        "    model_name = train_type + '_' + model_name\n",
        "  ckpt_path = os.path.join(checkpoint_folder, f'{model_name}.ckpt')\n",
        "  torch.save({\n",
        "    'model_state_dict': model.state_dict(),\n",
        "    'optimizer_state_dict': optimizer.state_dict(),\n",
        "  }, ckpt_path)\n",
        "\n",
        "  print(f'model saved to \"{ckpt_path}\"')\n",
        "# --------------------------------------------------------------------------------------------------"
      ],
      "metadata": {
        "id": "bgpUtuTA5WGJ"
      },
      "execution_count": 34,
      "outputs": []
    },
    {
      "cell_type": "markdown",
      "source": [
        "# Train the Network"
      ],
      "metadata": {
        "id": "18gNH2jfkmJW"
      }
    },
    {
      "cell_type": "code",
      "source": [
        "num_epochs = 2\n",
        "\n",
        "# basic network\n",
        "model = LeNet5(num_classes, use_dropout=False, use_batchnorm=False).to(DEVICE)\n",
        "optimizer = torch.optim.Adam(model.parameters(), lr=0.001)\n",
        "model, optimizer, _, _ = training_loop(model, criterion, optimizer, train_loader, test_loader, num_epochs, is_gpu_available)\n",
        "save_model(model, optimizer, train_type='basic')\n",
        "\n",
        "# using dropout\n",
        "model = LeNet5(num_classes, use_dropout=True, use_batchnorm=False).to(DEVICE)\n",
        "model, optimizer, _, _ = training_loop(model, criterion, optimizer,\n",
        "                                       train_loader, test_loader,\n",
        "                                       num_epochs, is_gpu_available)\n",
        "save_model(model, optimizer, train_type='dropout')\n",
        "\n",
        "# using weight decay\n",
        "model = LeNet5(num_classes, use_dropout=False, use_batchnorm=False).to(DEVICE)\n",
        "optimizer = torch.optim.Adam(model.parameters(), lr=0.001, weight_decay=1)\n",
        "model, optimizer, _, _ = training_loop(model, criterion, optimizer,\n",
        "                                       train_loader, test_loader,\n",
        "                                       num_epochs, is_gpu_available)\n",
        "save_model(model, optimizer, train_type='weight_decay')\n",
        "\n",
        "# using batch normalization\n",
        "model = LeNet5(num_classes, use_dropout=False, use_batchnorm=True).to(DEVICE)\n",
        "model, optimizer, _, _ = training_loop(model, criterion, optimizer,\n",
        "                                       train_loader, test_loader,\n",
        "                                       num_epochs, is_gpu_available)\n",
        "save_model(model, optimizer, train_type='batch_norm')\n",
        "\n",
        " "
      ],
      "metadata": {
        "id": "OJqCO1l5kqOM"
      },
      "execution_count": null,
      "outputs": []
    },
    {
      "cell_type": "code",
      "source": [
        ""
      ],
      "metadata": {
        "id": "AbkmJpIGXgTF"
      },
      "execution_count": null,
      "outputs": []
    }
  ]
}